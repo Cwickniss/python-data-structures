{
 "cells": [
  {
   "cell_type": "markdown",
   "id": "041c2a11",
   "metadata": {},
   "source": [
    "# Sets\n",
    "Sets are a collection that:\n",
    "- have no order\n",
    "- cannot contain duplicates\n",
    "- cannot access individual items (except by iterating over)\n",
    "\n",
    "## Brief summary of Python sets\n",
    "### Creating sets"
   ]
  },
  {
   "cell_type": "code",
   "execution_count": 1,
   "id": "caeeafe6",
   "metadata": {},
   "outputs": [
    {
     "data": {
      "text/plain": [
       "set()"
      ]
     },
     "execution_count": 1,
     "metadata": {},
     "output_type": "execute_result"
    }
   ],
   "source": [
    "set()"
   ]
  },
  {
   "cell_type": "code",
   "execution_count": 2,
   "id": "1f0bd820",
   "metadata": {},
   "outputs": [
    {
     "data": {
      "text/plain": [
       "{'a', 'b'}"
      ]
     },
     "execution_count": 2,
     "metadata": {},
     "output_type": "execute_result"
    }
   ],
   "source": [
    "{'a', 'b'}"
   ]
  },
  {
   "cell_type": "code",
   "execution_count": 3,
   "id": "f06338d6",
   "metadata": {},
   "outputs": [
    {
     "data": {
      "text/plain": [
       "{1, 2, 3}"
      ]
     },
     "execution_count": 3,
     "metadata": {},
     "output_type": "execute_result"
    }
   ],
   "source": [
    "set((1, 2, 1, 3))  # pass any iterable in"
   ]
  },
  {
   "cell_type": "markdown",
   "id": "d0f9c3f3",
   "metadata": {},
   "source": [
    "You can also build sets using **set comprehensions**"
   ]
  },
  {
   "cell_type": "code",
   "execution_count": 4,
   "id": "225fb891",
   "metadata": {},
   "outputs": [
    {
     "data": {
      "text/plain": [
       "{1, 4, 16, 64, 256}"
      ]
     },
     "execution_count": 4,
     "metadata": {},
     "output_type": "execute_result"
    }
   ],
   "source": [
    "{2 ** i for i in range(0, 10, 2)}"
   ]
  },
  {
   "cell_type": "markdown",
   "id": "47579548",
   "metadata": {},
   "source": [
    "We will look more at set comprehensions in the second hour of the class."
   ]
  },
  {
   "cell_type": "markdown",
   "id": "109e3b64",
   "metadata": {},
   "source": [
    "### Valid set values\n",
    "`set` **elements** must be __hashable__. Basically, if it's a builtin type, it can't be mutable (like `list`,\n",
    "`dict` or `set`). If it's a custom class, it must implement a special method for hashing and checking equality.\n",
    "\n",
    "Elements use `==` to determine key equality. So `1`, `1.0` and `True` all map to the same element."
   ]
  },
  {
   "cell_type": "code",
   "execution_count": 5,
   "id": "78378a5c",
   "metadata": {},
   "outputs": [
    {
     "data": {
      "text/plain": [
       "{(1,), '1', True}"
      ]
     },
     "execution_count": 5,
     "metadata": {},
     "output_type": "execute_result"
    }
   ],
   "source": [
    "{True, 1, 1.0, '1', (1,)}"
   ]
  },
  {
   "cell_type": "code",
   "execution_count": 6,
   "id": "052c84d5",
   "metadata": {},
   "outputs": [
    {
     "name": "stdout",
     "output_type": "stream",
     "text": [
      "TypeError(\"unhashable type: 'list'\")\n"
     ]
    }
   ],
   "source": [
    "try:\n",
    "    {[1, 2]}\n",
    "except Exception as e:\n",
    "    print(repr(e))"
   ]
  },
  {
   "cell_type": "markdown",
   "id": "e92e21eb",
   "metadata": {},
   "source": [
    "## Updating contents"
   ]
  },
  {
   "cell_type": "code",
   "execution_count": 7,
   "id": "7aebd572",
   "metadata": {},
   "outputs": [],
   "source": [
    "s = {1, 2}"
   ]
  },
  {
   "cell_type": "code",
   "execution_count": 8,
   "id": "229916b3",
   "metadata": {},
   "outputs": [
    {
     "data": {
      "text/plain": [
       "{1, 2, 3}"
      ]
     },
     "execution_count": 8,
     "metadata": {},
     "output_type": "execute_result"
    }
   ],
   "source": [
    "s.add(3)\n",
    "s"
   ]
  },
  {
   "cell_type": "code",
   "execution_count": 9,
   "id": "f0357ec7",
   "metadata": {},
   "outputs": [
    {
     "data": {
      "text/plain": [
       "{1, 2, 3}"
      ]
     },
     "execution_count": 9,
     "metadata": {},
     "output_type": "execute_result"
    }
   ],
   "source": [
    "s.add(1)  # Already exists, so no change\n",
    "s"
   ]
  },
  {
   "cell_type": "code",
   "execution_count": 10,
   "id": "23d1cc32",
   "metadata": {},
   "outputs": [
    {
     "data": {
      "text/plain": [
       "{1, 2, 3, 4}"
      ]
     },
     "execution_count": 10,
     "metadata": {},
     "output_type": "execute_result"
    }
   ],
   "source": [
    "s.update([1, 2, 3, 4])\n",
    "s"
   ]
  },
  {
   "cell_type": "code",
   "execution_count": 11,
   "id": "98cad827",
   "metadata": {},
   "outputs": [
    {
     "data": {
      "text/plain": [
       "{1, 2, 3, 4, 5}"
      ]
     },
     "execution_count": 11,
     "metadata": {},
     "output_type": "execute_result"
    }
   ],
   "source": [
    "s.update({1: 'a', 5: 'e'})  # Only adds keys\n",
    "s"
   ]
  },
  {
   "cell_type": "code",
   "execution_count": 12,
   "id": "f0a7b5ef",
   "metadata": {},
   "outputs": [
    {
     "data": {
      "text/plain": [
       "{2, 3, 4, 5}"
      ]
     },
     "execution_count": 12,
     "metadata": {},
     "output_type": "execute_result"
    }
   ],
   "source": [
    "s.remove(1)  # element must be in set\n",
    "s"
   ]
  },
  {
   "cell_type": "code",
   "execution_count": 13,
   "id": "08f63ddf",
   "metadata": {},
   "outputs": [
    {
     "name": "stdout",
     "output_type": "stream",
     "text": [
      "KeyError(-1)\n"
     ]
    }
   ],
   "source": [
    "try:\n",
    "    s.remove(-1)\n",
    "except Exception as e:\n",
    "    print(repr(e))"
   ]
  },
  {
   "cell_type": "code",
   "execution_count": 14,
   "id": "414d792c",
   "metadata": {},
   "outputs": [
    {
     "data": {
      "text/plain": [
       "{2, 3, 4}"
      ]
     },
     "execution_count": 14,
     "metadata": {},
     "output_type": "execute_result"
    }
   ],
   "source": [
    "s.discard(5)  # element doesn't need to be in set\n",
    "s"
   ]
  },
  {
   "cell_type": "code",
   "execution_count": 15,
   "id": "181c1207",
   "metadata": {},
   "outputs": [],
   "source": [
    "s.discard(-1)  # no error thrown"
   ]
  },
  {
   "cell_type": "markdown",
   "id": "24ae817d",
   "metadata": {},
   "source": [
    "## Getting contents\n",
    "You can `.pop()` a random element from the set. There's no way of accessing a specific item."
   ]
  },
  {
   "cell_type": "code",
   "execution_count": 16,
   "id": "ed44cc2f",
   "metadata": {},
   "outputs": [
    {
     "data": {
      "text/plain": [
       "2"
      ]
     },
     "execution_count": 16,
     "metadata": {},
     "output_type": "execute_result"
    }
   ],
   "source": [
    "s.pop()"
   ]
  },
  {
   "cell_type": "code",
   "execution_count": 17,
   "id": "2cc60b8b",
   "metadata": {},
   "outputs": [
    {
     "data": {
      "text/plain": [
       "{3, 4}"
      ]
     },
     "execution_count": 17,
     "metadata": {},
     "output_type": "execute_result"
    }
   ],
   "source": [
    "s"
   ]
  },
  {
   "cell_type": "markdown",
   "id": "f6594c89",
   "metadata": {},
   "source": [
    "## Checking containment"
   ]
  },
  {
   "cell_type": "code",
   "execution_count": 18,
   "id": "ea04ee14",
   "metadata": {},
   "outputs": [],
   "source": [
    "s = {1, 2}"
   ]
  },
  {
   "cell_type": "markdown",
   "id": "7926597f",
   "metadata": {},
   "source": [
    "### Of an element"
   ]
  },
  {
   "cell_type": "code",
   "execution_count": 19,
   "id": "3f1255c9",
   "metadata": {},
   "outputs": [
    {
     "data": {
      "text/plain": [
       "True"
      ]
     },
     "execution_count": 19,
     "metadata": {},
     "output_type": "execute_result"
    }
   ],
   "source": [
    "1 in s"
   ]
  },
  {
   "cell_type": "code",
   "execution_count": 20,
   "id": "df026faa",
   "metadata": {},
   "outputs": [
    {
     "data": {
      "text/plain": [
       "False"
      ]
     },
     "execution_count": 20,
     "metadata": {},
     "output_type": "execute_result"
    }
   ],
   "source": [
    "3 in s"
   ]
  },
  {
   "cell_type": "markdown",
   "id": "7bb68ecf",
   "metadata": {},
   "source": [
    "### Of another set\n",
    "`.issuperset(other)`: does __set__ fully contain __other__"
   ]
  },
  {
   "cell_type": "code",
   "execution_count": 21,
   "id": "ceea56f8",
   "metadata": {},
   "outputs": [
    {
     "data": {
      "text/plain": [
       "True"
      ]
     },
     "execution_count": 21,
     "metadata": {},
     "output_type": "execute_result"
    }
   ],
   "source": [
    "s.issuperset({2,})"
   ]
  },
  {
   "cell_type": "code",
   "execution_count": 22,
   "id": "ef0988b2",
   "metadata": {},
   "outputs": [
    {
     "data": {
      "text/plain": [
       "False"
      ]
     },
     "execution_count": 22,
     "metadata": {},
     "output_type": "execute_result"
    }
   ],
   "source": [
    "s.issuperset({2, 3})"
   ]
  },
  {
   "cell_type": "markdown",
   "id": "308be504",
   "metadata": {},
   "source": [
    "`.issubset(other)`: does __other__ fully contain __set__"
   ]
  },
  {
   "cell_type": "code",
   "execution_count": 23,
   "id": "49842c0b",
   "metadata": {},
   "outputs": [
    {
     "data": {
      "text/plain": [
       "True"
      ]
     },
     "execution_count": 23,
     "metadata": {},
     "output_type": "execute_result"
    }
   ],
   "source": [
    "s.issubset({1, 2, 3,})"
   ]
  },
  {
   "cell_type": "code",
   "execution_count": 24,
   "id": "18b2b62b",
   "metadata": {},
   "outputs": [
    {
     "data": {
      "text/plain": [
       "False"
      ]
     },
     "execution_count": 24,
     "metadata": {},
     "output_type": "execute_result"
    }
   ],
   "source": [
    "s.issubset({2, 3})"
   ]
  },
  {
   "cell_type": "markdown",
   "id": "46780de4",
   "metadata": {},
   "source": [
    "`.isdisjoint()`: are there no common elements between __set__ and __other__"
   ]
  },
  {
   "cell_type": "code",
   "execution_count": 25,
   "id": "0f6edfb3",
   "metadata": {},
   "outputs": [
    {
     "data": {
      "text/plain": [
       "True"
      ]
     },
     "execution_count": 25,
     "metadata": {},
     "output_type": "execute_result"
    }
   ],
   "source": [
    "s.isdisjoint({3, 4})"
   ]
  },
  {
   "cell_type": "code",
   "execution_count": 26,
   "id": "080736be",
   "metadata": {},
   "outputs": [
    {
     "data": {
      "text/plain": [
       "False"
      ]
     },
     "execution_count": 26,
     "metadata": {},
     "output_type": "execute_result"
    }
   ],
   "source": [
    "s.isdisjoint({2, 3})"
   ]
  },
  {
   "cell_type": "markdown",
   "id": "060ab2b3",
   "metadata": {},
   "source": [
    "## Looping\n",
    "Sets have an undefined order."
   ]
  },
  {
   "cell_type": "code",
   "execution_count": 27,
   "id": "72ea78e4",
   "metadata": {},
   "outputs": [
    {
     "name": "stdout",
     "output_type": "stream",
     "text": [
      "a\n",
      "c\n",
      "b\n"
     ]
    }
   ],
   "source": [
    "for element in {'a', 'b', 'c'}:\n",
    "    print(element)"
   ]
  },
  {
   "cell_type": "markdown",
   "id": "d5a53ba4",
   "metadata": {},
   "source": [
    "## Set operations\n",
    "You can do most set operations via methods or operators."
   ]
  },
  {
   "cell_type": "code",
   "execution_count": 28,
   "id": "ac5cc9de",
   "metadata": {},
   "outputs": [],
   "source": [
    "odd = {1, 3, 5}"
   ]
  },
  {
   "cell_type": "code",
   "execution_count": 29,
   "id": "51858a19",
   "metadata": {},
   "outputs": [],
   "source": [
    "prime = {2, 3, 5}"
   ]
  },
  {
   "cell_type": "markdown",
   "id": "be1a5c38",
   "metadata": {},
   "source": [
    "### Union\n",
    "All elements in either A or B"
   ]
  },
  {
   "cell_type": "code",
   "execution_count": 30,
   "id": "1084db1d",
   "metadata": {},
   "outputs": [
    {
     "data": {
      "text/plain": [
       "{1, 2, 3, 5}"
      ]
     },
     "execution_count": 30,
     "metadata": {},
     "output_type": "execute_result"
    }
   ],
   "source": [
    "odd.union(prime)"
   ]
  },
  {
   "cell_type": "code",
   "execution_count": 31,
   "id": "5817d61e",
   "metadata": {},
   "outputs": [
    {
     "data": {
      "text/plain": [
       "{1, 2, 3, 5}"
      ]
     },
     "execution_count": 31,
     "metadata": {},
     "output_type": "execute_result"
    }
   ],
   "source": [
    "odd | prime"
   ]
  },
  {
   "cell_type": "markdown",
   "id": "f152a945",
   "metadata": {},
   "source": [
    "### Intersection\n",
    "All elements in both A and B"
   ]
  },
  {
   "cell_type": "code",
   "execution_count": 32,
   "id": "9ab52d2b",
   "metadata": {},
   "outputs": [
    {
     "data": {
      "text/plain": [
       "{3, 5}"
      ]
     },
     "execution_count": 32,
     "metadata": {},
     "output_type": "execute_result"
    }
   ],
   "source": [
    "odd.intersection(prime)"
   ]
  },
  {
   "cell_type": "code",
   "execution_count": 33,
   "id": "650ef585",
   "metadata": {},
   "outputs": [
    {
     "data": {
      "text/plain": [
       "{3, 5}"
      ]
     },
     "execution_count": 33,
     "metadata": {},
     "output_type": "execute_result"
    }
   ],
   "source": [
    "odd & prime"
   ]
  },
  {
   "cell_type": "markdown",
   "id": "7739b1bf",
   "metadata": {},
   "source": [
    "### Difference\n",
    "Elements in A but not B"
   ]
  },
  {
   "cell_type": "code",
   "execution_count": 34,
   "id": "b1c5fac9",
   "metadata": {},
   "outputs": [
    {
     "data": {
      "text/plain": [
       "{1}"
      ]
     },
     "execution_count": 34,
     "metadata": {},
     "output_type": "execute_result"
    }
   ],
   "source": [
    "odd.difference(prime)"
   ]
  },
  {
   "cell_type": "code",
   "execution_count": 35,
   "id": "c2f168f2",
   "metadata": {},
   "outputs": [
    {
     "data": {
      "text/plain": [
       "{2}"
      ]
     },
     "execution_count": 35,
     "metadata": {},
     "output_type": "execute_result"
    }
   ],
   "source": [
    "prime.difference(odd)"
   ]
  },
  {
   "cell_type": "code",
   "execution_count": 36,
   "id": "120b5f05",
   "metadata": {},
   "outputs": [
    {
     "data": {
      "text/plain": [
       "{1}"
      ]
     },
     "execution_count": 36,
     "metadata": {},
     "output_type": "execute_result"
    }
   ],
   "source": [
    "odd - prime"
   ]
  },
  {
   "cell_type": "code",
   "execution_count": 37,
   "id": "d3d7f9d9",
   "metadata": {},
   "outputs": [
    {
     "data": {
      "text/plain": [
       "{2}"
      ]
     },
     "execution_count": 37,
     "metadata": {},
     "output_type": "execute_result"
    }
   ],
   "source": [
    "prime - odd"
   ]
  },
  {
   "cell_type": "markdown",
   "id": "5805eb11",
   "metadata": {},
   "source": [
    "### Symmetric difference\n",
    "Elements in either A or B but not both"
   ]
  },
  {
   "cell_type": "code",
   "execution_count": 38,
   "id": "81ab6d8a",
   "metadata": {},
   "outputs": [
    {
     "data": {
      "text/plain": [
       "{1, 2}"
      ]
     },
     "execution_count": 38,
     "metadata": {},
     "output_type": "execute_result"
    }
   ],
   "source": [
    "odd.symmetric_difference(prime)"
   ]
  },
  {
   "cell_type": "code",
   "execution_count": 39,
   "id": "9b3aaa88",
   "metadata": {},
   "outputs": [
    {
     "data": {
      "text/plain": [
       "{1, 2}"
      ]
     },
     "execution_count": 39,
     "metadata": {},
     "output_type": "execute_result"
    }
   ],
   "source": [
    "odd ^ prime"
   ]
  }
 ],
 "metadata": {
  "jupytext": {
   "cell_metadata_filter": "-all",
   "formats": "auto:light,ipynb",
   "main_language": "python",
   "notebook_metadata_filter": "-all"
  },
  "kernelspec": {
   "display_name": "Python 3 (ipykernel)",
   "language": "python",
   "name": "python3"
  },
  "language_info": {
   "codemirror_mode": {
    "name": "ipython",
    "version": 3
   },
   "file_extension": ".py",
   "mimetype": "text/x-python",
   "name": "python",
   "nbconvert_exporter": "python",
   "pygments_lexer": "ipython3",
   "version": "3.9.2"
  }
 },
 "nbformat": 4,
 "nbformat_minor": 5
}
