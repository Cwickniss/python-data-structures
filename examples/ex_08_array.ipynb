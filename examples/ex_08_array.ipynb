{
 "cells": [
  {
   "cell_type": "markdown",
   "id": "01ede943",
   "metadata": {},
   "source": [
    "# array.array\n",
    "[Documentation](https://docs.python.org/3/library/array.html)"
   ]
  },
  {
   "cell_type": "code",
   "execution_count": 1,
   "id": "b21a086d",
   "metadata": {},
   "outputs": [],
   "source": [
    "import array"
   ]
  },
  {
   "cell_type": "markdown",
   "id": "146e6cf5",
   "metadata": {},
   "source": [
    "Must declare the type of data it holds:\n",
    "- `'f'` - float\n",
    "- `'i'` - integer\n",
    "- `'u'` - Unicode character\n",
    "\n",
    "More types in [documentation](https://docs.python.org/3/library/array.html)"
   ]
  },
  {
   "cell_type": "code",
   "execution_count": 36,
   "id": "479e6ac2",
   "metadata": {},
   "outputs": [
    {
     "data": {
      "text/plain": [
       "array('f', [1.0, 1.5, 2.0, 2.5])"
      ]
     },
     "execution_count": 36,
     "metadata": {},
     "output_type": "execute_result"
    }
   ],
   "source": [
    "arr_f = array.array(\"f\", (1.0, 1.5, 2.0, 2.5))\n",
    "arr_f"
   ]
  },
  {
   "cell_type": "markdown",
   "id": "2605a79b",
   "metadata": {},
   "source": [
    "### Arrays have many similar list methods"
   ]
  },
  {
   "cell_type": "code",
   "execution_count": 38,
   "id": "f2d47420",
   "metadata": {},
   "outputs": [
    {
     "data": {
      "text/plain": [
       "array('f', [1.0, 1.5, 2.0, 2.5, 3.0])"
      ]
     },
     "execution_count": 38,
     "metadata": {},
     "output_type": "execute_result"
    }
   ],
   "source": [
    "arr_f.append(3.0)\n",
    "arr_f"
   ]
  },
  {
   "cell_type": "code",
   "execution_count": 39,
   "id": "84bcb8da",
   "metadata": {},
   "outputs": [
    {
     "data": {
      "text/plain": [
       "array('f', [0.5, 1.0, 1.5, 2.0, 2.5, 3.0])"
      ]
     },
     "execution_count": 39,
     "metadata": {},
     "output_type": "execute_result"
    }
   ],
   "source": [
    "arr_f.insert(0, 0.5)\n",
    "arr_f"
   ]
  },
  {
   "cell_type": "code",
   "execution_count": 40,
   "id": "b53efa21",
   "metadata": {},
   "outputs": [
    {
     "data": {
      "text/plain": [
       "array('f', [3.0, 2.5, 2.0, 1.5, 1.0, 0.5])"
      ]
     },
     "execution_count": 40,
     "metadata": {},
     "output_type": "execute_result"
    }
   ],
   "source": [
    "arr_f.reverse()\n",
    "arr_f"
   ]
  },
  {
   "cell_type": "markdown",
   "id": "b02cd533",
   "metadata": {},
   "source": [
    "### And a few conversion methods"
   ]
  },
  {
   "cell_type": "code",
   "execution_count": 44,
   "id": "340025ec",
   "metadata": {},
   "outputs": [
    {
     "data": {
      "text/plain": [
       "[3.0, 2.5, 2.0, 1.5, 1.0, 0.5]"
      ]
     },
     "execution_count": 44,
     "metadata": {},
     "output_type": "execute_result"
    }
   ],
   "source": [
    "arr_f.tolist()"
   ]
  },
  {
   "cell_type": "code",
   "execution_count": 61,
   "id": "b334b769",
   "metadata": {},
   "outputs": [
    {
     "data": {
      "text/plain": [
       "b'\\x00\\x00@@\\x00\\x00 @\\x00\\x00\\x00@\\x00\\x00\\xc0?\\x00\\x00\\x80?\\x00\\x00\\x00?'"
      ]
     },
     "execution_count": 61,
     "metadata": {},
     "output_type": "execute_result"
    }
   ],
   "source": [
    "arr_f.tobytes()"
   ]
  },
  {
   "cell_type": "markdown",
   "id": "833d9987",
   "metadata": {},
   "source": [
    "### Working with files"
   ]
  },
  {
   "cell_type": "markdown",
   "id": "654fa8ab",
   "metadata": {},
   "source": [
    "You can save arrays to a file as bytes, so use binary `'b'` mode. "
   ]
  },
  {
   "cell_type": "code",
   "execution_count": 58,
   "id": "7aa6a825",
   "metadata": {},
   "outputs": [],
   "source": [
    "with open('array', 'wb') as file:\n",
    "    arr_f.tofile(file)"
   ]
  },
  {
   "cell_type": "code",
   "execution_count": 59,
   "id": "9e018a57",
   "metadata": {},
   "outputs": [
    {
     "data": {
      "text/plain": [
       "array('f', [-1.0, -1.5])"
      ]
     },
     "execution_count": 59,
     "metadata": {},
     "output_type": "execute_result"
    }
   ],
   "source": [
    "arr_f2 = array.array(\"f\", (-1.0, -1.5))\n",
    "arr_f2"
   ]
  },
  {
   "cell_type": "markdown",
   "id": "408aa52c",
   "metadata": {},
   "source": [
    "`.fromfile(file, n)` appends `n` items from the file onto the existing array."
   ]
  },
  {
   "cell_type": "code",
   "execution_count": 60,
   "id": "e79d4905",
   "metadata": {},
   "outputs": [
    {
     "data": {
      "text/plain": [
       "array('f', [-1.0, -1.5, 3.0, 2.5, 2.0])"
      ]
     },
     "execution_count": 60,
     "metadata": {},
     "output_type": "execute_result"
    }
   ],
   "source": [
    "with open('array', 'rb') as file:\n",
    "    arr_f2.fromfile(file, 3)\n",
    "arr_f2"
   ]
  },
  {
   "cell_type": "markdown",
   "id": "d81ca6ff",
   "metadata": {},
   "source": [
    "## Working with chars\n",
    "The `'u'` type stores Unicode characters and prints them like a string (instead of list)."
   ]
  },
  {
   "cell_type": "code",
   "execution_count": 63,
   "id": "e206f323",
   "metadata": {},
   "outputs": [
    {
     "data": {
      "text/plain": [
       "array('u', 'I 💚 🐍')"
      ]
     },
     "execution_count": 63,
     "metadata": {},
     "output_type": "execute_result"
    }
   ],
   "source": [
    "arr_u = array.array('u', 'I 💚 🐍')\n",
    "arr_u"
   ]
  },
  {
   "cell_type": "code",
   "execution_count": 64,
   "id": "50d0cb02",
   "metadata": {},
   "outputs": [
    {
     "data": {
      "text/plain": [
       "array('u', 'I 💚 🐍!')"
      ]
     },
     "execution_count": 64,
     "metadata": {},
     "output_type": "execute_result"
    }
   ],
   "source": [
    "arr_u.append('!')\n",
    "arr_u"
   ]
  },
  {
   "cell_type": "code",
   "execution_count": 67,
   "id": "27602c91",
   "metadata": {},
   "outputs": [
    {
     "name": "stdout",
     "output_type": "stream",
     "text": [
      "<class 'str'>\n",
      "I 💚 🐍!\n"
     ]
    }
   ],
   "source": [
    "as_u = arr_u.tounicode()  # Only works with 'u' type\n",
    "print(type(as_u))\n",
    "print(as_u)"
   ]
  },
  {
   "cell_type": "markdown",
   "id": "93c16508",
   "metadata": {},
   "source": [
    "## Size specific integers\n",
    "In most other languages, integers have a minimum and maximum value.\n",
    "Python increases the memory for integers dynamically behind the scenes, so there is no minimum or maximum value.\n",
    "\n",
    "Since arrays assign a fixed amount of memory for each item, you must specify the number of bytes allocated for integers arrays and whether or not they can store negative numbers (signed vs unsigned).\n",
    "\n",
    "Type to byte list:\n",
    "- `'b'` and `'B'` (char): 1 byte\n",
    "- `'h'` and `'H'` (short): 2 bytes\n",
    "- `'i'` and `'I'` (int): 2 bytes\n",
    "- `'h'` and `'H'` (long): 4 bytes\n",
    "- `'l'` and `'L'` (long long): 8 bytes\n",
    "- `'d'` (double): 8 bytes\n",
    "\n",
    "### 'B': unsigned char\n",
    "This is an unintuitive name. It's basically 1 byte of data as an integer"
   ]
  },
  {
   "cell_type": "code",
   "execution_count": 85,
   "id": "72693763",
   "metadata": {},
   "outputs": [
    {
     "data": {
      "text/plain": [
       "array('B', [0, 255])"
      ]
     },
     "execution_count": 85,
     "metadata": {},
     "output_type": "execute_result"
    }
   ],
   "source": [
    "smallest = 0\n",
    "largest = 2**8 - 1\n",
    "arr_B = array.array(\"B\", (smallest, largest))\n",
    "arr_B"
   ]
  },
  {
   "cell_type": "code",
   "execution_count": 86,
   "id": "ab039865",
   "metadata": {},
   "outputs": [
    {
     "name": "stdout",
     "output_type": "stream",
     "text": [
      "OverflowError('unsigned byte integer is greater than maximum')\n"
     ]
    }
   ],
   "source": [
    "try:\n",
    "    arr_B.append(largest + 1)\n",
    "except Exception as e:\n",
    "    print(repr(e))"
   ]
  },
  {
   "cell_type": "code",
   "execution_count": 87,
   "id": "1f553f40",
   "metadata": {
    "scrolled": true
   },
   "outputs": [
    {
     "name": "stdout",
     "output_type": "stream",
     "text": [
      "OverflowError('unsigned byte integer is less than minimum')\n"
     ]
    }
   ],
   "source": [
    "try:\n",
    "    arr_B.append(smallest - 1)\n",
    "except Exception as e:\n",
    "    print(repr(e))"
   ]
  },
  {
   "cell_type": "markdown",
   "id": "e2674c36",
   "metadata": {},
   "source": [
    "### 'b': signed char\n",
    "Like unsigned char but one bit is used to store the sign."
   ]
  },
  {
   "cell_type": "code",
   "execution_count": 88,
   "id": "d858aa71",
   "metadata": {},
   "outputs": [
    {
     "data": {
      "text/plain": [
       "array('b', [-128, 127])"
      ]
     },
     "execution_count": 88,
     "metadata": {},
     "output_type": "execute_result"
    }
   ],
   "source": [
    "smallest = -(2**7)\n",
    "largest = 2**7 - 1\n",
    "arr_f2 = array.array(\"b\", (smallest, largest))\n",
    "arr_f2"
   ]
  },
  {
   "cell_type": "code",
   "execution_count": 89,
   "id": "cab5752d",
   "metadata": {
    "scrolled": true
   },
   "outputs": [
    {
     "name": "stdout",
     "output_type": "stream",
     "text": [
      "OverflowError('signed char is greater than maximum')\n"
     ]
    }
   ],
   "source": [
    "try:\n",
    "    arr_f2.append(largest + 1)\n",
    "except Exception as e:\n",
    "    print(repr(e))"
   ]
  },
  {
   "cell_type": "markdown",
   "id": "69cdb926",
   "metadata": {},
   "source": [
    "### 'I': unsigned int\n",
    "2 bytes"
   ]
  },
  {
   "cell_type": "code",
   "execution_count": 100,
   "id": "a5e60c7f",
   "metadata": {},
   "outputs": [
    {
     "data": {
      "text/plain": [
       "array('I', [0, 4294967295])"
      ]
     },
     "execution_count": 100,
     "metadata": {},
     "output_type": "execute_result"
    }
   ],
   "source": [
    "smallest = 0\n",
    "largest = 2**32 - 1\n",
    "arr_I = array.array(\"I\", (smallest, largest))\n",
    "arr_I"
   ]
  },
  {
   "cell_type": "code",
   "execution_count": 101,
   "id": "40057968",
   "metadata": {},
   "outputs": [
    {
     "name": "stdout",
     "output_type": "stream",
     "text": [
      "OverflowError('unsigned int is greater than maximum')\n"
     ]
    }
   ],
   "source": [
    "try:\n",
    "    arr_I.append(largest + 1)\n",
    "except Exception as e:\n",
    "    print(repr(e))"
   ]
  },
  {
   "cell_type": "code",
   "execution_count": 102,
   "id": "5f9d59ff",
   "metadata": {
    "scrolled": true
   },
   "outputs": [
    {
     "name": "stdout",
     "output_type": "stream",
     "text": [
      "OverflowError(\"can't convert negative value to unsigned int\")\n"
     ]
    }
   ],
   "source": [
    "try:\n",
    "    arr_I.append(smallest - 1)\n",
    "except Exception as e:\n",
    "    print(repr(e))"
   ]
  },
  {
   "cell_type": "markdown",
   "id": "3340f4a8",
   "metadata": {},
   "source": [
    "### 'i': signed integer\n",
    "2 bytes, with 1 bit to store the sign"
   ]
  },
  {
   "cell_type": "code",
   "execution_count": 106,
   "id": "cf1b98bd",
   "metadata": {},
   "outputs": [
    {
     "data": {
      "text/plain": [
       "array('i', [-2147483648, 2147483647])"
      ]
     },
     "execution_count": 106,
     "metadata": {},
     "output_type": "execute_result"
    }
   ],
   "source": [
    "smallest = -(2**31)\n",
    "largest = 2**31 - 1\n",
    "arr_i = array.array(\"i\", (smallest, largest))\n",
    "arr_i"
   ]
  },
  {
   "cell_type": "code",
   "execution_count": 107,
   "id": "3e182e53",
   "metadata": {},
   "outputs": [
    {
     "name": "stdout",
     "output_type": "stream",
     "text": [
      "OverflowError('signed integer is greater than maximum')\n"
     ]
    }
   ],
   "source": [
    "try:\n",
    "    arr_i.append(largest + 1)\n",
    "except Exception as e:\n",
    "    print(repr(e))"
   ]
  },
  {
   "cell_type": "code",
   "execution_count": 108,
   "id": "10448c29",
   "metadata": {},
   "outputs": [
    {
     "name": "stdout",
     "output_type": "stream",
     "text": [
      "OverflowError('signed integer is less than minimum')\n"
     ]
    }
   ],
   "source": [
    "try:\n",
    "    arr_i.append(smallest - 1)\n",
    "except Exception as e:\n",
    "    print(repr(e))"
   ]
  }
 ],
 "metadata": {
  "jupytext": {
   "cell_metadata_filter": "-all",
   "formats": "auto:light,ipynb",
   "notebook_metadata_filter": "-all"
  },
  "kernelspec": {
   "display_name": "Python 3 (ipykernel)",
   "language": "python",
   "name": "python3"
  },
  "language_info": {
   "codemirror_mode": {
    "name": "ipython",
    "version": 3
   },
   "file_extension": ".py",
   "mimetype": "text/x-python",
   "name": "python",
   "nbconvert_exporter": "python",
   "pygments_lexer": "ipython3",
   "version": "3.9.2"
  }
 },
 "nbformat": 4,
 "nbformat_minor": 5
}
