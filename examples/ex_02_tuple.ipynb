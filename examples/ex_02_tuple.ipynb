{
 "cells": [
  {
   "cell_type": "markdown",
   "metadata": {},
   "source": [
    "# Tuples\n",
    "\n",
    "Immutable (non-modifiable) lists.\n",
    "\n",
    "## Creating tuples"
   ]
  },
  {
   "cell_type": "code",
   "execution_count": 1,
   "metadata": {},
   "outputs": [
    {
     "data": {
      "text/plain": [
       "(1, 2, 3)"
      ]
     },
     "execution_count": 1,
     "metadata": {},
     "output_type": "execute_result"
    }
   ],
   "source": [
    "a = (1, 2, 3)\n",
    "a"
   ]
  },
  {
   "cell_type": "markdown",
   "metadata": {},
   "source": [
    "Be careful with single item tuples. \n",
    "\n",
    "They need a trailing comma or else it's just an expression."
   ]
  },
  {
   "cell_type": "code",
   "execution_count": 2,
   "metadata": {},
   "outputs": [
    {
     "data": {
      "text/plain": [
       "('Hello',)"
      ]
     },
     "execution_count": 2,
     "metadata": {},
     "output_type": "execute_result"
    }
   ],
   "source": [
    "b = ('Hello',)\n",
    "b"
   ]
  },
  {
   "cell_type": "code",
   "execution_count": 3,
   "metadata": {},
   "outputs": [
    {
     "data": {
      "text/plain": [
       "'Goodbye'"
      ]
     },
     "execution_count": 3,
     "metadata": {},
     "output_type": "execute_result"
    }
   ],
   "source": [
    "c = ('Goodbye')\n",
    "c"
   ]
  },
  {
   "cell_type": "markdown",
   "metadata": {},
   "source": [
    "## Slicing and indexing\n",
    "\n",
    "It's done just like lists!\n",
    "\n",
    "## Packing and unpacking\n",
    "\n",
    "**Packing** happens when you don't include the parentheses"
   ]
  },
  {
   "cell_type": "code",
   "execution_count": 4,
   "metadata": {},
   "outputs": [
    {
     "data": {
      "text/plain": [
       "(1.2, 3.4)"
      ]
     },
     "execution_count": 4,
     "metadata": {},
     "output_type": "execute_result"
    }
   ],
   "source": [
    "coords = 1.2, 3.4\n",
    "coords"
   ]
  },
  {
   "cell_type": "markdown",
   "metadata": {},
   "source": [
    "**Unpacking** happens when you expand a `tuple` into multiple variables"
   ]
  },
  {
   "cell_type": "code",
   "execution_count": 5,
   "metadata": {},
   "outputs": [
    {
     "name": "stdout",
     "output_type": "stream",
     "text": [
      "1.2\n",
      "3.4\n"
     ]
    }
   ],
   "source": [
    "lat, lon = coords\n",
    "print(lat)\n",
    "print(lon)"
   ]
  },
  {
   "cell_type": "markdown",
   "metadata": {},
   "source": [
    "## When to use tuples"
   ]
  },
  {
   "cell_type": "markdown",
   "metadata": {},
   "source": [
    "### Swap variable names\n",
    "\n",
    "Use `tuple` packing and unpacking to do neat stuff.\n",
    "\n",
    "Without it, you'd need to introduce a temporary 3rd variable."
   ]
  },
  {
   "cell_type": "code",
   "execution_count": 6,
   "metadata": {},
   "outputs": [
    {
     "name": "stdout",
     "output_type": "stream",
     "text": [
      "-100\n",
      "100\n"
     ]
    }
   ],
   "source": [
    "d = 100\n",
    "e = -100\n",
    "\n",
    "d, e = e, d\n",
    "print(d)\n",
    "print(e)"
   ]
  },
  {
   "cell_type": "markdown",
   "metadata": {},
   "source": [
    "### Represent constants/immutable values"
   ]
  },
  {
   "cell_type": "code",
   "execution_count": 7,
   "metadata": {},
   "outputs": [],
   "source": [
    "paris = (33.66, -95.54)\n",
    "athens = (32.20, -95.85)"
   ]
  },
  {
   "cell_type": "markdown",
   "metadata": {},
   "source": [
    "### Use as dict keys"
   ]
  },
  {
   "cell_type": "code",
   "execution_count": 8,
   "metadata": {},
   "outputs": [
    {
     "data": {
      "text/plain": [
       "{(33.66, -95.54): 'Paris', (32.2, -95.85): 'Athens'}"
      ]
     },
     "execution_count": 8,
     "metadata": {},
     "output_type": "execute_result"
    }
   ],
   "source": [
    "texas_cities = {\n",
    "    paris: 'Paris',\n",
    "    athens: 'Athens'\n",
    "}\n",
    "texas_cities"
   ]
  },
  {
   "cell_type": "markdown",
   "metadata": {},
   "source": [
    "### Return multiple values from a function"
   ]
  },
  {
   "cell_type": "code",
   "execution_count": 9,
   "metadata": {},
   "outputs": [
    {
     "name": "stdout",
     "output_type": "stream",
     "text": [
      "11/2 is 5 remainder 1\n"
     ]
    }
   ],
   "source": [
    "def div_mod(x, y):\n",
    "    div = x // y\n",
    "    mod = x % y\n",
    "    return div, mod\n",
    "\n",
    "quotient, remainder = div_mod(11, 2)\n",
    "print(f'11/2 is {quotient} remainder {remainder}')"
   ]
  },
  {
   "cell_type": "markdown",
   "metadata": {},
   "source": [
    "**Note**: the builtin `divmod()` exists because the CPU can determine them at the same time, so it saves computing time if you need both."
   ]
  },
  {
   "cell_type": "markdown",
   "metadata": {},
   "source": [
    "### Access multiple items in a loop\n",
    "\n",
    "When you access multiple variables in `for` loops, you're actually unpacking a `tuple`."
   ]
  },
  {
   "cell_type": "code",
   "execution_count": 10,
   "metadata": {},
   "outputs": [
    {
     "name": "stdout",
     "output_type": "stream",
     "text": [
      "0: a\n",
      "1: b\n",
      "2: c\n"
     ]
    }
   ],
   "source": [
    "for i, val in enumerate('abc'):\n",
    "    print(f'{i}: {val}')"
   ]
  },
  {
   "cell_type": "code",
   "execution_count": 11,
   "metadata": {},
   "outputs": [
    {
     "name": "stdout",
     "output_type": "stream",
     "text": [
      "(0, 'a')\n",
      "(1, 'b')\n",
      "(2, 'c')\n"
     ]
    }
   ],
   "source": [
    "for tup in enumerate('abc'):\n",
    "    print(tup)"
   ]
  },
  {
   "cell_type": "markdown",
   "metadata": {},
   "source": [
    "### The zip() function\n",
    "\n",
    "If you want to loop over items two or more sequences simultaneously, you can zip them and loop over the results."
   ]
  },
  {
   "cell_type": "code",
   "execution_count": 12,
   "metadata": {},
   "outputs": [
    {
     "name": "stdout",
     "output_type": "stream",
     "text": [
      "a\n",
      "bb\n",
      "ccc\n"
     ]
    }
   ],
   "source": [
    "nums = [1, 2, 3]\n",
    "letters = ['a', 'b', 'c']\n",
    "\n",
    "for num, letter in zip(nums, letters):\n",
    "    print(num * letter)"
   ]
  },
  {
   "cell_type": "markdown",
   "metadata": {},
   "source": [
    "### Practical uses of zip()\n",
    "\n",
    "Copied from this [Real Python](https://realpython.com/python-zip-function/) article\n",
    "\n",
    "#### Calculating in pairs\n",
    "\n",
    "If you have a spreadsheet of `total_sales` and `costs` for multiple months, you can calculate the `profit` for each month and for the whole period."
   ]
  },
  {
   "cell_type": "code",
   "execution_count": 13,
   "metadata": {
    "scrolled": true
   },
   "outputs": [
    {
     "name": "stdout",
     "output_type": "stream",
     "text": [
      "Profit: $5200.0\n",
      "Profit: $5100.0\n",
      "Profit: $4800.0\n",
      "Total profit: $15,100.0\n"
     ]
    }
   ],
   "source": [
    "total_sales_q2 = [52000.00, 51000.00, 48000.00]\n",
    "costs_q2 = [46800.00, 45900.00, 43200.00]\n",
    "\n",
    "profit_q2 = 0\n",
    "for sales, costs in zip(total_sales_q2, costs_q2):\n",
    "    profit = sales - costs\n",
    "    print(f'Profit: ${profit}')\n",
    "    profit_q2 += profit\n",
    "\n",
    "print(f'Total profit: ${profit_q2:,}')"
   ]
  },
  {
   "cell_type": "markdown",
   "metadata": {},
   "source": [
    "#### Building dictionaries"
   ]
  },
  {
   "cell_type": "code",
   "execution_count": 14,
   "metadata": {},
   "outputs": [
    {
     "data": {
      "text/plain": [
       "{'name': 'Jasmine', 'last_name': 'Doe', 'age': '45', 'job': 'Python Developer'}"
      ]
     },
     "execution_count": 14,
     "metadata": {},
     "output_type": "execute_result"
    }
   ],
   "source": [
    "fields = ['name', 'last_name', 'age', 'job']\n",
    "values = ['Jasmine', 'Doe', '45', 'Python Developer']\n",
    "\n",
    "person = dict(zip(fields, values))\n",
    "person"
   ]
  }
 ],
 "metadata": {
  "jupytext": {
   "cell_metadata_filter": "-all",
   "formats": "ipynb,auto:light",
   "notebook_metadata_filter": "-all"
  },
  "kernelspec": {
   "display_name": "Python 3 (ipykernel)",
   "language": "python",
   "name": "python3"
  },
  "language_info": {
   "codemirror_mode": {
    "name": "ipython",
    "version": 3
   },
   "file_extension": ".py",
   "mimetype": "text/x-python",
   "name": "python",
   "nbconvert_exporter": "python",
   "pygments_lexer": "ipython3",
   "version": "3.9.2"
  }
 },
 "nbformat": 4,
 "nbformat_minor": 4
}