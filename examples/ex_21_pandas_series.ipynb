{
 "cells": [
  {
   "cell_type": "markdown",
   "id": "1b842b34",
   "metadata": {},
   "source": [
    "# Working with Pandas Series\n",
    "\n",
    "## Creating Series"
   ]
  },
  {
   "cell_type": "code",
   "execution_count": 1,
   "id": "ca91f9a9",
   "metadata": {},
   "outputs": [],
   "source": [
    "import numpy as np\n",
    "import pandas as pd"
   ]
  },
  {
   "cell_type": "markdown",
   "id": "420f3ff7",
   "metadata": {},
   "source": [
    "### From array\n",
    "\n",
    "#### `index`: must be same size as `ndarray`/`list`"
   ]
  },
  {
   "cell_type": "code",
   "execution_count": 2,
   "id": "949e9809",
   "metadata": {},
   "outputs": [
    {
     "data": {
      "text/plain": [
       "a    1\n",
       "c    3\n",
       "d    5\n",
       "b    7\n",
       "dtype: int64"
      ]
     },
     "execution_count": 2,
     "metadata": {},
     "output_type": "execute_result"
    }
   ],
   "source": [
    "a = pd.Series([1, 3, 5, 7], index=['a', 'c', 'd', 'b'])\n",
    "a"
   ]
  },
  {
   "cell_type": "markdown",
   "id": "814ab38e",
   "metadata": {},
   "source": [
    "#### No `index`: default integer index starting at 0"
   ]
  },
  {
   "cell_type": "code",
   "execution_count": 3,
   "id": "4f3cf090",
   "metadata": {},
   "outputs": [
    {
     "data": {
      "text/plain": [
       "0    1.0\n",
       "1    3.0\n",
       "2    5.0\n",
       "3    NaN\n",
       "4    6.0\n",
       "5    8.0\n",
       "dtype: float64"
      ]
     },
     "execution_count": 3,
     "metadata": {},
     "output_type": "execute_result"
    }
   ],
   "source": [
    "b = pd.Series([1, 3, 5, np.nan, 6, 8])\n",
    "b"
   ]
  },
  {
   "cell_type": "markdown",
   "id": "2550b54a",
   "metadata": {},
   "source": [
    "### From dict\n",
    "\n",
    "#### No `index`: use keys"
   ]
  },
  {
   "cell_type": "code",
   "execution_count": 4,
   "id": "63877ff1",
   "metadata": {},
   "outputs": [
    {
     "data": {
      "text/plain": [
       "b    1\n",
       "a    0\n",
       "c    2\n",
       "dtype: int64"
      ]
     },
     "execution_count": 4,
     "metadata": {},
     "output_type": "execute_result"
    }
   ],
   "source": [
    "c = pd.Series({\"b\": 1, \"a\": 0, \"c\": 2})\n",
    "c"
   ]
  },
  {
   "cell_type": "markdown",
   "id": "c575ff3f",
   "metadata": {},
   "source": [
    "#### `index`: pull corresponding values from data"
   ]
  },
  {
   "cell_type": "code",
   "execution_count": 5,
   "id": "1ede2d7e",
   "metadata": {},
   "outputs": [
    {
     "data": {
      "text/plain": [
       "b    1.0\n",
       "d    NaN\n",
       "c    2.0\n",
       "dtype: float64"
      ]
     },
     "execution_count": 5,
     "metadata": {},
     "output_type": "execute_result"
    }
   ],
   "source": [
    "d = pd.Series({\"b\": 1, \"a\": 0, \"c\": 2}, index=[\"b\", \"d\", \"c\"])\n",
    "d"
   ]
  },
  {
   "cell_type": "markdown",
   "id": "fe205488",
   "metadata": {},
   "source": [
    "### From scalar\n",
    "\n",
    "#### `index` (required): set every value to data value"
   ]
  },
  {
   "cell_type": "code",
   "execution_count": 6,
   "id": "4a274cde",
   "metadata": {},
   "outputs": [
    {
     "data": {
      "text/plain": [
       "a    2\n",
       "b    2\n",
       "c    2\n",
       "dtype: int64"
      ]
     },
     "execution_count": 6,
     "metadata": {},
     "output_type": "execute_result"
    }
   ],
   "source": [
    "e = pd.Series(2, index=[\"a\", \"b\", \"c\"])\n",
    "e"
   ]
  },
  {
   "cell_type": "markdown",
   "id": "93606cb6",
   "metadata": {},
   "source": [
    "## Working with Series\n",
    "\n",
    "### Series is ndarray-like\n",
    "\n",
    "`Series` acts similarly to a `ndarray` and is a valid argument to most NumPy functions.\n",
    "Operations such as slicing will also slice the index."
   ]
  },
  {
   "cell_type": "code",
   "execution_count": 7,
   "id": "b6407822",
   "metadata": {},
   "outputs": [
    {
     "data": {
      "text/plain": [
       "a    0\n",
       "b    1\n",
       "c    2\n",
       "d    3\n",
       "e    4\n",
       "dtype: int64"
      ]
     },
     "execution_count": 7,
     "metadata": {},
     "output_type": "execute_result"
    }
   ],
   "source": [
    "f = pd.Series(range(5), index=['a', 'b', 'c', 'd', 'e'])\n",
    "f"
   ]
  },
  {
   "cell_type": "code",
   "execution_count": 8,
   "id": "9f677021",
   "metadata": {},
   "outputs": [
    {
     "data": {
      "text/plain": [
       "0"
      ]
     },
     "execution_count": 8,
     "metadata": {},
     "output_type": "execute_result"
    }
   ],
   "source": [
    "f[0]"
   ]
  },
  {
   "cell_type": "code",
   "execution_count": 9,
   "id": "0132b5d4",
   "metadata": {},
   "outputs": [
    {
     "data": {
      "text/plain": [
       "a    0\n",
       "b    1\n",
       "dtype: int64"
      ]
     },
     "execution_count": 9,
     "metadata": {},
     "output_type": "execute_result"
    }
   ],
   "source": [
    "f[:2]"
   ]
  },
  {
   "cell_type": "code",
   "execution_count": 10,
   "id": "0376a2cc",
   "metadata": {},
   "outputs": [
    {
     "data": {
      "text/plain": [
       "d    3\n",
       "e    4\n",
       "dtype: int64"
      ]
     },
     "execution_count": 10,
     "metadata": {},
     "output_type": "execute_result"
    }
   ],
   "source": [
    "f[f > f.median()]"
   ]
  },
  {
   "cell_type": "code",
   "execution_count": 11,
   "id": "0c3e747f",
   "metadata": {},
   "outputs": [
    {
     "data": {
      "text/plain": [
       "e    4\n",
       "d    3\n",
       "b    1\n",
       "dtype: int64"
      ]
     },
     "execution_count": 11,
     "metadata": {},
     "output_type": "execute_result"
    }
   ],
   "source": [
    "f[[4, 3, 1]]"
   ]
  },
  {
   "cell_type": "code",
   "execution_count": 12,
   "id": "547f7092",
   "metadata": {},
   "outputs": [
    {
     "data": {
      "text/plain": [
       "a     1.000000\n",
       "b     2.718282\n",
       "c     7.389056\n",
       "d    20.085537\n",
       "e    54.598150\n",
       "dtype: float64"
      ]
     },
     "execution_count": 12,
     "metadata": {},
     "output_type": "execute_result"
    }
   ],
   "source": [
    "np.exp(f)"
   ]
  },
  {
   "cell_type": "markdown",
   "id": "70f5c16e",
   "metadata": {},
   "source": [
    "### Series is dict-like\n",
    "\n",
    "You can get and set values by index label."
   ]
  },
  {
   "cell_type": "code",
   "execution_count": 13,
   "id": "c2ef4349",
   "metadata": {},
   "outputs": [
    {
     "data": {
      "text/plain": [
       "0"
      ]
     },
     "execution_count": 13,
     "metadata": {},
     "output_type": "execute_result"
    }
   ],
   "source": [
    "f['a']"
   ]
  },
  {
   "cell_type": "code",
   "execution_count": 14,
   "id": "0cc69d50",
   "metadata": {},
   "outputs": [
    {
     "data": {
      "text/plain": [
       "a    100\n",
       "b      1\n",
       "c      2\n",
       "d      3\n",
       "e      4\n",
       "dtype: int64"
      ]
     },
     "execution_count": 14,
     "metadata": {},
     "output_type": "execute_result"
    }
   ],
   "source": [
    "f['a'] = 100\n",
    "f"
   ]
  },
  {
   "cell_type": "code",
   "execution_count": 15,
   "id": "7bbf92ad",
   "metadata": {},
   "outputs": [
    {
     "name": "stdout",
     "output_type": "stream",
     "text": [
      "KeyError('f')\n"
     ]
    }
   ],
   "source": [
    "try:\n",
    "    f['f']\n",
    "except KeyError as e:\n",
    "    print(repr(e))"
   ]
  },
  {
   "cell_type": "code",
   "execution_count": 16,
   "id": "cf69366d",
   "metadata": {},
   "outputs": [
    {
     "data": {
      "text/plain": [
       "nan"
      ]
     },
     "execution_count": 16,
     "metadata": {},
     "output_type": "execute_result"
    }
   ],
   "source": [
    "f.get('f', np.nan)"
   ]
  },
  {
   "cell_type": "code",
   "execution_count": 17,
   "id": "83e3a783",
   "metadata": {},
   "outputs": [
    {
     "data": {
      "text/plain": [
       "100"
      ]
     },
     "execution_count": 17,
     "metadata": {},
     "output_type": "execute_result"
    }
   ],
   "source": [
    "f.a"
   ]
  },
  {
   "cell_type": "markdown",
   "id": "6a5dd2ad",
   "metadata": {},
   "source": [
    "## Working with `Series`\n",
    "\n",
    "### Vector operations\n",
    "\n",
    "You can do operations on a `Series` similar to working with `ndarray`."
   ]
  },
  {
   "cell_type": "code",
   "execution_count": 18,
   "id": "c670635b",
   "metadata": {},
   "outputs": [
    {
     "data": {
      "text/plain": [
       "a    200\n",
       "b      2\n",
       "c      4\n",
       "d      6\n",
       "e      8\n",
       "dtype: int64"
      ]
     },
     "execution_count": 18,
     "metadata": {},
     "output_type": "execute_result"
    }
   ],
   "source": [
    "f + f"
   ]
  },
  {
   "cell_type": "code",
   "execution_count": 19,
   "id": "5c566126",
   "metadata": {},
   "outputs": [
    {
     "data": {
      "text/plain": [
       "a    299.00\n",
       "b      2.25\n",
       "c      5.50\n",
       "d      8.75\n",
       "e     12.00\n",
       "dtype: float64"
      ]
     },
     "execution_count": 19,
     "metadata": {},
     "output_type": "execute_result"
    }
   ],
   "source": [
    "f * 3 + [0, 0.25, 0.5, 0.75, 1] - 1"
   ]
  },
  {
   "cell_type": "markdown",
   "id": "39cf83fc",
   "metadata": {},
   "source": [
    "When operating with non-`Series` sequences, the length must match.\n",
    "\n",
    "### Label alignment\n",
    "\n",
    "`Series` automatically align the data based on label."
   ]
  },
  {
   "cell_type": "code",
   "execution_count": 20,
   "id": "9006d91d",
   "metadata": {},
   "outputs": [
    {
     "data": {
      "text/plain": [
       "a    NaN\n",
       "b    1.5\n",
       "c    2.5\n",
       "d    NaN\n",
       "e    4.5\n",
       "f    NaN\n",
       "dtype: float64"
      ]
     },
     "execution_count": 20,
     "metadata": {},
     "output_type": "execute_result"
    }
   ],
   "source": [
    "g = pd.Series(.5, index=['b', 'c', 'e', 'f'], name='g')\n",
    "f + g"
   ]
  },
  {
   "cell_type": "markdown",
   "id": "0ddabefc",
   "metadata": {},
   "source": [
    "## `name` attribute\n",
    "\n",
    "You can label any `Series` with a `name`"
   ]
  },
  {
   "cell_type": "code",
   "execution_count": 21,
   "id": "3ac0e4df",
   "metadata": {},
   "outputs": [
    {
     "data": {
      "text/plain": [
       "0    2.973206\n",
       "1   -1.051052\n",
       "2   -0.759873\n",
       "3    0.320426\n",
       "4   -0.826916\n",
       "Name: random series, dtype: float64"
      ]
     },
     "execution_count": 21,
     "metadata": {},
     "output_type": "execute_result"
    }
   ],
   "source": [
    "h = pd.Series(np.random.randn(5), name=\"random series\")\n",
    "h"
   ]
  },
  {
   "cell_type": "code",
   "execution_count": 22,
   "id": "deabf24b",
   "metadata": {},
   "outputs": [
    {
     "data": {
      "text/plain": [
       "'random series'"
      ]
     },
     "execution_count": 22,
     "metadata": {},
     "output_type": "execute_result"
    }
   ],
   "source": [
    "h.name"
   ]
  },
  {
   "cell_type": "markdown",
   "id": "7c75468f",
   "metadata": {},
   "source": [
    "You can change the name of a `Series` by setting the `name` attribute."
   ]
  },
  {
   "cell_type": "code",
   "execution_count": 23,
   "id": "4d47eb85",
   "metadata": {},
   "outputs": [
    {
     "data": {
      "text/plain": [
       "0    2.973206\n",
       "1   -1.051052\n",
       "2   -0.759873\n",
       "3    0.320426\n",
       "4   -0.826916\n",
       "Name: Series 1, dtype: float64"
      ]
     },
     "execution_count": 23,
     "metadata": {},
     "output_type": "execute_result"
    }
   ],
   "source": [
    "h.name = 'Series 1'\n",
    "h"
   ]
  },
  {
   "cell_type": "markdown",
   "id": "b5650129",
   "metadata": {},
   "source": [
    "In a `DataFrame`, the `Series` name will be the column label."
   ]
  },
  {
   "cell_type": "markdown",
   "id": "1f5c2aef",
   "metadata": {},
   "source": [
    "## Methods\n",
    "\n",
    "You can chain methods that return a `Series`. \n",
    "There are lots of common math and comparison methods."
   ]
  },
  {
   "cell_type": "code",
   "execution_count": 24,
   "id": "993d362c",
   "metadata": {},
   "outputs": [
    {
     "data": {
      "text/plain": [
       "0    29.7\n",
       "1   -10.5\n",
       "2    -7.6\n",
       "3     3.2\n",
       "4    -8.3\n",
       "Name: Series 1, dtype: float64"
      ]
     },
     "execution_count": 24,
     "metadata": {},
     "output_type": "execute_result"
    }
   ],
   "source": [
    "i = h.mul(10).round(1)\n",
    "i"
   ]
  },
  {
   "cell_type": "markdown",
   "id": "6f760aa2",
   "metadata": {},
   "source": [
    "You can apply a custom function and do aggregating/grouping."
   ]
  },
  {
   "cell_type": "code",
   "execution_count": 25,
   "id": "a5c1aee9",
   "metadata": {},
   "outputs": [
    {
     "data": {
      "text/plain": [
       "Series 1\n",
       "False    446.165000\n",
       "True      78.966667\n",
       "Name: Series 1, dtype: float64"
      ]
     },
     "execution_count": 25,
     "metadata": {},
     "output_type": "execute_result"
    }
   ],
   "source": [
    "i.apply(lambda x: x ** 2).groupby(i < 0).mean()"
   ]
  },
  {
   "cell_type": "markdown",
   "id": "ee7a716a",
   "metadata": {},
   "source": [
    "You can sort by index or values"
   ]
  },
  {
   "cell_type": "code",
   "execution_count": 26,
   "id": "5dcc9bbd",
   "metadata": {},
   "outputs": [
    {
     "data": {
      "text/plain": [
       "1   -10.5\n",
       "4    -8.3\n",
       "2    -7.6\n",
       "3     3.2\n",
       "0    29.7\n",
       "Name: Series 1, dtype: float64"
      ]
     },
     "execution_count": 26,
     "metadata": {},
     "output_type": "execute_result"
    }
   ],
   "source": [
    "i = i.sort_values()\n",
    "i"
   ]
  },
  {
   "cell_type": "code",
   "execution_count": 27,
   "id": "13b817d4",
   "metadata": {},
   "outputs": [
    {
     "data": {
      "text/plain": [
       "1    1.0\n",
       "4    2.0\n",
       "2    3.0\n",
       "3    4.0\n",
       "0    5.0\n",
       "Name: Series 1, dtype: float64"
      ]
     },
     "execution_count": 27,
     "metadata": {},
     "output_type": "execute_result"
    }
   ],
   "source": [
    "i.rank()"
   ]
  },
  {
   "cell_type": "markdown",
   "id": "fb304627",
   "metadata": {},
   "source": [
    "And there's so much more you can do.\n",
    "\n",
    "## Accessors\n",
    "\n",
    "You can also access a lot of type-specific methods for strings, datetimes and some Pandas-specific dtypes."
   ]
  },
  {
   "cell_type": "code",
   "execution_count": 28,
   "id": "e63505c7",
   "metadata": {},
   "outputs": [
    {
     "data": {
      "text/plain": [
       "0    Yes\n",
       "1     no\n",
       "2      y\n",
       "3       \n",
       "4     NO\n",
       "Name: votes, dtype: object"
      ]
     },
     "execution_count": 28,
     "metadata": {},
     "output_type": "execute_result"
    }
   ],
   "source": [
    "j = pd.Series(['Yes', 'no', 'y', '', 'NO'], name='votes')\n",
    "j"
   ]
  },
  {
   "cell_type": "code",
   "execution_count": 29,
   "id": "51aceb78",
   "metadata": {},
   "outputs": [
    {
     "data": {
      "text/plain": [
       "0    YES\n",
       "1     NO\n",
       "2      Y\n",
       "3       \n",
       "4     NO\n",
       "Name: votes, dtype: object"
      ]
     },
     "execution_count": 29,
     "metadata": {},
     "output_type": "execute_result"
    }
   ],
   "source": [
    "j = j.str.upper()\n",
    "j"
   ]
  },
  {
   "cell_type": "code",
   "execution_count": 30,
   "id": "16b796de",
   "metadata": {},
   "outputs": [
    {
     "data": {
      "text/plain": [
       "0    Yes\n",
       "1     No\n",
       "2    Yes\n",
       "3       \n",
       "4     No\n",
       "Name: votes, dtype: object"
      ]
     },
     "execution_count": 30,
     "metadata": {},
     "output_type": "execute_result"
    }
   ],
   "source": [
    "j[j.str.contains('Y')] = 'Yes'\n",
    "j[j.str.contains('N')] = 'No'\n",
    "j"
   ]
  },
  {
   "cell_type": "code",
   "execution_count": 31,
   "id": "66a62393",
   "metadata": {},
   "outputs": [
    {
     "data": {
      "text/plain": [
       "0        Yes\n",
       "1         No\n",
       "2        Yes\n",
       "3    Unknown\n",
       "4         No\n",
       "Name: votes, dtype: object"
      ]
     },
     "execution_count": 31,
     "metadata": {},
     "output_type": "execute_result"
    }
   ],
   "source": [
    "j[~j.isin(['Yes', 'No'])] = 'Unknown'\n",
    "j"
   ]
  }
 ],
 "metadata": {
  "jupytext": {
   "cell_metadata_filter": "-all",
   "formats": "auto:light,ipynb",
   "main_language": "python",
   "notebook_metadata_filter": "-all"
  },
  "kernelspec": {
   "display_name": "Python 3 (ipykernel)",
   "language": "python",
   "name": "python3"
  },
  "language_info": {
   "codemirror_mode": {
    "name": "ipython",
    "version": 3
   },
   "file_extension": ".py",
   "mimetype": "text/x-python",
   "name": "python",
   "nbconvert_exporter": "python",
   "pygments_lexer": "ipython3",
   "version": "3.9.2"
  }
 },
 "nbformat": 4,
 "nbformat_minor": 5
}
