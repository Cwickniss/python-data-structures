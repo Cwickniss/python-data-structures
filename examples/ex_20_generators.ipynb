{
 "cells": [
  {
   "cell_type": "markdown",
   "id": "18ef62a6",
   "metadata": {},
   "source": [
    "# Generator comprehensions\n",
    "If your main purpose is looping over a sequence and you don't need a list object, using a generator will save memory and can be a lot faster to run."
   ]
  },
  {
   "cell_type": "code",
   "execution_count": 1,
   "id": "9055db01",
   "metadata": {
    "scrolled": true
   },
   "outputs": [
    {
     "data": {
      "text/plain": [
       "<generator object <genexpr> at 0x11231f740>"
      ]
     },
     "execution_count": 1,
     "metadata": {},
     "output_type": "execute_result"
    }
   ],
   "source": [
    "squares = (i ** 2 for i in range(10))\n",
    "squares"
   ]
  },
  {
   "cell_type": "code",
   "execution_count": 2,
   "id": "70fb2024",
   "metadata": {},
   "outputs": [
    {
     "name": "stdout",
     "output_type": "stream",
     "text": [
      "0\n",
      "1\n",
      "4\n",
      "9\n",
      "16\n",
      "25\n",
      "36\n",
      "49\n",
      "64\n",
      "81\n"
     ]
    }
   ],
   "source": [
    "for num in squares:\n",
    "    print(num)"
   ]
  },
  {
   "cell_type": "markdown",
   "id": "72e72a3a",
   "metadata": {},
   "source": [
    "Generators can only be looped over once"
   ]
  },
  {
   "cell_type": "code",
   "execution_count": 3,
   "id": "b50252c5",
   "metadata": {},
   "outputs": [],
   "source": [
    "for num in squares:\n",
    "    print(num)"
   ]
  },
  {
   "cell_type": "markdown",
   "id": "33590c07",
   "metadata": {},
   "source": [
    "## Comparing speed"
   ]
  },
  {
   "cell_type": "code",
   "execution_count": 4,
   "id": "aa047165",
   "metadata": {},
   "outputs": [],
   "source": [
    "from time import time"
   ]
  },
  {
   "cell_type": "code",
   "execution_count": 5,
   "id": "e46afcf6",
   "metadata": {},
   "outputs": [
    {
     "data": {
      "text/plain": [
       "'Took 0.0003s'"
      ]
     },
     "execution_count": 5,
     "metadata": {},
     "output_type": "execute_result"
    }
   ],
   "source": [
    "start = time()\n",
    "big_gen = (i for i in range(10**10))\n",
    "end = time()\n",
    "f'Took {round(end - start, 4)}s'"
   ]
  },
  {
   "cell_type": "code",
   "execution_count": 6,
   "id": "bd039e38",
   "metadata": {},
   "outputs": [
    {
     "data": {
      "text/plain": [
       "'Took 0.5877s'"
      ]
     },
     "execution_count": 6,
     "metadata": {},
     "output_type": "execute_result"
    }
   ],
   "source": [
    "start = time()\n",
    "big_list = [i for i in range(10**7)]  # Initializing can take a long time and use a lot of memory\n",
    "end = time()\n",
    "f'Took {round(end - start, 4)}s'"
   ]
  },
  {
   "cell_type": "markdown",
   "id": "9147d9df",
   "metadata": {},
   "source": [
    "They can be used in certain functions without creating a list.\n",
    "\n",
    "`any()`, `all()`, `min()`, `max()` and `sum()` can all accept generators."
   ]
  },
  {
   "cell_type": "code",
   "execution_count": 7,
   "id": "75d2afe6",
   "metadata": {},
   "outputs": [
    {
     "data": {
      "text/plain": [
       "0.0030571867710198486"
      ]
     },
     "execution_count": 7,
     "metadata": {},
     "output_type": "execute_result"
    }
   ],
   "source": [
    "from random import random\n",
    "min((random() for i in range(10**3)))"
   ]
  },
  {
   "cell_type": "markdown",
   "id": "a745ee0d",
   "metadata": {},
   "source": [
    "To create a tuple, cast a generator using the `tuple()`."
   ]
  },
  {
   "cell_type": "code",
   "execution_count": 8,
   "id": "0292b1b5",
   "metadata": {},
   "outputs": [
    {
     "data": {
      "text/plain": [
       "(3, 5, 6, 9, 10, 12, 15, 18, 20, 21, 24, 25, 27)"
      ]
     },
     "execution_count": 8,
     "metadata": {},
     "output_type": "execute_result"
    }
   ],
   "source": [
    "tuple((i for i in range(1, 30) if i % 3 == 0 or i % 5 == 0))"
   ]
  }
 ],
 "metadata": {
  "jupytext": {
   "cell_metadata_filter": "-all",
   "formats": "ipynb,auto:light",
   "notebook_metadata_filter": "-all"
  },
  "kernelspec": {
   "display_name": "Python 3 (ipykernel)",
   "language": "python",
   "name": "python3"
  },
  "language_info": {
   "codemirror_mode": {
    "name": "ipython",
    "version": 3
   },
   "file_extension": ".py",
   "mimetype": "text/x-python",
   "name": "python",
   "nbconvert_exporter": "python",
   "pygments_lexer": "ipython3",
   "version": "3.9.2"
  }
 },
 "nbformat": 4,
 "nbformat_minor": 5
}
