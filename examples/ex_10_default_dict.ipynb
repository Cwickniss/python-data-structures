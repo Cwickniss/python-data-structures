{
 "cells": [
  {
   "cell_type": "markdown",
   "id": "c182cd2c",
   "metadata": {},
   "source": [
    "# collections.defaultdict\n",
    "A common pattern is to check if a key exists in a dictionary and initialize it if not.\n",
    "## Without defaultdict"
   ]
  },
  {
   "cell_type": "code",
   "execution_count": 1,
   "id": "065d9d52",
   "metadata": {},
   "outputs": [
    {
     "data": {
      "text/plain": [
       "{'U': ['United States'],\n",
       " 'M': ['Mexico'],\n",
       " 'I': ['Iceland', 'India', 'Indonesia'],\n",
       " 'P': ['Philippines']}"
      ]
     },
     "execution_count": 1,
     "metadata": {},
     "output_type": "execute_result"
    }
   ],
   "source": [
    "countries = [\"United States\", \"Mexico\", \"Iceland\", \"India\", \"Philippines\", \"Indonesia\"]\n",
    "\n",
    "letter_countries = {}\n",
    "for country in countries:\n",
    "    first_letter = country[0]\n",
    "    if first_letter not in letter_countries:\n",
    "        letter_countries[first_letter] = []\n",
    "    letter_countries[first_letter].append(country)\n",
    "\n",
    "letter_countries"
   ]
  },
  {
   "cell_type": "markdown",
   "id": "a1718fbf",
   "metadata": {},
   "source": [
    "## With defaultdict"
   ]
  },
  {
   "cell_type": "code",
   "execution_count": 2,
   "id": "ca4fc877",
   "metadata": {},
   "outputs": [
    {
     "data": {
      "text/plain": [
       "defaultdict(list,\n",
       "            {'U': ['United States'],\n",
       "             'M': ['Mexico'],\n",
       "             'I': ['Iceland', 'India', 'Indonesia'],\n",
       "             'P': ['Philippines']})"
      ]
     },
     "execution_count": 2,
     "metadata": {},
     "output_type": "execute_result"
    }
   ],
   "source": [
    "from collections import defaultdict\n",
    "\n",
    "letter_countries = defaultdict(list)\n",
    "for country in countries:\n",
    "    letter_countries[country[0]].append(country)\n",
    "\n",
    "letter_countries"
   ]
  },
  {
   "cell_type": "markdown",
   "id": "5df1b48f",
   "metadata": {},
   "source": [
    "## defaultdict\n",
    "Like regular dictionaries, but any missing keys have a default value if you try to access them.\n",
    "\n",
    "You can pass in any callable that doesn't have any required arguments.\n",
    "\n",
    "A callable can be:\n",
    "- a builtin function\n",
    "- a user-defined function\n",
    "- a lambda function\n",
    "- a class\n",
    "- a module function\n",
    "- an object's method"
   ]
  },
  {
   "cell_type": "code",
   "execution_count": 3,
   "id": "c627ea78",
   "metadata": {},
   "outputs": [],
   "source": [
    "from collections import defaultdict"
   ]
  },
  {
   "cell_type": "markdown",
   "id": "17bc74f5",
   "metadata": {},
   "source": [
    "## Builtin functions\n",
    "The builtin types all have associated functions: `int`, `float`, `str`, `list`, `dict`, `tuple`, `set`.\n",
    "\n",
    "When you call them without arguments, they return an empty container or 0."
   ]
  },
  {
   "cell_type": "code",
   "execution_count": 4,
   "id": "e38f2618",
   "metadata": {},
   "outputs": [
    {
     "data": {
      "text/plain": [
       "defaultdict(int, {})"
      ]
     },
     "execution_count": 4,
     "metadata": {},
     "output_type": "execute_result"
    }
   ],
   "source": [
    "word_counts = defaultdict(int)\n",
    "word_counts"
   ]
  },
  {
   "cell_type": "code",
   "execution_count": 5,
   "id": "a569f959",
   "metadata": {},
   "outputs": [
    {
     "data": {
      "text/plain": [
       "0"
      ]
     },
     "execution_count": 5,
     "metadata": {},
     "output_type": "execute_result"
    }
   ],
   "source": [
    "word_counts['the']"
   ]
  },
  {
   "cell_type": "code",
   "execution_count": 6,
   "id": "7f3583c2",
   "metadata": {},
   "outputs": [
    {
     "data": {
      "text/plain": [
       "defaultdict(int, {'the': 0})"
      ]
     },
     "execution_count": 6,
     "metadata": {},
     "output_type": "execute_result"
    }
   ],
   "source": [
    "word_counts"
   ]
  },
  {
   "cell_type": "code",
   "execution_count": 7,
   "id": "e1d5d491",
   "metadata": {},
   "outputs": [
    {
     "data": {
      "text/plain": [
       "defaultdict(int,\n",
       "            {'the': 3,\n",
       "             'quick': 1,\n",
       "             'brown': 2,\n",
       "             'fox': 1,\n",
       "             'jumps': 1,\n",
       "             'over': 1,\n",
       "             'lazy': 1,\n",
       "             'dog': 1,\n",
       "             'and': 1,\n",
       "             'cat': 1})"
      ]
     },
     "execution_count": 7,
     "metadata": {},
     "output_type": "execute_result"
    }
   ],
   "source": [
    "phrase = \"the quick brown fox jumps over the lazy dog and the brown cat\"\n",
    "for word in phrase.split():\n",
    "    word_counts[word] += 1\n",
    "word_counts"
   ]
  },
  {
   "cell_type": "markdown",
   "id": "ec70f85e",
   "metadata": {},
   "source": [
    "## Custom functions\n",
    "You can define the function to call. It shouldn't take any arguments."
   ]
  },
  {
   "cell_type": "code",
   "execution_count": 8,
   "id": "de51343a",
   "metadata": {},
   "outputs": [
    {
     "name": "stdout",
     "output_type": "stream",
     "text": [
      "1\n",
      "2\n",
      "3\n",
      "4\n"
     ]
    },
    {
     "data": {
      "text/plain": [
       "defaultdict(<function __main__.get_count()>, {'a': 1, 'b': 2, 'c': 3, 'd': 4})"
      ]
     },
     "execution_count": 8,
     "metadata": {},
     "output_type": "execute_result"
    }
   ],
   "source": [
    "count = 0\n",
    "\n",
    "def get_count():\n",
    "    global count\n",
    "    count += 1\n",
    "    return count\n",
    "\n",
    "a = defaultdict(get_count)  # No brackets after function\n",
    "for i in 'abcd':\n",
    "    print(a[i])\n",
    "    \n",
    "a"
   ]
  },
  {
   "cell_type": "markdown",
   "id": "6aae9fbe",
   "metadata": {},
   "source": [
    "## Lambda functions\n",
    "For simple one-line functions that you won't need again, you can use lambda (anonymous) functions."
   ]
  },
  {
   "cell_type": "code",
   "execution_count": 9,
   "id": "34ccbce7",
   "metadata": {},
   "outputs": [
    {
     "data": {
      "text/plain": [
       "defaultdict(<function __main__.<lambda>()>, {'A': [-2, 0], 'B': [1, 1]})"
      ]
     },
     "execution_count": 9,
     "metadata": {},
     "output_type": "execute_result"
    }
   ],
   "source": [
    "b = defaultdict(lambda: [0, 0])\n",
    "\n",
    "sprites = {'A': ['L', 'D', 'L', 'U'], 'B': ['R', 'U']}\n",
    "\n",
    "for sprite, moves in sprites.items():\n",
    "    for move in moves:\n",
    "        if move == 'L':\n",
    "            b[sprite][0] -= 1\n",
    "        elif move == 'R':\n",
    "            b[sprite][0] += 1\n",
    "        elif move == 'D':\n",
    "            b[sprite][1] -= 1\n",
    "        elif move == 'U':\n",
    "            b[sprite][1] += 1\n",
    "        else:\n",
    "            print(f\"Invalid move {move}\")\n",
    "b"
   ]
  },
  {
   "cell_type": "markdown",
   "id": "9297e715",
   "metadata": {},
   "source": [
    "## Class"
   ]
  },
  {
   "cell_type": "code",
   "execution_count": 10,
   "id": "ae2d95e2",
   "metadata": {},
   "outputs": [
    {
     "data": {
      "text/plain": [
       "defaultdict(__main__.Person,\n",
       "            {0: Person(\"Aida\"),\n",
       "             1: Person(\"Jia\"),\n",
       "             2: Person(\"Lárus\"),\n",
       "             3: Person(\"Idrissa\")})"
      ]
     },
     "execution_count": 10,
     "metadata": {},
     "output_type": "execute_result"
    }
   ],
   "source": [
    "class Person:\n",
    "    def __init__(self, name=''):\n",
    "        self.name = name\n",
    "        \n",
    "    def __repr__(self):\n",
    "        return f'Person(\"{self.name}\")'\n",
    "\n",
    "c = defaultdict(Person)\n",
    "\n",
    "names = [\"Aida\", \"Jia\", \"Lárus\", \"Idrissa\"]\n",
    "for i, name in enumerate(names):\n",
    "    c[i].name = name\n",
    "\n",
    "c"
   ]
  },
  {
   "cell_type": "markdown",
   "id": "26dbfa1c",
   "metadata": {},
   "source": [
    "## Module function"
   ]
  },
  {
   "cell_type": "code",
   "execution_count": 11,
   "id": "370e7624",
   "metadata": {
    "lines_to_next_cell": 2
   },
   "outputs": [
    {
     "name": "stdout",
     "output_type": "stream",
     "text": [
      "1674422649.494095\n",
      "1674422650.4979641\n",
      "1674422651.49857\n",
      "1674422652.5015218\n"
     ]
    },
    {
     "data": {
      "text/plain": [
       "defaultdict(<function time.time>,\n",
       "            {0: 1674422649.494095,\n",
       "             1: 1674422650.4979641,\n",
       "             2: 1674422651.49857,\n",
       "             3: 1674422652.5015218})"
      ]
     },
     "execution_count": 11,
     "metadata": {},
     "output_type": "execute_result"
    }
   ],
   "source": [
    "from time import (\n",
    "    time,   # Gets current time in secs since the Epoch (00:00 Jan 1, 1970 UTC)\n",
    "    sleep,  # Wait n seconds\n",
    ")\n",
    "\n",
    "d = defaultdict(time)\n",
    "for i in range(4):\n",
    "    print(d[i])\n",
    "    sleep(1)\n",
    "d"
   ]
  },
  {
   "cell_type": "markdown",
   "id": "ffecad84",
   "metadata": {},
   "source": [
    "## Method\n",
    "I don't know a good reason to do this, but it can be done!"
   ]
  },
  {
   "cell_type": "code",
   "execution_count": 12,
   "id": "224b76b3",
   "metadata": {},
   "outputs": [
    {
     "data": {
      "text/plain": [
       "'c'"
      ]
     },
     "execution_count": 12,
     "metadata": {},
     "output_type": "execute_result"
    }
   ],
   "source": [
    "chars = \"a b c\".split()\n",
    "e = defaultdict(chars.pop)\n",
    "e[0]"
   ]
  },
  {
   "cell_type": "code",
   "execution_count": 13,
   "id": "2fb93db6",
   "metadata": {},
   "outputs": [
    {
     "data": {
      "text/plain": [
       "['a', 'b', 'd']"
      ]
     },
     "execution_count": 13,
     "metadata": {},
     "output_type": "execute_result"
    }
   ],
   "source": [
    "chars.append('d')\n",
    "chars"
   ]
  },
  {
   "cell_type": "code",
   "execution_count": 14,
   "id": "3e71c82b",
   "metadata": {},
   "outputs": [
    {
     "name": "stdout",
     "output_type": "stream",
     "text": [
      "c\n",
      "d\n",
      "b\n"
     ]
    },
    {
     "data": {
      "text/plain": [
       "defaultdict(<function list.pop(index=-1, /)>, {0: 'c', 1: 'd', 2: 'b'})"
      ]
     },
     "execution_count": 14,
     "metadata": {},
     "output_type": "execute_result"
    }
   ],
   "source": [
    "for i in range(3):\n",
    "    print(e[i])\n",
    "e"
   ]
  },
  {
   "cell_type": "code",
   "execution_count": 15,
   "id": "160c0c55",
   "metadata": {},
   "outputs": [
    {
     "data": {
      "text/plain": [
       "['a']"
      ]
     },
     "execution_count": 15,
     "metadata": {},
     "output_type": "execute_result"
    }
   ],
   "source": [
    "chars"
   ]
  }
 ],
 "metadata": {
  "jupytext": {
   "cell_metadata_filter": "-all",
   "formats": "auto:light,ipynb",
   "notebook_metadata_filter": "-all"
  },
  "kernelspec": {
   "display_name": "Python 3 (ipykernel)",
   "language": "python",
   "name": "python3"
  },
  "language_info": {
   "codemirror_mode": {
    "name": "ipython",
    "version": 3
   },
   "file_extension": ".py",
   "mimetype": "text/x-python",
   "name": "python",
   "nbconvert_exporter": "python",
   "pygments_lexer": "ipython3",
   "version": "3.9.2"
  }
 },
 "nbformat": 4,
 "nbformat_minor": 5
}