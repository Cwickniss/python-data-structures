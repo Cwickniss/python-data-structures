{
 "cells": [
  {
   "cell_type": "markdown",
   "metadata": {},
   "source": [
    "# Lists\n",
    "\n",
    "## Brief summary of Python lists\n",
    "\n",
    "### Creating lists"
   ]
  },
  {
   "cell_type": "code",
   "execution_count": 1,
   "metadata": {},
   "outputs": [
    {
     "name": "stdout",
     "output_type": "stream",
     "text": [
      "['1', '2', '3', '4', '5']\n"
     ]
    }
   ],
   "source": [
    "empty_list_1 = []\n",
    "empty_list_2 = list()\n",
    "\n",
    "list_with_contents = ['a', 'b', 1, 2]\n",
    "\n",
    "from_sequence = list('12345')\n",
    "print(from_sequence)"
   ]
  },
  {
   "cell_type": "code",
   "execution_count": 2,
   "metadata": {},
   "outputs": [
    {
     "name": "stdout",
     "output_type": "stream",
     "text": [
      "['hello', 'foo']\n"
     ]
    }
   ],
   "source": [
    "from_dict = list({'hello': 'world', 'foo': 'bar'})\n",
    "print(from_dict)"
   ]
  },
  {
   "cell_type": "markdown",
   "metadata": {},
   "source": [
    "You can also build lists using **list comprehensions**"
   ]
  },
  {
   "cell_type": "code",
   "execution_count": 3,
   "metadata": {
    "collapsed": false,
    "jupyter": {
     "outputs_hidden": false
    }
   },
   "outputs": [
    {
     "name": "stdout",
     "output_type": "stream",
     "text": [
      "[1, 2, 4, 8, 16, 32, 64, 128, 256, 512, 1024, 2048]\n"
     ]
    }
   ],
   "source": [
    "powers_of_2 = [2 ** i for i in range(12)]\n",
    "print(powers_of_2)"
   ]
  },
  {
   "cell_type": "markdown",
   "metadata": {},
   "source": [
    "We will look more at list comprehensions in the second hour of the class."
   ]
  },
  {
   "cell_type": "markdown",
   "metadata": {},
   "source": [
    "## Slicing and indexing lists\n",
    "These also work on any sequence (tuple, string, bytearray, etc)\n",
    "\n",
    "### Getting an item via index (indexing)\n",
    "\n",
    "The format is `sequence[index]`\n",
    "\n",
    "Indices start at 0 and go to `len(sequence) - 1`."
   ]
  },
  {
   "cell_type": "code",
   "execution_count": 4,
   "metadata": {
    "collapsed": false,
    "jupyter": {
     "outputs_hidden": false
    }
   },
   "outputs": [
    {
     "name": "stdout",
     "output_type": "stream",
     "text": [
      "['a', 'b', 'c', 'd', 'e']\n"
     ]
    }
   ],
   "source": [
    "sequence = list('abcde')\n",
    "print(sequence)"
   ]
  },
  {
   "cell_type": "code",
   "execution_count": 5,
   "metadata": {
    "collapsed": false,
    "jupyter": {
     "outputs_hidden": false
    }
   },
   "outputs": [
    {
     "name": "stdout",
     "output_type": "stream",
     "text": [
      "0: a\n",
      "4: e\n"
     ]
    }
   ],
   "source": [
    "print(f'0: {sequence[0]}')\n",
    "end = len(sequence) - 1\n",
    "print(f'{end}: {sequence[end]}')"
   ]
  },
  {
   "cell_type": "code",
   "execution_count": 6,
   "metadata": {
    "collapsed": false,
    "jupyter": {
     "outputs_hidden": false
    }
   },
   "outputs": [
    {
     "name": "stdout",
     "output_type": "stream",
     "text": [
      "IndexError('list index out of range')\n"
     ]
    }
   ],
   "source": [
    "try:\n",
    "    sequence[100]\n",
    "except IndexError as e:\n",
    "    print(repr(e))"
   ]
  },
  {
   "cell_type": "markdown",
   "metadata": {},
   "source": [
    "You can also go from the end of the list at `-1` to the beginning at `-len(sequence)`"
   ]
  },
  {
   "cell_type": "code",
   "execution_count": 7,
   "metadata": {
    "collapsed": false,
    "jupyter": {
     "outputs_hidden": false
    }
   },
   "outputs": [
    {
     "name": "stdout",
     "output_type": "stream",
     "text": [
      "-1: e\n",
      "-5: a\n"
     ]
    }
   ],
   "source": [
    "print(f'-1: {sequence[-1]}')\n",
    "beginning = -len(sequence)\n",
    "print(f'{beginning}: {sequence[beginning]}')"
   ]
  },
  {
   "cell_type": "markdown",
   "metadata": {},
   "source": [
    "### Getting a sublist (slicing)\n",
    "\n",
    "The format is `sequence[start:stop:step]`\n",
    "\n",
    "This will return a new sequence with items starting at `start`, ending at `stop - 1`, and skipping `step` each time.\n",
    "\n",
    "`step` is optional, and the default is `1`.\n",
    "\n",
    "If a number is missing, its value is assumed to be either beginning or end of the list, depending on the context."
   ]
  },
  {
   "cell_type": "code",
   "execution_count": 8,
   "metadata": {
    "collapsed": false,
    "jupyter": {
     "outputs_hidden": false
    }
   },
   "outputs": [
    {
     "name": "stdout",
     "output_type": "stream",
     "text": [
      "['b', 'c']\n"
     ]
    }
   ],
   "source": [
    "print(sequence[1:3])  # indices 1 and 2"
   ]
  },
  {
   "cell_type": "code",
   "execution_count": 9,
   "metadata": {
    "collapsed": false,
    "jupyter": {
     "outputs_hidden": false
    }
   },
   "outputs": [
    {
     "name": "stdout",
     "output_type": "stream",
     "text": [
      "['a', 'b', 'c', 'd']\n"
     ]
    }
   ],
   "source": [
    "print(sequence[:4])  # beginning (0) to 3"
   ]
  },
  {
   "cell_type": "code",
   "execution_count": 10,
   "metadata": {
    "collapsed": false,
    "jupyter": {
     "outputs_hidden": false
    }
   },
   "outputs": [
    {
     "name": "stdout",
     "output_type": "stream",
     "text": [
      "['c', 'd', 'e']\n"
     ]
    }
   ],
   "source": [
    "print(sequence[2:])  # 2 to end (4)"
   ]
  },
  {
   "cell_type": "code",
   "execution_count": 11,
   "metadata": {
    "collapsed": false,
    "jupyter": {
     "outputs_hidden": false
    }
   },
   "outputs": [
    {
     "name": "stdout",
     "output_type": "stream",
     "text": [
      "['a', 'b', 'c', 'd', 'e']\n"
     ]
    }
   ],
   "source": [
    "print(sequence[:])  # full list"
   ]
  },
  {
   "cell_type": "code",
   "execution_count": 12,
   "metadata": {
    "collapsed": false,
    "jupyter": {
     "outputs_hidden": false
    }
   },
   "outputs": [
    {
     "name": "stdout",
     "output_type": "stream",
     "text": [
      "['a', 'c', 'e']\n"
     ]
    }
   ],
   "source": [
    "print(sequence[::2])  # every second item"
   ]
  },
  {
   "cell_type": "code",
   "execution_count": 13,
   "metadata": {
    "collapsed": false,
    "jupyter": {
     "outputs_hidden": false
    }
   },
   "outputs": [
    {
     "name": "stdout",
     "output_type": "stream",
     "text": [
      "['c', 'b', 'a']\n"
     ]
    }
   ],
   "source": [
    "print(sequence[2::-1])  # 2, 1, 0"
   ]
  },
  {
   "cell_type": "code",
   "execution_count": 14,
   "metadata": {
    "collapsed": false,
    "jupyter": {
     "outputs_hidden": false
    }
   },
   "outputs": [
    {
     "name": "stdout",
     "output_type": "stream",
     "text": [
      "['e', 'd', 'c', 'b', 'a']\n"
     ]
    }
   ],
   "source": [
    "print(sequence[::-1])  # reversed"
   ]
  },
  {
   "cell_type": "markdown",
   "metadata": {
    "jupyter": {
     "outputs_hidden": false
    }
   },
   "source": [
    "## Updating contents"
   ]
  },
  {
   "cell_type": "code",
   "execution_count": 15,
   "metadata": {},
   "outputs": [
    {
     "name": "stdout",
     "output_type": "stream",
     "text": [
      "['new', 'b', 'c', 'd', 'e']\n"
     ]
    }
   ],
   "source": [
    "sequence[0] = 'new'  # update existing item\n",
    "print(sequence)"
   ]
  },
  {
   "cell_type": "code",
   "execution_count": 16,
   "metadata": {},
   "outputs": [
    {
     "name": "stdout",
     "output_type": "stream",
     "text": [
      "['new', 'b', 'c', 'd']\n"
     ]
    }
   ],
   "source": [
    "del sequence[-1]  # deleting by index\n",
    "print(sequence)"
   ]
  },
  {
   "cell_type": "code",
   "execution_count": 17,
   "metadata": {},
   "outputs": [
    {
     "name": "stdout",
     "output_type": "stream",
     "text": [
      "['new', 'b', 'c', 'd', 'end']\n"
     ]
    }
   ],
   "source": [
    "sequence.append('end')  # add item to the end\n",
    "print(sequence)"
   ]
  },
  {
   "cell_type": "code",
   "execution_count": 18,
   "metadata": {},
   "outputs": [
    {
     "name": "stdout",
     "output_type": "stream",
     "text": [
      "['new', 'a', 'b', 'c', 'd', 'end']\n"
     ]
    }
   ],
   "source": [
    "sequence.insert(1, 'a')  # add item at index\n",
    "print(sequence)"
   ]
  },
  {
   "cell_type": "markdown",
   "metadata": {},
   "source": [
    "## Checking containment"
   ]
  },
  {
   "cell_type": "code",
   "execution_count": 19,
   "metadata": {},
   "outputs": [
    {
     "name": "stdout",
     "output_type": "stream",
     "text": [
      "False\n"
     ]
    }
   ],
   "source": [
    "print('e' in sequence)"
   ]
  },
  {
   "cell_type": "markdown",
   "metadata": {},
   "source": [
    "## Looping"
   ]
  },
  {
   "cell_type": "code",
   "execution_count": 20,
   "metadata": {},
   "outputs": [
    {
     "name": "stdout",
     "output_type": "stream",
     "text": [
      "newnew\n",
      "aa\n",
      "bb\n",
      "cc\n",
      "dd\n",
      "endend\n"
     ]
    }
   ],
   "source": [
    "for item in sequence:\n",
    "    print(item * 2)"
   ]
  },
  {
   "cell_type": "markdown",
   "metadata": {},
   "source": [
    "## List implementation\n",
    "\n",
    "(In CPython)\n",
    "\n",
    "Lists in Python store:\n",
    "1. The size of the list\n",
    "2. An array of pointers\n",
    "3. Values contained in the list (pointed to by an item in the above array)\n",
    "\n",
    "When you **update** the value at an index:\n",
    "1. The new value is stored\n",
    "2. The pointer at that index is updated to the new location\n",
    "\n",
    "When you **append** a new item, Python:\n",
    "1. Increases the size of the list by 1\n",
    "2. Stores the new item value\n",
    "3. Adds a pointer to the array of pointers\n",
    "\n",
    "**Note about appends**: So that Python doesn't have to update the size of the pointer array all the time, more space is allocated than is needed. Then when all spaces are filled, the array expands again. Therefore, some appends will take longer than others.\n",
    "\n",
    "If you **insert** an item at an index, it is the same as appending, except in step 3, the array has to move pointers around so the new pointer can be inserted at the proper location.\n",
    "\n",
    "If you **delete** an item, unless it's at the end, the array has to move pointers around to fill in the empty spot."
   ]
  },
  {
   "cell_type": "markdown",
   "metadata": {},
   "source": [
    "### Time complexity of operations\n",
    "\n",
    "**Fast**:\n",
    "- Updating existing item\n",
    "- Appending to the end\n",
    "\n",
    "**Slow**:\n",
    "- Deleting an item\n",
    "- Inserting at an index\n",
    "- Checking containment"
   ]
  }
 ],
 "metadata": {
  "jupytext": {
   "cell_metadata_filter": "-all",
   "formats": "ipynb,py:light",
   "notebook_metadata_filter": "-all"
  },
  "kernelspec": {
   "display_name": "Python 3",
   "language": "python",
   "name": "python3"
  },
  "language_info": {
   "codemirror_mode": {
    "name": "ipython",
    "version": 3
   },
   "file_extension": ".py",
   "mimetype": "text/x-python",
   "name": "python",
   "nbconvert_exporter": "python",
   "pygments_lexer": "ipython3",
   "version": "3.8.2"
  }
 },
 "nbformat": 4,
 "nbformat_minor": 4
}