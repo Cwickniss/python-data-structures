{
 "cells": [
  {
   "cell_type": "markdown",
   "id": "4ad02796",
   "metadata": {},
   "source": [
    "# collections.OrderedDict"
   ]
  },
  {
   "cell_type": "code",
   "execution_count": 1,
   "id": "0ca036a9",
   "metadata": {},
   "outputs": [],
   "source": [
    "from collections import OrderedDict"
   ]
  },
  {
   "cell_type": "markdown",
   "id": "f8423825",
   "metadata": {},
   "source": [
    "## Create\n",
    "### Empty dict"
   ]
  },
  {
   "cell_type": "code",
   "execution_count": 2,
   "id": "2f3ef9ef",
   "metadata": {},
   "outputs": [
    {
     "data": {
      "text/plain": [
       "OrderedDict()"
      ]
     },
     "execution_count": 2,
     "metadata": {},
     "output_type": "execute_result"
    }
   ],
   "source": [
    "a = OrderedDict()\n",
    "a"
   ]
  },
  {
   "cell_type": "markdown",
   "id": "4b5902a5",
   "metadata": {},
   "source": [
    "### From a dict"
   ]
  },
  {
   "cell_type": "code",
   "execution_count": 3,
   "id": "37d93d2f",
   "metadata": {},
   "outputs": [
    {
     "data": {
      "text/plain": [
       "OrderedDict([(1, 'a'), (2, 'b')])"
      ]
     },
     "execution_count": 3,
     "metadata": {},
     "output_type": "execute_result"
    }
   ],
   "source": [
    "b = OrderedDict({1: 'a', 2: 'b'})\n",
    "b"
   ]
  },
  {
   "cell_type": "markdown",
   "id": "863826b4",
   "metadata": {},
   "source": [
    "### From a sequence\n",
    "Each item in the sequence must be another sequence with length 2"
   ]
  },
  {
   "cell_type": "code",
   "execution_count": 4,
   "id": "d9f8a093",
   "metadata": {},
   "outputs": [
    {
     "data": {
      "text/plain": [
       "OrderedDict([('a', 'apple'), ('banana', 'b'), ('c', 'cherry')])"
      ]
     },
     "execution_count": 4,
     "metadata": {},
     "output_type": "execute_result"
    }
   ],
   "source": [
    "c = OrderedDict([['a', 'apple'], {'b', 'banana'}, ('c', 'cherry')])\n",
    "c"
   ]
  },
  {
   "cell_type": "markdown",
   "id": "71be7cb2",
   "metadata": {},
   "source": [
    "## Use like a dictionary\n",
    "`OrderedDict` has all the same methods as `dict`."
   ]
  },
  {
   "cell_type": "code",
   "execution_count": 5,
   "id": "daa29fae",
   "metadata": {},
   "outputs": [
    {
     "data": {
      "text/plain": [
       "OrderedDict([(1, 'a'), (2, 'b'), (0, 'z')])"
      ]
     },
     "execution_count": 5,
     "metadata": {},
     "output_type": "execute_result"
    }
   ],
   "source": [
    "b[0] = 'z'\n",
    "b"
   ]
  },
  {
   "cell_type": "code",
   "execution_count": 6,
   "id": "223825e9",
   "metadata": {},
   "outputs": [
    {
     "name": "stdout",
     "output_type": "stream",
     "text": [
      "z\n",
      "a\n",
      "b\n",
      "Not found\n"
     ]
    }
   ],
   "source": [
    "for i in range(4):\n",
    "    print(b.get(i, 'Not found'))"
   ]
  },
  {
   "cell_type": "markdown",
   "id": "b42850a4",
   "metadata": {},
   "source": [
    "## Iteration order\n",
    "When iterating, it retains memory of insertion order"
   ]
  },
  {
   "cell_type": "code",
   "execution_count": 7,
   "id": "114abb9a",
   "metadata": {},
   "outputs": [
    {
     "name": "stdout",
     "output_type": "stream",
     "text": [
      "1: a\n",
      "2: b\n",
      "0: z\n"
     ]
    }
   ],
   "source": [
    "for key, value in b.items():\n",
    "    print(f'{key}: {value}')"
   ]
  },
  {
   "cell_type": "markdown",
   "id": "5f72cd1f",
   "metadata": {},
   "source": [
    "## Pop item\n",
    "    Additional method to pop the last "
   ]
  },
  {
   "cell_type": "markdown",
   "id": "f8138ea5",
   "metadata": {},
   "source": [
    "## Reorder items\n",
    "`.move_to_end(key, last=True)` will move the item with `key` either to the end (`last=True`) or the front (`last=False`)."
   ]
  },
  {
   "cell_type": "code",
   "execution_count": 8,
   "id": "f03f4a21",
   "metadata": {},
   "outputs": [
    {
     "data": {
      "text/plain": [
       "OrderedDict([(2, 'b'), (0, 'z'), (1, 'a')])"
      ]
     },
     "execution_count": 8,
     "metadata": {},
     "output_type": "execute_result"
    }
   ],
   "source": [
    "b.move_to_end(1)\n",
    "b"
   ]
  },
  {
   "cell_type": "code",
   "execution_count": 9,
   "id": "47714edc",
   "metadata": {},
   "outputs": [
    {
     "data": {
      "text/plain": [
       "OrderedDict([(0, 'z'), (2, 'b'), (1, 'a')])"
      ]
     },
     "execution_count": 9,
     "metadata": {},
     "output_type": "execute_result"
    }
   ],
   "source": [
    "b.move_to_end(0, last=False)\n",
    "b"
   ]
  },
  {
   "cell_type": "code",
   "execution_count": 10,
   "id": "a266860f",
   "metadata": {},
   "outputs": [
    {
     "name": "stdout",
     "output_type": "stream",
     "text": [
      "0: z\n",
      "2: b\n",
      "1: a\n"
     ]
    }
   ],
   "source": [
    "for key, value in b.items():\n",
    "    print(f'{key}: {value}')"
   ]
  },
  {
   "cell_type": "markdown",
   "id": "ec3159d5",
   "metadata": {},
   "source": [
    "## When to use OrderedDict over dict\n",
    "`dict` is has been ordered since Python3.6.\n",
    "\n",
    "You should still use `OrderedDict` to:\n",
    "- Clearly state that the order is important\n",
    "- Use the `.move_to_end()` method\n",
    "- Test dictionary equality based on order\n",
    "- Maintain backwards compatibility with Python < 3.6"
   ]
  }
 ],
 "metadata": {
  "jupytext": {
   "cell_metadata_filter": "-all",
   "formats": "auto:light,ipynb",
   "notebook_metadata_filter": "-all"
  },
  "kernelspec": {
   "display_name": "Python 3 (ipykernel)",
   "language": "python",
   "name": "python3"
  },
  "language_info": {
   "codemirror_mode": {
    "name": "ipython",
    "version": 3
   },
   "file_extension": ".py",
   "mimetype": "text/x-python",
   "name": "python",
   "nbconvert_exporter": "python",
   "pygments_lexer": "ipython3",
   "version": "3.9.2"
  }
 },
 "nbformat": 4,
 "nbformat_minor": 5
}
