{
 "cells": [
  {
   "cell_type": "markdown",
   "id": "acda76e2",
   "metadata": {},
   "source": [
    "# Creating custom classes\n",
    "Any custom class should:\n",
    "- Override the default `.__init__()`, `.__str__()` and `.__repr__()` methods\n",
    "- Use PascalCase for its name unless you have a good reason not to\n",
    "- Use the appropriate dunder methods, like `.__len__()`, instead of a custom `.get_length()` or `.length` attribute"
   ]
  },
  {
   "cell_type": "code",
   "execution_count": 1,
   "id": "da423ae1",
   "metadata": {},
   "outputs": [],
   "source": [
    "class MyClass:\n",
    "    def __init__(self, data):\n",
    "        self.data = data\n",
    "        \n",
    "    def __len__(self):\n",
    "        if hasattr(self.data, '__len__'):  # Does self.data.__len__() exist?\n",
    "            return len(self.data)\n",
    "        return 1\n",
    "    \n",
    "    def times_2(self):\n",
    "        if hasattr(self.data, '__mul__'):\n",
    "            return self.data * 2\n",
    "        return self.data, self.data\n",
    "    \n",
    "    def __str__(self):\n",
    "        return str(self.data)\n",
    "        \n",
    "    def __repr__(self):\n",
    "        return f'MyClass({repr(self.data)})'"
   ]
  },
  {
   "cell_type": "code",
   "execution_count": 2,
   "id": "0513d0ea",
   "metadata": {
    "lines_to_end_of_cell_marker": 0,
    "lines_to_next_cell": 1
   },
   "outputs": [
    {
     "name": "stdout",
     "output_type": "stream",
     "text": [
      "{1: 2}\n",
      "[MyClass({1: 2})]\n",
      "1\n",
      "({1: 2}, {1: 2})\n"
     ]
    }
   ],
   "source": [
    "data = [1, 2]       # Try different data \n",
    "\n",
    "mc = MyClass(data)  # Calls __init__\n",
    "print(mc)           # Calls __str__\n",
    "print([mc])         # Calls __repr__\n",
    "print(len(mc))      # Calls __len__\n",
    "print(mc.times_2())"
   ]
  },
  {
   "cell_type": "markdown",
   "id": "349158c2",
   "metadata": {},
   "source": [
    "### Example: Custom Linked List"
   ]
  },
  {
   "cell_type": "code",
   "execution_count": 3,
   "id": "7af80601",
   "metadata": {
    "lines_to_end_of_cell_marker": 0,
    "lines_to_next_cell": 1
   },
   "outputs": [],
   "source": [
    "class LinkedList:\n",
    "    def __init__(self, iterable=None):\n",
    "        self.head = None\n",
    "        if iterable:\n",
    "            for i in iterable:\n",
    "                self.append(i)\n",
    "\n",
    "    def append(self, value):\n",
    "        node = Node(value, self.head)\n",
    "        self.head = node\n",
    "\n",
    "    def pop(self):\n",
    "        if self.head:\n",
    "            node = self.head\n",
    "            self.head = self.head.next\n",
    "            return node.value\n",
    "        return None\n",
    "\n",
    "    def __iter__(self):\n",
    "        node = self.head\n",
    "        while node is not None:\n",
    "            yield node\n",
    "            node = node.next\n",
    "            \n",
    "    def __repr__(self):\n",
    "        aslist = [val for val in self]\n",
    "        return f\"LinkedList{repr(aslist)}\"\n",
    "\n",
    "\n",
    "class Node:\n",
    "    def __init__(self, value, next_node):\n",
    "        self.value = value\n",
    "        self.next = next_node\n",
    "    \n",
    "    def __repr__(self):\n",
    "        return repr(self.value)"
   ]
  },
  {
   "cell_type": "code",
   "execution_count": 4,
   "id": "ced69477",
   "metadata": {},
   "outputs": [
    {
     "data": {
      "text/plain": [
       "LinkedList['c', 'b', 'a']"
      ]
     },
     "execution_count": 4,
     "metadata": {},
     "output_type": "execute_result"
    }
   ],
   "source": [
    "ll = LinkedList('abc')\n",
    "ll"
   ]
  },
  {
   "cell_type": "code",
   "execution_count": 5,
   "id": "367848bb",
   "metadata": {},
   "outputs": [
    {
     "data": {
      "text/plain": [
       "LinkedList['d', 'c', 'b', 'a']"
      ]
     },
     "execution_count": 5,
     "metadata": {},
     "output_type": "execute_result"
    }
   ],
   "source": [
    "ll.append('d')\n",
    "ll"
   ]
  },
  {
   "cell_type": "code",
   "execution_count": 6,
   "id": "73051cf9",
   "metadata": {
    "scrolled": true
   },
   "outputs": [
    {
     "data": {
      "text/plain": [
       "'d'"
      ]
     },
     "execution_count": 6,
     "metadata": {},
     "output_type": "execute_result"
    }
   ],
   "source": [
    "ll.pop()"
   ]
  },
  {
   "cell_type": "code",
   "execution_count": 7,
   "id": "4999b3e4",
   "metadata": {},
   "outputs": [
    {
     "data": {
      "text/plain": [
       "LinkedList['c', 'b', 'a']"
      ]
     },
     "execution_count": 7,
     "metadata": {},
     "output_type": "execute_result"
    }
   ],
   "source": [
    "ll"
   ]
  },
  {
   "cell_type": "code",
   "execution_count": 8,
   "id": "a89cc0d9",
   "metadata": {},
   "outputs": [
    {
     "name": "stdout",
     "output_type": "stream",
     "text": [
      "'c'\n",
      "'b'\n",
      "'a'\n"
     ]
    }
   ],
   "source": [
    "for val in ll:\n",
    "    print(val)"
   ]
  },
  {
   "cell_type": "markdown",
   "id": "5ca8c836",
   "metadata": {},
   "source": [
    "## Inheriting from a class\n",
    "Say we want to be able to subtract one string for another. The `-` operator currently throws `TypeError`."
   ]
  },
  {
   "cell_type": "code",
   "execution_count": 9,
   "id": "731b8ea9",
   "metadata": {
    "scrolled": true
   },
   "outputs": [
    {
     "name": "stdout",
     "output_type": "stream",
     "text": [
      "TypeError(\"unsupported operand type(s) for -: 'str' and 'str'\")\n"
     ]
    }
   ],
   "source": [
    "try:\n",
    "    'abc' - 'b'\n",
    "except Exception as e:\n",
    "    print(repr(e))"
   ]
  },
  {
   "cell_type": "markdown",
   "id": "e86457ea",
   "metadata": {},
   "source": [
    "We can inherit from `str`, use `self` to access the string, and add/override any methods we want."
   ]
  },
  {
   "cell_type": "code",
   "execution_count": 10,
   "id": "c75efd3c",
   "metadata": {},
   "outputs": [],
   "source": [
    "class mystr(str):\n",
    "    def __sub__(self, other):\n",
    "        result_list = [char for char in self if char not in other]\n",
    "        return ''.join(result_list)"
   ]
  },
  {
   "cell_type": "markdown",
   "id": "136413f7",
   "metadata": {},
   "source": [
    "To use it, wrap your string in the new class (create an instance of it)."
   ]
  },
  {
   "cell_type": "code",
   "execution_count": 11,
   "id": "523441b5",
   "metadata": {},
   "outputs": [
    {
     "data": {
      "text/plain": [
       "'abc'"
      ]
     },
     "execution_count": 11,
     "metadata": {},
     "output_type": "execute_result"
    }
   ],
   "source": [
    "test = mystr('abc')\n",
    "test"
   ]
  },
  {
   "cell_type": "code",
   "execution_count": 12,
   "id": "d1ccf72d",
   "metadata": {},
   "outputs": [
    {
     "data": {
      "text/plain": [
       "'ac'"
      ]
     },
     "execution_count": 12,
     "metadata": {},
     "output_type": "execute_result"
    }
   ],
   "source": [
    "test - 'b'"
   ]
  },
  {
   "cell_type": "code",
   "execution_count": 13,
   "id": "8492d159",
   "metadata": {},
   "outputs": [
    {
     "data": {
      "text/plain": [
       "'ABC'"
      ]
     },
     "execution_count": 13,
     "metadata": {},
     "output_type": "execute_result"
    }
   ],
   "source": [
    "test.upper()"
   ]
  },
  {
   "cell_type": "markdown",
   "id": "ed882ecd",
   "metadata": {},
   "source": [
    "## Inheriting from a collection class\n",
    "The `collections` module has `UserDict`, `UserList` and `UserString` to inherit from."
   ]
  },
  {
   "cell_type": "code",
   "execution_count": 14,
   "id": "dbf53784",
   "metadata": {
    "lines_to_end_of_cell_marker": 0,
    "lines_to_next_cell": 1
   },
   "outputs": [],
   "source": [
    "from collections import UserList\n",
    "\n",
    "class MyList(UserList):\n",
    "    def upper(self):\n",
    "        new_data = []\n",
    "        for val in self.data:\n",
    "            if isinstance(val, str):\n",
    "                new_data.append(val.upper())\n",
    "            else:\n",
    "                new_data.append(val)\n",
    "        return MyList(new_data)"
   ]
  },
  {
   "cell_type": "code",
   "execution_count": 15,
   "id": "571df727",
   "metadata": {},
   "outputs": [
    {
     "data": {
      "text/plain": [
       "MyList([1, 'a', 2, 'b'])"
      ]
     },
     "execution_count": 15,
     "metadata": {},
     "output_type": "execute_result"
    }
   ],
   "source": [
    "l = MyList([1, 'a', 2, 'b'])\n",
    "l"
   ]
  },
  {
   "cell_type": "code",
   "execution_count": 16,
   "id": "4e367baf",
   "metadata": {},
   "outputs": [
    {
     "data": {
      "text/plain": [
       "MyList([1, 'A', 2, 'B'])"
      ]
     },
     "execution_count": 16,
     "metadata": {},
     "output_type": "execute_result"
    }
   ],
   "source": [
    "l.upper()"
   ]
  },
  {
   "cell_type": "code",
   "execution_count": 17,
   "id": "6d1eaf0d",
   "metadata": {},
   "outputs": [
    {
     "data": {
      "text/plain": [
       "'a'"
      ]
     },
     "execution_count": 17,
     "metadata": {},
     "output_type": "execute_result"
    }
   ],
   "source": [
    "l[1]"
   ]
  }
 ],
 "metadata": {
  "jupytext": {
   "cell_metadata_filter": "-all",
   "formats": "ipynb,auto:light",
   "notebook_metadata_filter": "-all"
  },
  "kernelspec": {
   "display_name": "Python 3 (ipykernel)",
   "language": "python",
   "name": "python3"
  },
  "language_info": {
   "codemirror_mode": {
    "name": "ipython",
    "version": 3
   },
   "file_extension": ".py",
   "mimetype": "text/x-python",
   "name": "python",
   "nbconvert_exporter": "python",
   "pygments_lexer": "ipython3",
   "version": "3.9.2"
  }
 },
 "nbformat": 4,
 "nbformat_minor": 5
}