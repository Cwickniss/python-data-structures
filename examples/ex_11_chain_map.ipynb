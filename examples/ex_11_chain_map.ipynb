{
 "cells": [
  {
   "cell_type": "markdown",
   "id": "c4cccb84",
   "metadata": {},
   "source": [
    "# collections.ChainMap\n",
    "Search through multiple dictionaries at once."
   ]
  },
  {
   "cell_type": "code",
   "execution_count": 1,
   "id": "b4343dc4",
   "metadata": {},
   "outputs": [],
   "source": [
    "from collections import ChainMap"
   ]
  },
  {
   "cell_type": "code",
   "execution_count": 2,
   "id": "8675f236",
   "metadata": {},
   "outputs": [],
   "source": [
    "dict1 = {\"one\": 1, \"two\": 2, \"three\": 33}\n",
    "dict2 = {\"three\": 3, \"four\": 4}"
   ]
  },
  {
   "cell_type": "code",
   "execution_count": 3,
   "id": "aa8385ce",
   "metadata": {},
   "outputs": [
    {
     "data": {
      "text/plain": [
       "ChainMap({'one': 1, 'two': 2, 'three': 33}, {'three': 3, 'four': 4})"
      ]
     },
     "execution_count": 3,
     "metadata": {},
     "output_type": "execute_result"
    }
   ],
   "source": [
    "chain = ChainMap(dict1, dict2)\n",
    "chain"
   ]
  },
  {
   "cell_type": "markdown",
   "id": "4d09bd5b",
   "metadata": {},
   "source": [
    "## Key lookup\n",
    "Searches for keys in order."
   ]
  },
  {
   "cell_type": "code",
   "execution_count": 4,
   "id": "207f94bc",
   "metadata": {},
   "outputs": [
    {
     "data": {
      "text/plain": [
       "33"
      ]
     },
     "execution_count": 4,
     "metadata": {},
     "output_type": "execute_result"
    }
   ],
   "source": [
    "chain[\"three\"]"
   ]
  },
  {
   "cell_type": "code",
   "execution_count": 5,
   "id": "0d666c47",
   "metadata": {},
   "outputs": [
    {
     "data": {
      "text/plain": [
       "4"
      ]
     },
     "execution_count": 5,
     "metadata": {},
     "output_type": "execute_result"
    }
   ],
   "source": [
    "chain.get(\"four\")"
   ]
  },
  {
   "cell_type": "code",
   "execution_count": 6,
   "id": "955613fa",
   "metadata": {},
   "outputs": [
    {
     "data": {
      "text/plain": [
       "'-'"
      ]
     },
     "execution_count": 6,
     "metadata": {},
     "output_type": "execute_result"
    }
   ],
   "source": [
    "chain.get(\"five\", \"-\")"
   ]
  },
  {
   "cell_type": "markdown",
   "id": "b10f4e76",
   "metadata": {},
   "source": [
    "## Updates\n",
    "Updating existing keys affects the first one found."
   ]
  },
  {
   "cell_type": "code",
   "execution_count": 7,
   "id": "284e953d",
   "metadata": {},
   "outputs": [
    {
     "data": {
      "text/plain": [
       "ChainMap({'one': 1, 'two': 2, 'three': -3}, {'three': 3, 'four': 4})"
      ]
     },
     "execution_count": 7,
     "metadata": {},
     "output_type": "execute_result"
    }
   ],
   "source": [
    "chain[\"three\"] = -3\n",
    "chain"
   ]
  },
  {
   "cell_type": "code",
   "execution_count": 8,
   "id": "6267bda2",
   "metadata": {},
   "outputs": [
    {
     "data": {
      "text/plain": [
       "ChainMap({'one': 1, 'two': 2}, {'three': 3, 'four': 4})"
      ]
     },
     "execution_count": 8,
     "metadata": {},
     "output_type": "execute_result"
    }
   ],
   "source": [
    "del chain[\"three\"]\n",
    "chain"
   ]
  },
  {
   "cell_type": "markdown",
   "id": "58dc1aed",
   "metadata": {},
   "source": [
    "Adding new items adds them to the first `dict`."
   ]
  },
  {
   "cell_type": "code",
   "execution_count": 9,
   "id": "06fcbefc",
   "metadata": {},
   "outputs": [
    {
     "data": {
      "text/plain": [
       "ChainMap({'one': 1, 'two': 2, 'six': 6}, {'three': 3, 'four': 4})"
      ]
     },
     "execution_count": 9,
     "metadata": {},
     "output_type": "execute_result"
    }
   ],
   "source": [
    "chain[\"six\"] = 6\n",
    "chain"
   ]
  }
 ],
 "metadata": {
  "jupytext": {
   "cell_metadata_filter": "-all",
   "formats": "auto:light,ipynb",
   "notebook_metadata_filter": "-all"
  },
  "kernelspec": {
   "display_name": "Python 3 (ipykernel)",
   "language": "python",
   "name": "python3"
  },
  "language_info": {
   "codemirror_mode": {
    "name": "ipython",
    "version": 3
   },
   "file_extension": ".py",
   "mimetype": "text/x-python",
   "name": "python",
   "nbconvert_exporter": "python",
   "pygments_lexer": "ipython3",
   "version": "3.9.2"
  }
 },
 "nbformat": 4,
 "nbformat_minor": 5
}
