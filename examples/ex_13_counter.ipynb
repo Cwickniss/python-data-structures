{
 "cells": [
  {
   "cell_type": "markdown",
   "id": "d5fac643",
   "metadata": {},
   "source": [
    "# collections.Counter\n",
    "Also called a multiset or bag, `Counter` keeps track of how many times an element is included in a set."
   ]
  },
  {
   "cell_type": "code",
   "execution_count": 1,
   "id": "5a10f6d6",
   "metadata": {},
   "outputs": [],
   "source": [
    "from collections import Counter"
   ]
  },
  {
   "cell_type": "code",
   "execution_count": 2,
   "id": "526d5f39",
   "metadata": {},
   "outputs": [
    {
     "data": {
      "text/plain": [
       "Counter({'silver': 4, 'gold': 1, 'copper': 4})"
      ]
     },
     "execution_count": 2,
     "metadata": {},
     "output_type": "execute_result"
    }
   ],
   "source": [
    "coins = Counter()\n",
    "coins.update(['silver', 'silver', 'gold'])\n",
    "coins.update({'copper': 4, 'silver': 2})\n",
    "coins"
   ]
  },
  {
   "cell_type": "markdown",
   "id": "fc8dae8b",
   "metadata": {},
   "source": [
    "It's like a specialized `dict`, where the **key** is an element and the **value** is an integer of counts.\n",
    "## Creating counters \n",
    "### From a sequence\n",
    "If the sequence can contain duplicates, like `list` or `tuple`, it will keep track of item counts"
   ]
  },
  {
   "cell_type": "code",
   "execution_count": 3,
   "id": "c1835c60",
   "metadata": {},
   "outputs": [
    {
     "data": {
      "text/plain": [
       "Counter({1: 4, 3: 2, 2: 1, 4: 1})"
      ]
     },
     "execution_count": 3,
     "metadata": {},
     "output_type": "execute_result"
    }
   ],
   "source": [
    "a = Counter([1, 1, 3, 2, 1, 3, 4, 1])\n",
    "a"
   ]
  },
  {
   "cell_type": "markdown",
   "id": "686dbf5c",
   "metadata": {},
   "source": [
    "Sets remove duplicates when created, each count will be 1."
   ]
  },
  {
   "cell_type": "code",
   "execution_count": 4,
   "id": "25df15bb",
   "metadata": {},
   "outputs": [
    {
     "data": {
      "text/plain": [
       "Counter({1: 1, 2: 1, 3: 1, 4: 1})"
      ]
     },
     "execution_count": 4,
     "metadata": {},
     "output_type": "execute_result"
    }
   ],
   "source": [
    "b = Counter({1, 1, 3, 2, 1, 3, 4, 1})\n",
    "b"
   ]
  },
  {
   "cell_type": "markdown",
   "id": "5f60adf9",
   "metadata": {},
   "source": [
    "### From a dictionary\n",
    "It will treat `{key: value}` as `{element: count}`"
   ]
  },
  {
   "cell_type": "code",
   "execution_count": 5,
   "id": "3b21c769",
   "metadata": {},
   "outputs": [
    {
     "data": {
      "text/plain": [
       "Counter({'a': 2, 'b': 5, 'c': 1})"
      ]
     },
     "execution_count": 5,
     "metadata": {},
     "output_type": "execute_result"
    }
   ],
   "source": [
    "c = Counter({'a': 2, 'b': 5, 'c': 1})\n",
    "c"
   ]
  },
  {
   "cell_type": "markdown",
   "id": "0730a445",
   "metadata": {},
   "source": [
    "If your dictionary _values_ are not all `int`s, some methods will work, and others will give you errors."
   ]
  },
  {
   "cell_type": "code",
   "execution_count": 6,
   "id": "5c5efd8f",
   "metadata": {},
   "outputs": [
    {
     "data": {
      "text/plain": [
       "Counter({'a': 2, 'b': 'hi', 'c': 2.0})"
      ]
     },
     "execution_count": 6,
     "metadata": {},
     "output_type": "execute_result"
    }
   ],
   "source": [
    "d = Counter({'a': 2, 'b': 'hi', 'c': 1.})\n",
    "d.update('c')\n",
    "d"
   ]
  },
  {
   "cell_type": "code",
   "execution_count": 7,
   "id": "22f130c1",
   "metadata": {},
   "outputs": [
    {
     "name": "stdout",
     "output_type": "stream",
     "text": [
      "TypeError('can only concatenate str (not \"int\") to str')\n"
     ]
    }
   ],
   "source": [
    "try:\n",
    "    d.update('b')\n",
    "except Exception as e:\n",
    "    print(repr(e))"
   ]
  },
  {
   "cell_type": "markdown",
   "id": "8e913352",
   "metadata": {
    "lines_to_next_cell": 2
   },
   "source": [
    "## Updating\n",
    "You can pass in a sequence or dict of counts."
   ]
  },
  {
   "cell_type": "code",
   "execution_count": 8,
   "id": "0c7ca1a9",
   "metadata": {},
   "outputs": [
    {
     "data": {
      "text/plain": [
       "Counter()"
      ]
     },
     "execution_count": 8,
     "metadata": {},
     "output_type": "execute_result"
    }
   ],
   "source": [
    "e = Counter()\n",
    "e"
   ]
  },
  {
   "cell_type": "markdown",
   "id": "316e3f28",
   "metadata": {},
   "source": [
    "`.update()` to adds items (uses the `+` operator)"
   ]
  },
  {
   "cell_type": "code",
   "execution_count": 9,
   "id": "2d2b8bcd",
   "metadata": {},
   "outputs": [
    {
     "data": {
      "text/plain": [
       "Counter({'a': 1, 'b': 3})"
      ]
     },
     "execution_count": 9,
     "metadata": {},
     "output_type": "execute_result"
    }
   ],
   "source": [
    "e.update('abbb')\n",
    "e"
   ]
  },
  {
   "cell_type": "code",
   "execution_count": 10,
   "id": "92b9dd68",
   "metadata": {},
   "outputs": [
    {
     "data": {
      "text/plain": [
       "Counter({'a': 2, 'b': 3, 'c': 1})"
      ]
     },
     "execution_count": 10,
     "metadata": {},
     "output_type": "execute_result"
    }
   ],
   "source": [
    "e.update({'c', 'c', 'a'})  # c is only counted once in a normal set\n",
    "e"
   ]
  },
  {
   "cell_type": "code",
   "execution_count": 11,
   "id": "8e2011b9",
   "metadata": {},
   "outputs": [
    {
     "data": {
      "text/plain": [
       "Counter({'a': 2, 'b': 3, 'c': -2, 'd': 2})"
      ]
     },
     "execution_count": 11,
     "metadata": {},
     "output_type": "execute_result"
    }
   ],
   "source": [
    "e.update({'c':-3, 'd': 2})\n",
    "e"
   ]
  },
  {
   "cell_type": "markdown",
   "id": "4266a57d",
   "metadata": {},
   "source": [
    "`.subtract()` removes items (uses the `-` operator)"
   ]
  },
  {
   "cell_type": "code",
   "execution_count": 12,
   "id": "e2aa7699",
   "metadata": {},
   "outputs": [
    {
     "data": {
      "text/plain": [
       "Counter({'a': 1, 'b': 0, 'c': -2, 'd': 2})"
      ]
     },
     "execution_count": 12,
     "metadata": {},
     "output_type": "execute_result"
    }
   ],
   "source": [
    "e.subtract('abbb')\n",
    "e"
   ]
  },
  {
   "cell_type": "code",
   "execution_count": 13,
   "id": "1057bdcd",
   "metadata": {},
   "outputs": [
    {
     "data": {
      "text/plain": [
       "Counter({'a': 4, 'b': -3, 'c': -2, 'd': 2})"
      ]
     },
     "execution_count": 13,
     "metadata": {},
     "output_type": "execute_result"
    }
   ],
   "source": [
    "e.subtract({'a': -3, 'b': 3})\n",
    "e"
   ]
  },
  {
   "cell_type": "markdown",
   "id": "331d945c",
   "metadata": {},
   "source": [
    "## Counters are like dictionaries"
   ]
  },
  {
   "cell_type": "code",
   "execution_count": 14,
   "id": "9bedd871",
   "metadata": {},
   "outputs": [
    {
     "data": {
      "text/plain": [
       "4"
      ]
     },
     "execution_count": 14,
     "metadata": {},
     "output_type": "execute_result"
    }
   ],
   "source": [
    "e['a']"
   ]
  },
  {
   "cell_type": "code",
   "execution_count": 15,
   "id": "4d10a5e9",
   "metadata": {},
   "outputs": [
    {
     "data": {
      "text/plain": [
       "2"
      ]
     },
     "execution_count": 15,
     "metadata": {},
     "output_type": "execute_result"
    }
   ],
   "source": [
    "e.get('d', 0)"
   ]
  },
  {
   "cell_type": "code",
   "execution_count": 16,
   "id": "7357acd2",
   "metadata": {},
   "outputs": [
    {
     "data": {
      "text/plain": [
       "0"
      ]
     },
     "execution_count": 16,
     "metadata": {},
     "output_type": "execute_result"
    }
   ],
   "source": [
    "e.get('e', 0)"
   ]
  },
  {
   "cell_type": "code",
   "execution_count": 17,
   "id": "0f436d31",
   "metadata": {},
   "outputs": [],
   "source": [
    "e['c'] = 1"
   ]
  },
  {
   "cell_type": "code",
   "execution_count": 18,
   "id": "21652acb",
   "metadata": {},
   "outputs": [
    {
     "name": "stdout",
     "output_type": "stream",
     "text": [
      "a: 4\n",
      "b: -3\n",
      "c: 1\n",
      "d: 2\n"
     ]
    }
   ],
   "source": [
    "for key, value in e.items():\n",
    "    print(f'{key}: {value}')"
   ]
  },
  {
   "cell_type": "markdown",
   "id": "dbc3d76b",
   "metadata": {},
   "source": [
    "## Special Counter methods\n",
    "`.elements()` is an iterator of all the elements, repeating each value as many times as its count"
   ]
  },
  {
   "cell_type": "code",
   "execution_count": 19,
   "id": "6225e4b8",
   "metadata": {},
   "outputs": [
    {
     "name": "stdout",
     "output_type": "stream",
     "text": [
      "a\n",
      "a\n",
      "a\n",
      "a\n",
      "c\n",
      "d\n",
      "d\n"
     ]
    }
   ],
   "source": [
    "for element in e.elements():  # negative integer counts won't be included\n",
    "    print(element)"
   ]
  },
  {
   "cell_type": "markdown",
   "id": "ca035ab5",
   "metadata": {},
   "source": [
    "`.elements()` expects all counts to be integers"
   ]
  },
  {
   "cell_type": "code",
   "execution_count": 20,
   "id": "cc8fe848",
   "metadata": {},
   "outputs": [
    {
     "data": {
      "text/plain": [
       "Counter({'a': 4, 'b': -3, 'c': 1.0, 'd': 2})"
      ]
     },
     "execution_count": 20,
     "metadata": {},
     "output_type": "execute_result"
    }
   ],
   "source": [
    "e['c'] = 1.0\n",
    "e"
   ]
  },
  {
   "cell_type": "code",
   "execution_count": 21,
   "id": "b1a1ea1a",
   "metadata": {},
   "outputs": [
    {
     "name": "stdout",
     "output_type": "stream",
     "text": [
      "a\n",
      "a\n",
      "a\n",
      "a\n",
      "TypeError('integer argument expected, got float')\n"
     ]
    }
   ],
   "source": [
    "try:\n",
    "    for value in e.elements():\n",
    "        print(value)\n",
    "except Exception as ex:\n",
    "    print(repr(ex))"
   ]
  },
  {
   "cell_type": "markdown",
   "id": "bd8ed6be",
   "metadata": {},
   "source": [
    "`.most_common()` will return a list of the most common elements as `(element, count)`. If you pass an integer `n`, only that number are returned."
   ]
  },
  {
   "cell_type": "code",
   "execution_count": 22,
   "id": "685027ec",
   "metadata": {},
   "outputs": [
    {
     "data": {
      "text/plain": [
       "[('a', 4), ('d', 2), ('c', 1.0), ('b', -3)]"
      ]
     },
     "execution_count": 22,
     "metadata": {},
     "output_type": "execute_result"
    }
   ],
   "source": [
    "e.most_common()"
   ]
  },
  {
   "cell_type": "code",
   "execution_count": 23,
   "id": "16e6cb27",
   "metadata": {},
   "outputs": [
    {
     "data": {
      "text/plain": [
       "[('a', 4), ('d', 2)]"
      ]
     },
     "execution_count": 23,
     "metadata": {},
     "output_type": "execute_result"
    }
   ],
   "source": [
    "e.most_common(2)"
   ]
  }
 ],
 "metadata": {
  "jupytext": {
   "cell_metadata_filter": "-all",
   "formats": "auto:light,ipynb",
   "main_language": "python",
   "notebook_metadata_filter": "-all"
  },
  "kernelspec": {
   "display_name": "Python 3 (ipykernel)",
   "language": "python",
   "name": "python3"
  },
  "language_info": {
   "codemirror_mode": {
    "name": "ipython",
    "version": 3
   },
   "file_extension": ".py",
   "mimetype": "text/x-python",
   "name": "python",
   "nbconvert_exporter": "python",
   "pygments_lexer": "ipython3",
   "version": "3.9.2"
  }
 },
 "nbformat": 4,
 "nbformat_minor": 5
}