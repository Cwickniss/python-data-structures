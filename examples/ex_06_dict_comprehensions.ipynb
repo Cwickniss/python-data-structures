{
 "cells": [
  {
   "cell_type": "markdown",
   "id": "c4e35be0",
   "metadata": {},
   "source": [
    "# Dict Comprehensions\n",
    "Just like list comprehensions, but use a different syntax to create dicts.\n",
    "## Basic comprehsions\n",
    "Format: `{key_exp: value_exp for member in iterable}`"
   ]
  },
  {
   "cell_type": "code",
   "execution_count": 1,
   "id": "6c7765f2",
   "metadata": {},
   "outputs": [
    {
     "data": {
      "text/plain": [
       "{2: 4, 4: 16, 6: 64, 8: 256}"
      ]
     },
     "execution_count": 1,
     "metadata": {},
     "output_type": "execute_result"
    }
   ],
   "source": [
    "powers_of_2 = {i: 2**i for i in range(2, 10, 2)}\n",
    "powers_of_2"
   ]
  },
  {
   "cell_type": "markdown",
   "id": "e9af6c7b",
   "metadata": {},
   "source": [
    "### As for-loop"
   ]
  },
  {
   "cell_type": "code",
   "execution_count": 2,
   "id": "f07432ec",
   "metadata": {},
   "outputs": [
    {
     "data": {
      "text/plain": [
       "{2: 4, 4: 16, 6: 64, 8: 256}"
      ]
     },
     "execution_count": 2,
     "metadata": {},
     "output_type": "execute_result"
    }
   ],
   "source": [
    "powers_of_2 = {}\n",
    "for i in range(2, 10, 2):\n",
    "    powers_of_2[i] = 2**i\n",
    "\n",
    "powers_of_2"
   ]
  },
  {
   "cell_type": "markdown",
   "id": "22e41137",
   "metadata": {},
   "source": [
    "## Using conditionals"
   ]
  },
  {
   "cell_type": "code",
   "execution_count": 3,
   "id": "489b9be4",
   "metadata": {},
   "outputs": [
    {
     "data": {
      "text/plain": [
       "{'c': 3,\n",
       " 'p': 9,\n",
       " 't': 1,\n",
       " 's': 1,\n",
       " 'd': 2,\n",
       " 'r': 3,\n",
       " 'l': 1,\n",
       " 'o': 1,\n",
       " 'e': 8,\n",
       " 'f': 1,\n",
       " 'i': 3,\n",
       " 'a': 1,\n",
       " 'k': 3}"
      ]
     },
     "execution_count": 3,
     "metadata": {},
     "output_type": "execute_result"
    }
   ],
   "source": [
    "phrase = \"peter piper picked a peck of pickled peppers\"\n",
    "letter_set = set(phrase)\n",
    "\n",
    "letter_counts = {char: phrase.count(char) for char in letter_set if char != ' '}\n",
    "letter_counts"
   ]
  },
  {
   "cell_type": "markdown",
   "id": "9ab06a97",
   "metadata": {},
   "source": [
    "### As for-loop"
   ]
  },
  {
   "cell_type": "code",
   "execution_count": 4,
   "id": "76495fc5",
   "metadata": {},
   "outputs": [
    {
     "data": {
      "text/plain": [
       "{'c': 3,\n",
       " 'p': 9,\n",
       " 't': 1,\n",
       " 's': 1,\n",
       " 'd': 2,\n",
       " 'r': 3,\n",
       " 'l': 1,\n",
       " 'o': 1,\n",
       " 'e': 8,\n",
       " 'f': 1,\n",
       " 'i': 3,\n",
       " 'a': 1,\n",
       " 'k': 3}"
      ]
     },
     "execution_count": 4,
     "metadata": {},
     "output_type": "execute_result"
    }
   ],
   "source": [
    "phrase = \"peter piper picked a peck of pickled peppers\"\n",
    "letter_set = set(phrase)\n",
    "\n",
    "letter_counts = {}\n",
    "for char in letter_set:\n",
    "    if char != ' ':\n",
    "        letter_counts[char] = phrase.count(char)\n",
    "\n",
    "letter_counts"
   ]
  },
  {
   "cell_type": "markdown",
   "id": "cad6ff9d",
   "metadata": {},
   "source": [
    "## With ternary operator"
   ]
  },
  {
   "cell_type": "code",
   "execution_count": 5,
   "id": "b8bc6e82",
   "metadata": {},
   "outputs": [
    {
     "data": {
      "text/plain": [
       "{0: True,\n",
       " 1: False,\n",
       " 2: True,\n",
       " 3: False,\n",
       " 4: True,\n",
       " 5: False,\n",
       " 6: True,\n",
       " 7: False,\n",
       " 8: True,\n",
       " 9: False}"
      ]
     },
     "execution_count": 5,
     "metadata": {},
     "output_type": "execute_result"
    }
   ],
   "source": [
    "is_even = {i: True if i % 2 == 0 else False for i in range(10)}\n",
    "is_even"
   ]
  },
  {
   "cell_type": "code",
   "execution_count": 6,
   "id": "caae4b00",
   "metadata": {},
   "outputs": [
    {
     "data": {
      "text/plain": [
       "{0: False,\n",
       " 1: True,\n",
       " 2: False,\n",
       " 3: True,\n",
       " 4: False,\n",
       " 5: True,\n",
       " 6: False,\n",
       " 7: True,\n",
       " 8: False,\n",
       " 9: True}"
      ]
     },
     "execution_count": 6,
     "metadata": {},
     "output_type": "execute_result"
    }
   ],
   "source": [
    "is_even = {}\n",
    "for i in range(10):\n",
    "    if i % 2 == 1:\n",
    "        is_even[i] = True\n",
    "    else:\n",
    "        is_even[i] = False\n",
    "is_even"
   ]
  },
  {
   "cell_type": "markdown",
   "id": "557b1346",
   "metadata": {},
   "source": [
    "## Nested comprehensions\n",
    "### Dict wth list values"
   ]
  },
  {
   "cell_type": "code",
   "execution_count": 7,
   "id": "c105892f",
   "metadata": {},
   "outputs": [
    {
     "data": {
      "text/plain": [
       "{0: [],\n",
       " 1: [0],\n",
       " 2: [0, 1],\n",
       " 3: [0, 1, 2],\n",
       " 4: [0, 1, 2, 3],\n",
       " 5: [0, 1, 2, 3, 4],\n",
       " 6: [0, 1, 2, 3, 4, 5],\n",
       " 7: [0, 1, 2, 3, 4, 5, 6],\n",
       " 8: [0, 1, 2, 3, 4, 5, 6, 7],\n",
       " 9: [0, 1, 2, 3, 4, 5, 6, 7, 8]}"
      ]
     },
     "execution_count": 7,
     "metadata": {},
     "output_type": "execute_result"
    }
   ],
   "source": [
    "lesser_nums = {\n",
    "    i: [j for j in range(i)] for i in range(10)\n",
    "}\n",
    "lesser_nums"
   ]
  },
  {
   "cell_type": "markdown",
   "id": "ddf96f77",
   "metadata": {},
   "source": [
    "### As for-loop"
   ]
  },
  {
   "cell_type": "code",
   "execution_count": 8,
   "id": "91d1db76",
   "metadata": {},
   "outputs": [
    {
     "data": {
      "text/plain": [
       "{0: [],\n",
       " 1: [0],\n",
       " 2: [0, 1],\n",
       " 3: [0, 1, 2],\n",
       " 4: [0, 1, 2, 3],\n",
       " 5: [0, 1, 2, 3, 4],\n",
       " 6: [0, 1, 2, 3, 4, 5],\n",
       " 7: [0, 1, 2, 3, 4, 5, 6],\n",
       " 8: [0, 1, 2, 3, 4, 5, 6, 7],\n",
       " 9: [0, 1, 2, 3, 4, 5, 6, 7, 8]}"
      ]
     },
     "execution_count": 8,
     "metadata": {},
     "output_type": "execute_result"
    }
   ],
   "source": [
    "lesser_nums = {}\n",
    "for i in range(10):\n",
    "    nums = []\n",
    "    for j in range(i):\n",
    "        nums.append(j)\n",
    "    lesser_nums[i] = nums\n",
    "lesser_nums"
   ]
  },
  {
   "cell_type": "markdown",
   "id": "c70af573",
   "metadata": {},
   "source": [
    "### Flat nesting"
   ]
  },
  {
   "cell_type": "code",
   "execution_count": 9,
   "id": "2edb278f",
   "metadata": {},
   "outputs": [
    {
     "data": {
      "text/plain": [
       "{(0, 0): 0,\n",
       " (0, 1): 0,\n",
       " (0, 2): 0,\n",
       " (1, 0): 0,\n",
       " (1, 1): 1,\n",
       " (1, 2): 2,\n",
       " (2, 0): 0,\n",
       " (2, 1): 2,\n",
       " (2, 2): 4}"
      ]
     },
     "execution_count": 9,
     "metadata": {},
     "output_type": "execute_result"
    }
   ],
   "source": [
    "products = {(x, y): x*y for x in range(3) for y in range(3)}\n",
    "products"
   ]
  },
  {
   "cell_type": "markdown",
   "id": "d3d966ee",
   "metadata": {},
   "source": [
    "### As for-loop"
   ]
  },
  {
   "cell_type": "code",
   "execution_count": 10,
   "id": "b71fc5aa",
   "metadata": {},
   "outputs": [
    {
     "data": {
      "text/plain": [
       "{(0, 0): 0,\n",
       " (0, 1): 0,\n",
       " (0, 2): 0,\n",
       " (1, 0): 0,\n",
       " (1, 1): 1,\n",
       " (1, 2): 2,\n",
       " (2, 0): 0,\n",
       " (2, 1): 2,\n",
       " (2, 2): 4}"
      ]
     },
     "execution_count": 10,
     "metadata": {},
     "output_type": "execute_result"
    }
   ],
   "source": [
    "products = {}\n",
    "for x in range(3):\n",
    "    for y in range(3):\n",
    "        products[(x, y)] = x * y\n",
    "products"
   ]
  }
 ],
 "metadata": {
  "jupytext": {
   "cell_metadata_filter": "-all",
   "formats": "auto:light,ipynb",
   "notebook_metadata_filter": "-all"
  },
  "kernelspec": {
   "display_name": "Python 3 (ipykernel)",
   "language": "python",
   "name": "python3"
  },
  "language_info": {
   "codemirror_mode": {
    "name": "ipython",
    "version": 3
   },
   "file_extension": ".py",
   "mimetype": "text/x-python",
   "name": "python",
   "nbconvert_exporter": "python",
   "pygments_lexer": "ipython3",
   "version": "3.9.2"
  }
 },
 "nbformat": 4,
 "nbformat_minor": 5
}