{
 "cells": [
  {
   "cell_type": "markdown",
   "id": "d8255706",
   "metadata": {},
   "source": [
    "# Survey analysis\n",
    "Analyse the results from the [languages survey](https://forms.gle/5b3mZRVcgAsoNG1FA)"
   ]
  },
  {
   "cell_type": "code",
   "execution_count": null,
   "id": "b3072b87",
   "metadata": {},
   "outputs": [],
   "source": [
    "all_langs = ['Python', 'Java', 'JavaScript', 'TypeScript', 'PHP', 'SQL', 'C', 'C++', 'C#',\n",
    "             'Ruby', 'R', 'Matlab', 'Go', 'Rust', 'Objective-C', 'Swift', 'Visual Basic',\n",
    "             'Perl', 'Cobol', 'Fortran', 'Lisp', 'Assembly', 'Kotlin', 'Dart', 'Scala',\n",
    "             'Lua', 'Delphi', 'Haskell', 'Julia', 'Clojure', 'Elixir', 'Pascal']"
   ]
  },
  {
   "cell_type": "markdown",
   "id": "749b98b8",
   "metadata": {},
   "source": [
    "# Load data"
   ]
  },
  {
   "cell_type": "code",
   "execution_count": null,
   "id": "1de8f71e",
   "metadata": {},
   "outputs": [],
   "source": [
    "from pprint import pprint\n",
    "import pandas as pd\n",
    "\n",
    "filename = '../data/Programming language survey.csv'\n",
    "df = pd.read_csv(filename, header=0, names=('timestamp', 'languages', 'years'), usecols=('languages', 'years'))\n",
    "    \n",
    "df.head()"
   ]
  },
  {
   "cell_type": "code",
   "execution_count": null,
   "id": "23a4cdbf",
   "metadata": {},
   "outputs": [],
   "source": [
    "import re\n",
    "\n",
    "for lang in all_langs:\n",
    "    regex = rf'(^|;){re.escape(lang)}($|;)'\n",
    "    df[lang] = df['languages'].str.contains(regex)\n",
    "df"
   ]
  },
  {
   "cell_type": "markdown",
   "id": "14e65618",
   "metadata": {},
   "source": [
    "## Find number of languages known\n",
    "Print `\"{# known by class} / {# in list} languages known by this class (as %)\"`.\n",
    "\n",
    "E.g. **12/21 languages known by this class (57%)**"
   ]
  },
  {
   "cell_type": "code",
   "execution_count": null,
   "id": "e03f07ba",
   "metadata": {},
   "outputs": [],
   "source": [
    "known_langs = df.columns[df.eq(True).any()].tolist()\n",
    "known_langs"
   ]
  },
  {
   "cell_type": "code",
   "execution_count": null,
   "id": "83f2f588",
   "metadata": {},
   "outputs": [],
   "source": [
    "percent = round(len(known_langs)/len(all_langs) * 100)\n",
    "print(f\"{len(known_langs)}/{len(all_langs)} languages known by this class ({percent}%)\")"
   ]
  },
  {
   "cell_type": "markdown",
   "id": "139e5e8e",
   "metadata": {},
   "source": [
    "## List languages not known by anyone in the class"
   ]
  },
  {
   "cell_type": "code",
   "execution_count": null,
   "id": "347b469a",
   "metadata": {},
   "outputs": [],
   "source": [
    "print('Not known:')\n",
    "', '.join(df.columns[df.eq(False).all()].tolist())"
   ]
  },
  {
   "cell_type": "markdown",
   "id": "ce6244e3",
   "metadata": {},
   "source": [
    "## Rank languages by most commonly known\n",
    "Print each language as `\"{position}: {language} ({percent_known}%)\"`, in order from most to least known\n",
    "\n",
    "e.g. **1: Python (93%)**"
   ]
  },
  {
   "cell_type": "code",
   "execution_count": null,
   "id": "de29783e",
   "metadata": {},
   "outputs": [],
   "source": [
    "langs_count = df.iloc[:, 2:].sum()/len(df) * 100\n",
    "langs_count"
   ]
  },
  {
   "cell_type": "code",
   "execution_count": null,
   "id": "a886eeb0",
   "metadata": {},
   "outputs": [],
   "source": [
    "langs_count.sort_values(ascending=False, inplace=True)\n",
    "langs_count"
   ]
  },
  {
   "cell_type": "code",
   "execution_count": null,
   "id": "00c8d02f",
   "metadata": {},
   "outputs": [],
   "source": [
    "for i, (lang, count) in enumerate(langs_count.iteritems(), start=1):\n",
    "    print(f'{i}: {lang} ({round(count)}%)')"
   ]
  },
  {
   "cell_type": "markdown",
   "id": "11c3c4d4",
   "metadata": {},
   "source": [
    "## Bonus: rank languages known by number of years programming"
   ]
  },
  {
   "cell_type": "code",
   "execution_count": null,
   "id": "78548791",
   "metadata": {},
   "outputs": [],
   "source": [
    "year_ranges = ['< 1', '1 - 5', '5 - 10', '10 - 15', '15 - 20', '> 20', 'Unknown']\n",
    "\n",
    "df2 = df\n",
    "df2['years'] = pd.Categorical(df['years'], categories=year_ranges)\n",
    "df2['years'].fillna(\"Unknown\", inplace=True)\n",
    "df2['total'] = 1\n",
    "df2"
   ]
  },
  {
   "cell_type": "code",
   "execution_count": null,
   "id": "b77b6629",
   "metadata": {},
   "outputs": [],
   "source": [
    "by_years = df2.groupby('years').sum()\n",
    "by_years"
   ]
  },
  {
   "cell_type": "code",
   "execution_count": null,
   "id": "e1c5b0b1",
   "metadata": {},
   "outputs": [],
   "source": [
    "for index in by_years.index:\n",
    "    num_respondents = by_years.loc[index, 'total']\n",
    "    print(f\"For {index} ({num_respondents})\")\n",
    "    if num_respondents == 0:\n",
    "        print('  No data')\n",
    "    else:\n",
    "        print(by_years.loc[index, by_years.loc[index] >= 1].sort_values(ascending=False).to_string())\n",
    "    print()"
   ]
  }
 ],
 "metadata": {
  "jupytext": {
   "cell_metadata_filter": "-all",
   "formats": "auto:light,ipynb",
   "main_language": "python",
   "notebook_metadata_filter": "-all"
  },
  "kernelspec": {
   "display_name": "Python 3 (ipykernel)",
   "language": "python",
   "name": "python3"
  },
  "language_info": {
   "codemirror_mode": {
    "name": "ipython",
    "version": 3
   },
   "file_extension": ".py",
   "mimetype": "text/x-python",
   "name": "python",
   "nbconvert_exporter": "python",
   "pygments_lexer": "ipython3",
   "version": "3.9.2"
  }
 },
 "nbformat": 4,
 "nbformat_minor": 5
}
