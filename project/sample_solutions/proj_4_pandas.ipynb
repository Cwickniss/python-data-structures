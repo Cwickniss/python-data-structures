{
 "cells": [
  {
   "cell_type": "markdown",
   "id": "9ba29efd",
   "metadata": {},
   "source": [
    "# Survey analysis\n",
    "Analyse the results from the [languages survey](https://forms.gle/5b3mZRVcgAsoNG1FA)"
   ]
  },
  {
   "cell_type": "code",
   "execution_count": null,
   "id": "03243a67",
   "metadata": {},
   "outputs": [],
   "source": [
    "all_langs = ['Python', 'Java', 'JavaScript', 'TypeScript', 'PHP', 'SQL', 'C', 'C++', 'C#',\n",
    "             'Ruby', 'R', 'Matlab', 'Go', 'Rust', 'Objective-C', 'Swift', 'Visual Basic',\n",
    "             'Perl', 'Cobol', 'Fortran', 'Lisp', 'Assembly', 'Kotlin', 'Dart', 'Scala',\n",
    "             'Lua', 'Delphi', 'Haskell', 'Julia', 'Clojure', 'Elixir', 'Pascal']"
   ]
  },
  {
   "cell_type": "markdown",
   "id": "c82deea9",
   "metadata": {},
   "source": [
    "# Load data"
   ]
  },
  {
   "cell_type": "code",
   "execution_count": null,
   "id": "39919a8a",
   "metadata": {},
   "outputs": [],
   "source": [
    "from pprint import pprint\n",
    "import pandas as pd\n",
    "\n",
    "filename = '../data/Programming language survey.csv'\n",
    "df = pd.read_csv(filename, header=0, names=('timestamp', 'languages', 'other_langs', 'years'), usecols=('languages', 'other_langs', 'years'))\n",
    "    \n",
    "df.head()"
   ]
  },
  {
   "cell_type": "code",
   "execution_count": null,
   "id": "e3dfe9f8",
   "metadata": {},
   "outputs": [],
   "source": [
    "import re\n",
    "\n",
    "for lang in all_langs:\n",
    "    regex = rf'(^|;){re.escape(lang)}($|;)'\n",
    "    df[lang] = df['languages'].str.contains(regex)\n",
    "df"
   ]
  },
  {
   "cell_type": "markdown",
   "id": "b43f0ac6",
   "metadata": {},
   "source": [
    "## Find number of languages known\n",
    "Print `\"{# known by class} / {# in list} languages known by this class (as %)\"`.\n",
    "\n",
    "E.g. **12/21 languages known by this class (57%)**"
   ]
  },
  {
   "cell_type": "code",
   "execution_count": null,
   "id": "98f7dc69",
   "metadata": {},
   "outputs": [],
   "source": [
    "known_langs = df.columns[df.eq(True).any()].tolist()\n",
    "known_langs"
   ]
  },
  {
   "cell_type": "code",
   "execution_count": null,
   "id": "0134a914",
   "metadata": {},
   "outputs": [],
   "source": [
    "percent = round(len(known_langs)/len(all_langs) * 100)\n",
    "print(f\"{len(known_langs)}/{len(all_langs)} languages known by this class ({percent}%)\")"
   ]
  },
  {
   "cell_type": "markdown",
   "id": "4aa1969b",
   "metadata": {},
   "source": [
    "## List languages not known by anyone in the class"
   ]
  },
  {
   "cell_type": "code",
   "execution_count": null,
   "id": "b6c3ca9d",
   "metadata": {},
   "outputs": [],
   "source": [
    "print('Not known:')\n",
    "', '.join(df.columns[df.eq(False).all()].tolist())"
   ]
  },
  {
   "cell_type": "markdown",
   "id": "8d2d51f0",
   "metadata": {},
   "source": [
    "# Rank languages by most commonly known\n",
    "Print each language as `\"{position}: {language} ({count})\"`, in order from most to least known\n",
    "\n",
    "e.g. **1: Python (30)**"
   ]
  },
  {
   "cell_type": "code",
   "execution_count": null,
   "id": "6bc8972a",
   "metadata": {},
   "outputs": [],
   "source": [
    "langs_count = df.iloc[:, 3:].sum()\n",
    "langs_count"
   ]
  },
  {
   "cell_type": "code",
   "execution_count": null,
   "id": "d001f10a",
   "metadata": {},
   "outputs": [],
   "source": [
    "langs_count.sort_values(ascending=False, inplace=True)\n",
    "langs_count"
   ]
  },
  {
   "cell_type": "code",
   "execution_count": null,
   "id": "5393bd10",
   "metadata": {},
   "outputs": [],
   "source": [
    "for i, (lang, count) in enumerate(langs_count.iteritems(), start=1):\n",
    "    print(f'{i}: {lang} ({count})')"
   ]
  },
  {
   "cell_type": "markdown",
   "id": "9bcb1fbf",
   "metadata": {},
   "source": [
    "## Bonus: rank languages known by number of years programming"
   ]
  },
  {
   "cell_type": "code",
   "execution_count": null,
   "id": "c40d1219",
   "metadata": {},
   "outputs": [],
   "source": [
    "year_ranges = ['< 1', '1 - 5', '5 - 10', '10 - 15', '15 - 20', '> 20', 'Unknown']\n",
    "\n",
    "df2 = df\n",
    "df2['years'] = pd.Categorical(df['years'], categories=year_ranges)\n",
    "df2['years'].fillna(\"Unknown\", inplace=True)\n",
    "df2['total'] = 1\n",
    "df2"
   ]
  },
  {
   "cell_type": "code",
   "execution_count": null,
   "id": "26e04882",
   "metadata": {},
   "outputs": [],
   "source": [
    "by_years = df2.groupby('years').sum()\n",
    "by_years"
   ]
  },
  {
   "cell_type": "code",
   "execution_count": null,
   "id": "a0958b41",
   "metadata": {},
   "outputs": [],
   "source": [
    "for index in by_years.index:\n",
    "    num_respondents = by_years.loc[index, 'total']\n",
    "    print(f\"For {index} ({num_respondents})\")\n",
    "    if num_respondents == 0:\n",
    "        print('  No data')\n",
    "    else:\n",
    "        print(by_years.loc[index, by_years.loc[index] >= 1].sort_values(ascending=False).to_string())\n",
    "    print()"
   ]
  },
  {
   "cell_type": "markdown",
   "id": "3bf1351b",
   "metadata": {},
   "source": [
    "## Bonus: other languages known"
   ]
  },
  {
   "cell_type": "code",
   "execution_count": null,
   "id": "e236d29a",
   "metadata": {},
   "outputs": [],
   "source": [
    "df3 = df.loc[:,['other_langs']]\n",
    "df3"
   ]
  },
  {
   "cell_type": "code",
   "execution_count": null,
   "id": "04f6c72a",
   "metadata": {},
   "outputs": [],
   "source": [
    "df3['other_langs'] = df3['other_langs'].str.split(',')\n",
    "df3.dropna(axis=0, inplace=True)\n",
    "other_langs = df3.explode('other_langs')\n",
    "other_langs"
   ]
  },
  {
   "cell_type": "code",
   "execution_count": null,
   "id": "26caae0a",
   "metadata": {},
   "outputs": [],
   "source": [
    "other_langs.value_counts()"
   ]
  },
  {
   "cell_type": "code",
   "execution_count": null,
   "id": "48ae4d52",
   "metadata": {},
   "outputs": [],
   "source": []
  }
 ],
 "metadata": {
  "jupytext": {
   "cell_metadata_filter": "-all",
   "formats": "auto:light,ipynb",
   "main_language": "python",
   "notebook_metadata_filter": "-all"
  },
  "kernelspec": {
   "display_name": "Python 3 (ipykernel)",
   "language": "python",
   "name": "python3"
  },
  "language_info": {
   "codemirror_mode": {
    "name": "ipython",
    "version": 3
   },
   "file_extension": ".py",
   "mimetype": "text/x-python",
   "name": "python",
   "nbconvert_exporter": "python",
   "pygments_lexer": "ipython3",
   "version": "3.9.2"
  }
 },
 "nbformat": 4,
 "nbformat_minor": 5
}