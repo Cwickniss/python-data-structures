{
 "cells": [
  {
   "cell_type": "markdown",
   "id": "d8255706",
   "metadata": {},
   "source": [
    "# Survey analysis\n",
    "Analyse the results from the [languages survey](https://forms.gle/5b3mZRVcgAsoNG1FA)"
   ]
  },
  {
   "cell_type": "code",
   "execution_count": null,
   "id": "b3072b87",
   "metadata": {
    "ExecuteTime": {
     "end_time": "2023-09-25T23:32:24.353674Z",
     "start_time": "2023-09-25T23:32:24.136004Z"
    }
   },
   "outputs": [],
   "source": [
    "all_langs = ['Python', 'Java', 'JavaScript', 'TypeScript', 'PHP', 'SQL', 'C', 'C++', 'C#',\n",
    "             'Ruby', 'R', 'Matlab', 'Go', 'Rust', 'Objective-C', 'Swift', 'Visual Basic',\n",
    "             'Perl', 'Cobol', 'Fortran', 'Lisp', 'Assembly', 'Kotlin', 'Dart', 'Scala',\n",
    "             'Lua', 'Delphi', 'Haskell', 'Julia', 'Clojure', 'Elixir', 'Pascal']"
   ]
  },
  {
   "cell_type": "markdown",
   "id": "749b98b8",
   "metadata": {},
   "source": [
    "## Load data"
   ]
  },
  {
   "cell_type": "code",
   "execution_count": null,
   "id": "1de8f71e",
   "metadata": {
    "ExecuteTime": {
     "end_time": "2023-09-25T23:32:24.515715Z",
     "start_time": "2023-09-25T23:32:24.139528Z"
    }
   },
   "outputs": [],
   "source": [
    "import pandas as pd\n",
    "\n",
    "df = pd.read_csv('../data/Survey-2024-Jul.csv', header=0, names=(\"timestamp\", \"languages\", \"years\"))\n",
    "df.head()"
   ]
  },
  {
   "cell_type": "code",
   "execution_count": null,
   "id": "23a4cdbf",
   "metadata": {
    "ExecuteTime": {
     "end_time": "2023-09-25T23:32:24.802969Z",
     "start_time": "2023-09-25T23:32:24.525791Z"
    }
   },
   "outputs": [],
   "source": [
    "import re\n",
    "\n",
    "# This regular expression checks if the string contains:\n",
    "# - either the beginning of the string or a \", \" delimeter\n",
    "# - the name of the language (escaped because the + in C++ is a regex character)\n",
    "# - either the end of the string or a \", \" delimeter\n",
    "# Note: the \"?:\" is to mark it as a 'match group' and is used to avoid warnings about captured groups\n",
    "# See - https://stackoverflow.com/questions/39901550/python-userwarning-this-pattern-has-match-groups-to-actually-get-the-groups\n",
    "\n",
    "for lang in all_langs:\n",
    "    regex = rf'(?:^|;){re.escape(lang)}(?:$|;)'\n",
    "    df[lang] = df['languages'].str.contains(regex)\n",
    "df.head()"
   ]
  },
  {
   "cell_type": "code",
   "execution_count": null,
   "id": "9720efc9",
   "metadata": {},
   "outputs": [],
   "source": [
    "df = df.drop(columns=['languages'])\n",
    "df.head()"
   ]
  },
  {
   "cell_type": "markdown",
   "id": "14e65618",
   "metadata": {},
   "source": [
    "## Find number of languages known\n",
    "Print `\"{# known by class} / {# in list} languages known by this class (as %)\"`.\n",
    "\n",
    "E.g. **12/21 languages known by this class (57%)**"
   ]
  },
  {
   "cell_type": "code",
   "execution_count": null,
   "id": "e03f07ba",
   "metadata": {
    "ExecuteTime": {
     "end_time": "2023-09-25T23:32:24.822301Z",
     "start_time": "2023-09-25T23:32:24.706660Z"
    }
   },
   "outputs": [],
   "source": [
    "df.eq(True).any()  # Columns that contain any True values"
   ]
  },
  {
   "cell_type": "code",
   "execution_count": null,
   "id": "83f2f588",
   "metadata": {
    "ExecuteTime": {
     "end_time": "2023-09-25T23:32:24.846315Z",
     "start_time": "2023-09-25T23:32:24.710190Z"
    }
   },
   "outputs": [],
   "source": [
    "known_langs = df.columns[df.eq(True).any()].tolist()  # Get columns that have any True values\n",
    "known_langs"
   ]
  },
  {
   "cell_type": "code",
   "execution_count": null,
   "id": "b806ab56",
   "metadata": {},
   "outputs": [],
   "source": [
    "print(\n",
    "    f\"{len(known_langs)} / {len(all_langs)} languages known by this class ({round(len(known_langs) / len(all_langs) * 100)}%)\")"
   ]
  },
  {
   "cell_type": "markdown",
   "id": "139e5e8e",
   "metadata": {},
   "source": [
    "## List languages not known by anyone in the class"
   ]
  },
  {
   "cell_type": "code",
   "execution_count": null,
   "id": "347b469a",
   "metadata": {
    "ExecuteTime": {
     "end_time": "2023-09-25T23:32:24.846650Z",
     "start_time": "2023-09-25T23:32:24.723371Z"
    }
   },
   "outputs": [],
   "source": [
    "print('Not known:')\n",
    "df.columns[df.eq(False).all()].tolist()  # Get columns that only contain False values"
   ]
  },
  {
   "cell_type": "markdown",
   "id": "ce6244e3",
   "metadata": {},
   "source": [
    "## Rank languages by most commonly known\n",
    "Print each language as `\"{position}: {language} ({percent_known}%)\"`, in order from most to least known\n",
    "\n",
    "e.g. **1: Python (93%)**"
   ]
  },
  {
   "cell_type": "code",
   "execution_count": null,
   "id": "de29783e",
   "metadata": {
    "ExecuteTime": {
     "end_time": "2023-09-25T23:32:24.846807Z",
     "start_time": "2023-09-25T23:32:24.726682Z"
    }
   },
   "outputs": [],
   "source": [
    "langs_count = df.sum(numeric_only=True) / len(df) * 100\n",
    "langs_count.head()"
   ]
  },
  {
   "cell_type": "code",
   "execution_count": null,
   "id": "a886eeb0",
   "metadata": {
    "ExecuteTime": {
     "end_time": "2023-09-25T23:32:24.853112Z",
     "start_time": "2023-09-25T23:32:24.735421Z"
    }
   },
   "outputs": [],
   "source": [
    "langs_count = langs_count.sort_values(ascending=False)\n",
    "langs_count.head()"
   ]
  },
  {
   "cell_type": "code",
   "execution_count": null,
   "id": "00c8d02f",
   "metadata": {
    "ExecuteTime": {
     "end_time": "2023-09-25T23:32:24.909845Z",
     "start_time": "2023-09-25T23:32:24.755237Z"
    }
   },
   "outputs": [],
   "source": [
    "for i, (lang, count) in enumerate(langs_count.items(), start=1):\n",
    "    print(f'{i}: {lang} ({round(count)}%)')"
   ]
  },
  {
   "cell_type": "markdown",
   "id": "11c3c4d4",
   "metadata": {},
   "source": [
    "## Bonus: rank languages known by number of years programming\n"
   ]
  },
  {
   "cell_type": "code",
   "execution_count": null,
   "id": "78548791",
   "metadata": {
    "ExecuteTime": {
     "end_time": "2023-09-25T23:32:24.914441Z",
     "start_time": "2023-09-25T23:32:24.810049Z"
    }
   },
   "outputs": [],
   "source": [
    "year_ranges = ['< 1', '1 - 5', '5 - 10', '10 - 15', '15 - 20', '> 20', 'Unknown']\n",
    "\n",
    "df2 = df\n",
    "df2['years'] = pd.Categorical(df['years'], categories=year_ranges)\n",
    "df2['years'] = df2['years'].fillna(\"Unknown\")\n",
    "df2['total'] = 1\n",
    "df2.head()"
   ]
  },
  {
   "cell_type": "code",
   "execution_count": null,
   "id": "b77b6629",
   "metadata": {
    "ExecuteTime": {
     "end_time": "2023-09-25T23:34:33.824517Z",
     "start_time": "2023-09-25T23:34:33.813929Z"
    }
   },
   "outputs": [],
   "source": [
    "by_years = df2.groupby('years', observed=False).sum(numeric_only=True)\n",
    "by_years"
   ]
  },
  {
   "cell_type": "code",
   "execution_count": null,
   "id": "e1c5b0b1",
   "metadata": {
    "ExecuteTime": {
     "end_time": "2023-09-25T23:34:47.605241Z",
     "start_time": "2023-09-25T23:34:47.596256Z"
    }
   },
   "outputs": [],
   "source": [
    "for index, row in by_years.iterrows():\n",
    "    num_respondents = row['total']\n",
    "    print(f\"For {index} ({num_respondents} total)\")\n",
    "\n",
    "    row.drop(index=['total'], inplace=True)\n",
    "    year_langs = row.loc[row >= 1].sort_values(ascending=False).to_frame(name='count')\n",
    "    year_langs['percent'] = round(year_langs / num_respondents * 100, 1)\n",
    "\n",
    "    print(year_langs.to_string())\n",
    "    print()"
   ]
  },
  {
   "cell_type": "markdown",
   "id": "e16cd4a6",
   "metadata": {},
   "source": [
    "## Bonus: show the breakdown of each language by number of years programming"
   ]
  },
  {
   "cell_type": "code",
   "execution_count": null,
   "id": "07634158-9552-463b-b3e5-a327bfec91e7",
   "metadata": {
    "ExecuteTime": {
     "end_time": "2023-09-25T23:34:51.096963Z",
     "start_time": "2023-09-25T23:34:51.071353Z"
    }
   },
   "outputs": [],
   "source": [
    "for lang in all_langs:\n",
    "    new_df = by_years.loc[:, [lang, 'total']]\n",
    "    new_df['percent'] = round(new_df[lang] / new_df['total'] * 100, 1)\n",
    "    print(new_df.to_string(), end='\\n' * 3)"
   ]
  },
  {
   "cell_type": "code",
   "execution_count": null,
   "id": "545b06fb-559e-4e6a-bd0a-211db58eb20e",
   "metadata": {},
   "outputs": [],
   "source": [
    "# Same as above but as a DataFrame of Percent used\n",
    "as_percent = by_years.drop(columns=['total']).div(by_years['total'], axis=0).round(2)\n",
    "as_percent.dropna(how='all', inplace=True)  # Remove rows with all N/A values\n",
    "as_percent = as_percent.loc[:, (as_percent != 0).any(axis=0)]  # Remove columns of only 0 values\n",
    "as_percent"
   ]
  },
  {
   "cell_type": "code",
   "execution_count": null,
   "id": "1dc1d2f9-3718-4013-b40f-4bb555bc4134",
   "metadata": {},
   "outputs": [],
   "source": [
    "for lang in as_percent.columns:\n",
    "    plot = as_percent[[lang]].plot(figsize=(5, 2), ylim=(0, 1.2))"
   ]
  },
  {
   "cell_type": "code",
   "execution_count": null,
   "id": "beecbaa3-c31f-4e44-b410-9f04b4014ff8",
   "metadata": {},
   "outputs": [],
   "source": []
  }
 ],
 "metadata": {
  "jupytext": {
   "cell_metadata_filter": "-all",
   "formats": "auto:light,ipynb",
   "main_language": "python",
   "notebook_metadata_filter": "-all"
  },
  "kernelspec": {
   "display_name": "Python 3 (ipykernel)",
   "language": "python",
   "name": "python3"
  },
  "language_info": {
   "codemirror_mode": {
    "name": "ipython",
    "version": 3
   },
   "file_extension": ".py",
   "mimetype": "text/x-python",
   "name": "python",
   "nbconvert_exporter": "python",
   "pygments_lexer": "ipython3",
   "version": "3.11.4"
  }
 },
 "nbformat": 4,
 "nbformat_minor": 5
}
