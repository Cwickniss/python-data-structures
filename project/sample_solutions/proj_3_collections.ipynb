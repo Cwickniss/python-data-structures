{
 "cells": [
  {
   "cell_type": "markdown",
   "id": "22821359",
   "metadata": {},
   "source": [
    "# Survey analysis\n",
    "Analyse the results from the [languages survey](https://forms.gle/5b3mZRVcgAsoNG1FA)"
   ]
  },
  {
   "cell_type": "code",
   "execution_count": 1,
   "id": "c5c3b79f",
   "metadata": {},
   "outputs": [],
   "source": [
    "all_langs = ['Python', 'Java', 'JavaScript', 'TypeScript', 'PHP', 'SQL', 'C', 'C++', 'C#',\n",
    "             'Ruby', 'R', 'Matlab', 'Go', 'Rust', 'Objective-C', 'Swift', 'Visual Basic',\n",
    "             'Perl', 'Cobol', 'Fortran', 'Lisp', 'Assembly', 'Kotlin', 'Dart', 'Scala',\n",
    "             'Lua', 'Delphi', 'Haskell', 'Julia', 'Clojure', 'Elixir', 'Pascal']"
   ]
  },
  {
   "cell_type": "markdown",
   "id": "7bbfab3b",
   "metadata": {},
   "source": [
    "## Load data"
   ]
  },
  {
   "cell_type": "code",
   "execution_count": 2,
   "id": "a9aaf03f",
   "metadata": {},
   "outputs": [
    {
     "name": "stdout",
     "output_type": "stream",
     "text": [
      "72\n",
      "['Python', 'Java', 'JavaScript', 'PHP', 'SQL', 'C', 'Ruby', 'Go', 'Objective-C', 'Perl', 'Python', 'JavaScript', 'SQL', 'Python', 'SQL', 'C', 'Python', 'Java', 'JavaScript', 'TypeScript', 'SQL', 'C#', 'Ruby', 'Go', 'Rust', 'Visual Basic', 'Perl', 'Lisp', 'Assembly', 'Scala', 'Lua', 'Haskell', 'Clojure', 'Python', 'Ruby', 'Go', 'Python', 'Fortran', 'Python', 'Ruby', 'Go', 'Python', 'Python', 'JavaScript', 'SQL', 'Ruby', 'Python', 'Python', 'Java', 'JavaScript', 'TypeScript', 'PHP', 'SQL', 'C', 'C++', 'C#', 'R', 'Matlab', 'Objective-C', 'Swift', 'Visual Basic', 'Perl', 'Assembly', 'Scala', 'Delphi', 'Pascal', 'Python', 'Python', 'R', 'Matlab', 'Python', 'Ruby']\n"
     ]
    }
   ],
   "source": [
    "import csv\n",
    "\n",
    "with open('../data/Programming language - responses.csv') as file:\n",
    "    file.readline()\n",
    "    reader = csv.DictReader(file, fieldnames=['timestamp', 'languages', 'years'])\n",
    "    results = [lang for line in reader for lang in line['languages'].split(\", \")]\n",
    "\n",
    "print(len(results))\n",
    "print(results)"
   ]
  },
  {
   "cell_type": "markdown",
   "id": "5576eefd",
   "metadata": {},
   "source": [
    "## Find number of languages known\n",
    "Print `\"{# known by class} / {# in list} languages known by this class (as %)\"`.\n",
    "\n",
    "E.g. **12/21 languages known by this class (57%)**"
   ]
  },
  {
   "cell_type": "code",
   "execution_count": 3,
   "id": "46a16325",
   "metadata": {},
   "outputs": [
    {
     "name": "stdout",
     "output_type": "stream",
     "text": [
      "27 / 32 languages known by this class (84%)\n"
     ]
    }
   ],
   "source": [
    "unique_langs = set(results)\n",
    "num_known = len(unique_langs)\n",
    "num_all = len(all_langs)\n",
    "print(f\"{num_known} / {num_all} languages known by this class ({round(num_known/num_all * 100)}%)\")"
   ]
  },
  {
   "cell_type": "markdown",
   "id": "f22c011d",
   "metadata": {},
   "source": [
    "## List languages not known by anyone in the class"
   ]
  },
  {
   "cell_type": "code",
   "execution_count": 4,
   "id": "ba71eb7f",
   "metadata": {},
   "outputs": [
    {
     "name": "stdout",
     "output_type": "stream",
     "text": [
      "{'Julia', 'Dart', 'Elixir', 'Cobol', 'Kotlin'}\n"
     ]
    }
   ],
   "source": [
    "not_known = set(all_langs) - unique_langs\n",
    "print(not_known)"
   ]
  },
  {
   "cell_type": "markdown",
   "id": "3231b266",
   "metadata": {},
   "source": [
    "## Rank languages by most commonly known\n",
    "Print each language as `\"{position}: {language} ({percent_known}%)\"`, in order from most to least known\n",
    "\n",
    "e.g. **1: Python (93%)**"
   ]
  },
  {
   "cell_type": "code",
   "execution_count": 5,
   "id": "5e4f7a3c",
   "metadata": {},
   "outputs": [],
   "source": [
    "from collections import Counter\n",
    "\n",
    "langs_by_count = Counter(results)\n",
    "langs_by_count.update(not_known)\n",
    "langs_by_count.subtract(not_known)"
   ]
  },
  {
   "cell_type": "code",
   "execution_count": 6,
   "id": "cd167ab5",
   "metadata": {},
   "outputs": [
    {
     "name": "stdout",
     "output_type": "stream",
     "text": [
      "1: Python (14)\n",
      "2: SQL (6)\n",
      "3: Ruby (6)\n",
      "4: JavaScript (5)\n",
      "5: Go (4)\n",
      "6: Java (3)\n",
      "7: C (3)\n",
      "8: Perl (3)\n",
      "9: PHP (2)\n",
      "10: Objective-C (2)\n",
      "11: TypeScript (2)\n",
      "12: C# (2)\n",
      "13: Visual Basic (2)\n",
      "14: Assembly (2)\n",
      "15: Scala (2)\n",
      "16: R (2)\n",
      "17: Matlab (2)\n",
      "18: Rust (1)\n",
      "19: Lisp (1)\n",
      "20: Lua (1)\n",
      "21: Haskell (1)\n",
      "22: Clojure (1)\n",
      "23: Fortran (1)\n",
      "24: C++ (1)\n",
      "25: Swift (1)\n",
      "26: Delphi (1)\n",
      "27: Pascal (1)\n",
      "28: Julia (0)\n",
      "29: Dart (0)\n",
      "30: Elixir (0)\n",
      "31: Cobol (0)\n",
      "32: Kotlin (0)\n"
     ]
    }
   ],
   "source": [
    "for i, (lang, count) in enumerate(langs_by_count.most_common()):\n",
    "    print(f\"{i + 1}: {lang} ({count})\")"
   ]
  }
 ],
 "metadata": {
  "jupytext": {
   "cell_metadata_filter": "-all",
   "main_language": "python",
   "notebook_metadata_filter": "-all"
  },
  "kernelspec": {
   "display_name": "Python 3 (ipykernel)",
   "language": "python",
   "name": "python3"
  },
  "language_info": {
   "codemirror_mode": {
    "name": "ipython",
    "version": 3
   },
   "file_extension": ".py",
   "mimetype": "text/x-python",
   "name": "python",
   "nbconvert_exporter": "python",
   "pygments_lexer": "ipython3",
   "version": "3.11.4"
  }
 },
 "nbformat": 4,
 "nbformat_minor": 5
}
