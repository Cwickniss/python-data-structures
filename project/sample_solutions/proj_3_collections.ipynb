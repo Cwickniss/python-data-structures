{
 "cells": [
  {
   "cell_type": "code",
   "execution_count": null,
   "id": "fa779f04",
   "metadata": {},
   "outputs": [],
   "source": [
    "all_langs = ['Python', 'Java', 'JavaScript', 'TypeScript', 'PHP', 'C', 'C++', 'C#',\n",
    "             'Ruby', 'R', 'Matlab', 'Go', 'Rust', 'Objective-C', 'Swift',\n",
    "             'Visual Basic', 'Perl', 'Cobol', 'Fortran', 'Lisp', 'Assembly']"
   ]
  },
  {
   "cell_type": "markdown",
   "id": "08e4be5f",
   "metadata": {},
   "source": [
    "# Load data"
   ]
  },
  {
   "cell_type": "code",
   "execution_count": null,
   "id": "eef6f12f",
   "metadata": {},
   "outputs": [],
   "source": [
    "import csv\n",
    "from pprint import pprint\n",
    "\n",
    "\n",
    "with open('data/Programming language survey.csv', 'r') as file:\n",
    "    file.readline()\n",
    "    reader = csv.DictReader(file, fieldnames=('timestamp', 'languages', 'other_langs', 'age'))\n",
    "    langs_by_entry = [line['languages'].split(';') for line in reader]\n",
    "    \n",
    "pprint(langs_by_entry)"
   ]
  },
  {
   "cell_type": "markdown",
   "id": "81bad12c",
   "metadata": {},
   "source": [
    "## Find number of languages known\n",
    "Print `\"{# known by class} / {# in list} languages known by this class (as %)\"`.\n",
    "\n",
    "E.g. **12/21 languages known by this class (57%)**"
   ]
  },
  {
   "cell_type": "code",
   "execution_count": null,
   "id": "59d2a203",
   "metadata": {},
   "outputs": [],
   "source": [
    "known_langs = {lang for langs in langs_by_entry for lang in langs}\n",
    "\n",
    "percent = round(len(known_langs)/len(all_langs) * 100)\n",
    "print(f\"{len(known_langs)}/{len(all_langs)} languages known by this class ({percent}%)\")"
   ]
  },
  {
   "cell_type": "markdown",
   "id": "b91c0b0b",
   "metadata": {},
   "source": [
    "## List languages known and not known"
   ]
  },
  {
   "cell_type": "code",
   "execution_count": null,
   "id": "8e7ff96b",
   "metadata": {},
   "outputs": [],
   "source": [
    "print('Not known:')\n",
    "print(set(all_langs) - known_langs)"
   ]
  },
  {
   "cell_type": "markdown",
   "id": "3fe98b41",
   "metadata": {},
   "source": [
    "# Rank languages by most commonly known\n",
    "Print each language as `\"{position}: {language} ({count})\"`, in order from most to least known\n",
    "\n",
    "e.g. **1: Python (30)**"
   ]
  },
  {
   "cell_type": "code",
   "execution_count": null,
   "id": "c2b18fb1",
   "metadata": {},
   "outputs": [],
   "source": [
    "from collections import Counter\n",
    "\n",
    "langs_count = Counter([lang for langs in langs_by_entry for lang in langs])\n",
    "\n",
    "langs_count"
   ]
  },
  {
   "cell_type": "code",
   "execution_count": null,
   "id": "cfde6f35",
   "metadata": {},
   "outputs": [],
   "source": [
    "langs_ordered = langs_count.most_common()\n",
    "langs_ordered"
   ]
  },
  {
   "cell_type": "code",
   "execution_count": null,
   "id": "63b02187",
   "metadata": {},
   "outputs": [],
   "source": [
    "for i, (lang, count) in enumerate(langs_ordered, start=1):\n",
    "    print(f\"{i}: {lang} ({count})\")"
   ]
  },
  {
   "cell_type": "code",
   "execution_count": null,
   "id": "d05003f4",
   "metadata": {},
   "outputs": [],
   "source": []
  }
 ],
 "metadata": {
  "jupytext": {
   "cell_metadata_filter": "-all",
   "formats": "auto:light,ipynb",
   "main_language": "python",
   "notebook_metadata_filter": "-all"
  },
  "kernelspec": {
   "display_name": "Python 3 (ipykernel)",
   "language": "python",
   "name": "python3"
  },
  "language_info": {
   "codemirror_mode": {
    "name": "ipython",
    "version": 3
   },
   "file_extension": ".py",
   "mimetype": "text/x-python",
   "name": "python",
   "nbconvert_exporter": "python",
   "pygments_lexer": "ipython3",
   "version": "3.9.2"
  }
 },
 "nbformat": 4,
 "nbformat_minor": 5
}
