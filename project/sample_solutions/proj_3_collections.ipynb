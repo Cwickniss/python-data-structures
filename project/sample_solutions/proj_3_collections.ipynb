{
 "cells": [
  {
   "cell_type": "markdown",
   "id": "22821359",
   "metadata": {},
   "source": [
    "# Survey analysis\n",
    "Analyse the results from the [languages survey](https://forms.gle/5b3mZRVcgAsoNG1FA)"
   ]
  },
  {
   "cell_type": "code",
   "execution_count": 1,
   "id": "c5c3b79f",
   "metadata": {},
   "outputs": [],
   "source": [
    "all_langs = ['Python', 'Java', 'JavaScript', 'TypeScript', 'PHP', 'SQL', 'C', 'C++', 'C#',\n",
    "             'Ruby', 'R', 'Matlab', 'Go', 'Rust', 'Objective-C', 'Swift', 'Visual Basic',\n",
    "             'Perl', 'Cobol', 'Fortran', 'Lisp', 'Assembly', 'Kotlin', 'Dart', 'Scala',\n",
    "             'Lua', 'Delphi', 'Haskell', 'Julia', 'Clojure', 'Elixir', 'Pascal']"
   ]
  },
  {
   "cell_type": "markdown",
   "id": "7bbfab3b",
   "metadata": {},
   "source": [
    "## Load data"
   ]
  },
  {
   "cell_type": "code",
   "execution_count": 2,
   "id": "a9aaf03f",
   "metadata": {},
   "outputs": [
    {
     "name": "stdout",
     "output_type": "stream",
     "text": [
      "72\n",
      "['Python', 'Java', 'JavaScript', 'PHP', 'SQL', 'C', 'Ruby', 'Go', 'Objective-C', 'Perl', 'Python', 'JavaScript', 'SQL', 'Python', 'SQL', 'C', 'Python', 'Java', 'JavaScript', 'TypeScript', 'SQL', 'C#', 'Ruby', 'Go', 'Rust', 'Visual Basic', 'Perl', 'Lisp', 'Assembly', 'Scala', 'Lua', 'Haskell', 'Clojure', 'Python', 'Ruby', 'Go', 'Python', 'Fortran', 'Python', 'Ruby', 'Go', 'Python', 'Python', 'JavaScript', 'SQL', 'Ruby', 'Python', 'Python', 'Java', 'JavaScript', 'TypeScript', 'PHP', 'SQL', 'C', 'C++', 'C#', 'R', 'Matlab', 'Objective-C', 'Swift', 'Visual Basic', 'Perl', 'Assembly', 'Scala', 'Delphi', 'Pascal', 'Python', 'Python', 'R', 'Matlab', 'Python', 'Ruby']\n"
     ]
    }
   ],
   "source": [
    "import csv\n",
    "\n",
    "with open('data/Survey-2023:11:02.csv') as file:\n",
    "    file.readline()\n",
    "    reader = csv.DictReader(file, fieldnames=(\"timestamp\", \"languages\", \"years\"))\n",
    "    responses = [response['languages'].split(';') for response in reader]\n",
    "    num_responses = len(responses)\n",
    "    langs_known = [lang for langs in responses for lang in langs]\n",
    "\n",
    "print(num_responses)"
   ]
  },
  {
   "cell_type": "markdown",
   "id": "5576eefd",
   "metadata": {},
   "source": [
    "## Find number of languages known\n",
    "Print `\"{# known by class} / {# in list} languages known by this class (as %)\"`.\n",
    "\n",
    "E.g. **12/21 languages known by this class (57%)**"
   ]
  },
  {
   "cell_type": "code",
   "execution_count": 3,
   "id": "46a16325",
   "metadata": {},
   "outputs": [
    {
     "name": "stdout",
     "output_type": "stream",
     "text": [
      "27 / 32 languages known by this class (84%)\n"
     ]
    }
   ],
   "source": [
    "langs_known_set = set(langs_known)\n",
    "print(langs_known_set)"
   ]
  },
  {
   "cell_type": "code",
   "execution_count": null,
   "id": "04a28614",
   "metadata": {},
   "outputs": [],
   "source": [
    "print(f\"{len(langs_known_set)} / {len(all_langs)} languages known by this class ({round(len(langs_known_set) / len(all_langs) * 100)}%)\")"
   ]
  },
  {
   "cell_type": "markdown",
   "id": "f22c011d",
   "metadata": {},
   "source": [
    "## List languages not known by anyone in the class"
   ]
  },
  {
   "cell_type": "code",
   "execution_count": 4,
   "id": "ba71eb7f",
   "metadata": {},
   "outputs": [
    {
     "name": "stdout",
     "output_type": "stream",
     "text": [
      "{'Julia', 'Dart', 'Elixir', 'Cobol', 'Kotlin'}\n"
     ]
    }
   ],
   "source": [
    "not_known = set(all_langs) - langs_known_set\n",
    "not_known_list = list(not_known)\n",
    "not_known_list.sort()\n",
    "print(not_known_list)"
   ]
  },
  {
   "cell_type": "markdown",
   "id": "3231b266",
   "metadata": {},
   "source": [
    "## Rank languages by most commonly known\n",
    "Print each language as `\"{position}: {language} ({percent_known}%)\"`, in order from most to least known\n",
    "\n",
    "e.g. **1: Python (93%)**"
   ]
  },
  {
   "cell_type": "code",
   "execution_count": 5,
   "id": "5e4f7a3c",
   "metadata": {},
   "outputs": [],
   "source": [
    "from collections import Counter\n",
    "\n",
    "langs_count = Counter(langs_known)\n",
    "\n",
    "for pos, (lang, count) in enumerate(langs_count.most_common(), start=1):\n",
    "    percent_known = round(count / num_responses * 100)\n",
    "    print(f\"{pos}: {lang} ({percent_known}%)\")"
   ]
  }
 ],
 "metadata": {
  "jupytext": {
   "cell_metadata_filter": "-all",
   "main_language": "python",
   "notebook_metadata_filter": "-all"
  },
  "kernelspec": {
   "display_name": "Python 3 (ipykernel)",
   "language": "python",
   "name": "python3"
  },
  "language_info": {
   "codemirror_mode": {
    "name": "ipython",
    "version": 3
   },
   "file_extension": ".py",
   "mimetype": "text/x-python",
   "name": "python",
   "nbconvert_exporter": "python",
   "pygments_lexer": "ipython3",
   "version": "3.11.4"
  }
 },
 "nbformat": 4,
 "nbformat_minor": 5
}
