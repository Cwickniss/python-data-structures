{
 "cells": [
  {
   "cell_type": "markdown",
   "id": "c4ce8d5d",
   "metadata": {},
   "source": [
    "# Survey analysis\n",
    "Analyse the results from the [languages survey](https://forms.gle/5b3mZRVcgAsoNG1FA)"
   ]
  },
  {
   "cell_type": "code",
   "execution_count": 1,
   "id": "dbdcda8a",
   "metadata": {},
   "outputs": [],
   "source": [
    "all_langs = ['Python', 'Java', 'JavaScript', 'TypeScript', 'PHP', 'SQL', 'C', 'C++', 'C#',\n",
    "             'Ruby', 'R', 'Matlab', 'Go', 'Rust', 'Objective-C', 'Swift', 'Visual Basic',\n",
    "             'Perl', 'Cobol', 'Fortran', 'Lisp', 'Assembly', 'Kotlin', 'Dart', 'Scala',\n",
    "             'Lua', 'Delphi', 'Haskell', 'Julia', 'Clojure', 'Elixir', 'Pascal']"
   ]
  },
  {
   "cell_type": "markdown",
   "id": "4cd6ff36",
   "metadata": {},
   "source": [
    "## Load data"
   ]
  },
  {
   "cell_type": "code",
   "execution_count": 2,
   "id": "3777a962",
   "metadata": {},
   "outputs": [
    {
     "name": "stdout",
     "output_type": "stream",
     "text": [
      "22\n"
     ]
    }
   ],
   "source": [
    "import csv\n",
    "from pprint import pprint\n",
    "\n",
    "with open('../data/Survey-2024-Jul.csv') as file:\n",
    "    file.readline()  # Ignore first line (header)\n",
    "    reader = csv.DictReader(file, fieldnames=('timestamp', 'languages', 'years'))  # list of dicts with keys passed into fieldnames\n",
    "    langs_known = [[lang for lang in response['languages'].split(';')] for response in reader]\n",
    "\n",
    "num_responses = len(langs_known)\n",
    "print(num_responses)"
   ]
  },
  {
   "cell_type": "markdown",
   "id": "359f16df",
   "metadata": {},
   "source": [
    "## Find number of languages known\n",
    "Print `\"{# known by class} / {# in list} languages known by this class (as %)\"`.\n",
    "\n",
    "E.g. **12/21 languages known by this class (57%)**"
   ]
  },
  {
   "cell_type": "code",
   "execution_count": 3,
   "id": "e6f6ac48",
   "metadata": {},
   "outputs": [
    {
     "name": "stdout",
     "output_type": "stream",
     "text": [
      "25 / 32 languages known by this class (78%)\n"
     ]
    }
   ],
   "source": [
    "langs_known_set = {lang for langs in langs_known for lang in langs}\n",
    "print(f\"{len(langs_known_set)} / {len(all_langs)} languages known by this class ({round(len(langs_known_set) / len(all_langs) * 100)}%)\")"
   ]
  },
  {
   "cell_type": "markdown",
   "id": "1337ca41",
   "metadata": {},
   "source": [
    "## List languages not known by anyone in the class"
   ]
  },
  {
   "cell_type": "code",
   "execution_count": 4,
   "id": "33f65e70",
   "metadata": {},
   "outputs": [
    {
     "name": "stdout",
     "output_type": "stream",
     "text": [
      "{'Julia', 'Rust', 'Dart', 'Swift', 'Kotlin', 'Delphi', 'Clojure'}\n"
     ]
    }
   ],
   "source": [
    "not_known = set(all_langs) - langs_known_set\n",
    "print(not_known)"
   ]
  },
  {
   "cell_type": "markdown",
   "id": "a503589b",
   "metadata": {},
   "source": [
    "## Rank languages by most commonly known\n",
    "Print each language as `\"{position}: {language} ({percent_known}%)\"`, in order from most to least known\n",
    "\n",
    "e.g. **1: Python (93%)**"
   ]
  },
  {
   "cell_type": "code",
   "execution_count": 5,
   "id": "5d8d72a7",
   "metadata": {},
   "outputs": [
    {
     "name": "stdout",
     "output_type": "stream",
     "text": [
      "[('Python', 18),\n",
      " ('Java', 10),\n",
      " ('SQL', 9),\n",
      " ('JavaScript', 8),\n",
      " ('C', 7),\n",
      " ('C++', 5),\n",
      " ('R', 4),\n",
      " ('Go', 4),\n",
      " ('Perl', 4),\n",
      " ('Matlab', 3),\n",
      " ('Lisp', 3),\n",
      " ('Assembly', 3),\n",
      " ('Fortran', 3),\n",
      " ('Ruby', 2),\n",
      " ('Visual Basic', 2),\n",
      " ('Lua', 2),\n",
      " ('Pascal', 2),\n",
      " ('C#', 2),\n",
      " ('Objective-C', 1),\n",
      " ('Elixir', 1),\n",
      " ('PHP', 1),\n",
      " ('TypeScript', 1),\n",
      " ('Haskell', 1),\n",
      " ('Scala', 1),\n",
      " ('Cobol', 1)]\n"
     ]
    }
   ],
   "source": [
    "from collections import Counter\n",
    "\n",
    "lang_counts = Counter()\n",
    "\n",
    "for langs in langs_known:\n",
    "    lang_counts.update(langs)\n",
    "\n",
    "pprint(lang_counts.most_common())"
   ]
  },
  {
   "cell_type": "code",
   "execution_count": 6,
   "id": "9a441e0e",
   "metadata": {},
   "outputs": [
    {
     "name": "stdout",
     "output_type": "stream",
     "text": [
      "1: Python (82%)\n",
      "2: Java (45%)\n",
      "3: SQL (41%)\n",
      "4: JavaScript (36%)\n",
      "5: C (32%)\n",
      "6: C++ (23%)\n",
      "7: R (18%)\n",
      "8: Go (18%)\n",
      "9: Perl (18%)\n",
      "10: Matlab (14%)\n",
      "11: Lisp (14%)\n",
      "12: Assembly (14%)\n",
      "13: Fortran (14%)\n",
      "14: Ruby (9%)\n",
      "15: Visual Basic (9%)\n",
      "16: Lua (9%)\n",
      "17: Pascal (9%)\n",
      "18: C# (9%)\n",
      "19: Objective-C (5%)\n",
      "20: Elixir (5%)\n",
      "21: PHP (5%)\n",
      "22: TypeScript (5%)\n",
      "23: Haskell (5%)\n",
      "24: Scala (5%)\n",
      "25: Cobol (5%)\n"
     ]
    }
   ],
   "source": [
    "for pos, (lang, count) in enumerate(lang_counts.most_common(), start=1):\n",
    "    print(f\"{pos}: {lang} ({round(count / num_responses * 100)}%)\")"
   ]
  }
 ],
 "metadata": {
  "jupytext": {
   "cell_metadata_filter": "-all",
   "formats": "auto:light,ipynb",
   "main_language": "python",
   "notebook_metadata_filter": "-all"
  },
  "kernelspec": {
   "display_name": "Python 3 (ipykernel)",
   "language": "python",
   "name": "python3"
  },
  "language_info": {
   "codemirror_mode": {
    "name": "ipython",
    "version": 3
   },
   "file_extension": ".py",
   "mimetype": "text/x-python",
   "name": "python",
   "nbconvert_exporter": "python",
   "pygments_lexer": "ipython3",
   "version": "3.11.4"
  }
 },
 "nbformat": 4,
 "nbformat_minor": 5
}
