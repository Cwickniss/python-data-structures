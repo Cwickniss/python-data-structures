{
 "cells": [
  {
   "cell_type": "markdown",
   "id": "d57943c8",
   "metadata": {},
   "source": [
    "# Survey analysis\n",
    "Analyse the results from the [languages survey](https://forms.gle/5b3mZRVcgAsoNG1FA)"
   ]
  },
  {
   "cell_type": "code",
   "execution_count": null,
   "id": "bfdc7b7b",
   "metadata": {},
   "outputs": [],
   "source": [
    "all_langs = ['Python', 'Java', 'JavaScript', 'TypeScript', 'PHP', 'SQL', 'C', 'C++', 'C#',\n",
    "             'Ruby', 'R', 'Matlab', 'Go', 'Rust', 'Objective-C', 'Swift', 'Visual Basic',\n",
    "             'Perl', 'Cobol', 'Fortran', 'Lisp', 'Assembly', 'Kotlin', 'Dart', 'Scala',\n",
    "             'Lua', 'Delphi', 'Haskell', 'Julia', 'Clojure', 'Elixir', 'Pascal']"
   ]
  },
  {
   "cell_type": "markdown",
   "id": "a8c4b947",
   "metadata": {},
   "source": [
    "## Load data"
   ]
  },
  {
   "cell_type": "code",
   "execution_count": null,
   "id": "bb84d79a",
   "metadata": {},
   "outputs": [],
   "source": [
    "import csv\n",
    "from pprint import pprint\n",
    "\n",
    "with open('../data/Programming language survey.csv') as file:\n",
    "    file.readline()\n",
    "    reader = csv.DictReader(file, fieldnames=('timestamp', 'languages', 'other_langs', 'age'))\n",
    "    langs_by_entry = [line['languages'].split(';') for line in reader]\n",
    "\n",
    "pprint(langs_by_entry)"
   ]
  },
  {
   "cell_type": "markdown",
   "id": "3e74f89e",
   "metadata": {},
   "source": [
    "## Find number of languages known\n",
    "Print `\"{# known by class} / {# in list} languages known by this class (as %)\"`.\n",
    "\n",
    "E.g. **12/21 languages known by this class (57%)**"
   ]
  },
  {
   "cell_type": "code",
   "execution_count": null,
   "id": "5792989f",
   "metadata": {},
   "outputs": [],
   "source": [
    "langs_set = {lang for langs in langs_by_entry for lang in langs}\n",
    "\n",
    "num_known = len(langs_set)\n",
    "num_all = len(all_langs)\n",
    "percent = round(num_known / num_all * 100)\n",
    "\n",
    "print(f\"{num_known} / {num_all} languages known by this class ({percent}%)\")"
   ]
  },
  {
   "cell_type": "markdown",
   "id": "6030da3f",
   "metadata": {},
   "source": [
    "## List languages not known by anyone in the class"
   ]
  },
  {
   "cell_type": "code",
   "execution_count": null,
   "id": "03710fbd",
   "metadata": {},
   "outputs": [],
   "source": [
    "not_known = set(all_langs) - langs_set\n",
    "print(not_known)"
   ]
  },
  {
   "cell_type": "markdown",
   "id": "ae0b1e22",
   "metadata": {},
   "source": [
    "## Rank languages by most commonly known\n",
    "Print each language as `\"{position}: {language} ({count})\"`, in order from most to least known\n",
    "\n",
    "e.g. **1: Python (30)**"
   ]
  },
  {
   "cell_type": "code",
   "execution_count": null,
   "id": "21ec5e71",
   "metadata": {},
   "outputs": [],
   "source": [
    "from collections import Counter"
   ]
  },
  {
   "cell_type": "code",
   "execution_count": null,
   "id": "984a3a9b",
   "metadata": {},
   "outputs": [],
   "source": [
    "langs_count = Counter([lang for langs in langs_by_entry for lang in langs])\n",
    "langs_count"
   ]
  },
  {
   "cell_type": "code",
   "execution_count": null,
   "id": "ad83f633",
   "metadata": {},
   "outputs": [],
   "source": [
    "langs_count.most_common()"
   ]
  },
  {
   "cell_type": "code",
   "execution_count": null,
   "id": "103b5569",
   "metadata": {},
   "outputs": [],
   "source": [
    "num_people = len(langs_by_entry)\n",
    "\n",
    "for i, (name, count) in enumerate(langs_count.most_common(), start=1):\n",
    "    print(f\"{i}: {name} ({round(count / num_people * 100)}%)\")"
   ]
  }
 ],
 "metadata": {
  "jupytext": {
   "cell_metadata_filter": "-all",
   "formats": "auto:light,ipynb",
   "main_language": "python",
   "notebook_metadata_filter": "-all"
  },
  "kernelspec": {
   "display_name": "Python 3 (ipykernel)",
   "language": "python",
   "name": "python3"
  },
  "language_info": {
   "codemirror_mode": {
    "name": "ipython",
    "version": 3
   },
   "file_extension": ".py",
   "mimetype": "text/x-python",
   "name": "python",
   "nbconvert_exporter": "python",
   "pygments_lexer": "ipython3",
   "version": "3.9.2"
  }
 },
 "nbformat": 4,
 "nbformat_minor": 5
}
