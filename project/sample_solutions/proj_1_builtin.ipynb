{
 "cells": [
  {
   "cell_type": "markdown",
   "id": "34f6b685",
   "metadata": {},
   "source": [
    "# Survey analysis\n",
    "Analyse the results from the [languages survey](https://forms.gle/5b3mZRVcgAsoNG1FA)"
   ]
  },
  {
   "cell_type": "code",
   "execution_count": 1,
   "id": "6194f72d",
   "metadata": {},
   "outputs": [],
   "source": [
    "all_langs = ['Python', 'Java', 'JavaScript', 'TypeScript', 'PHP', 'C', 'C++', 'C#',\n",
    "             'Ruby', 'R', 'Matlab', 'Go', 'Rust', 'Objective-C', 'Swift',\n",
    "             'Visual Basic', 'Perl', 'Cobol', 'Fortran', 'Lisp', 'Assembly']"
   ]
  },
  {
   "cell_type": "markdown",
   "id": "af2e5e3c",
   "metadata": {},
   "source": [
    "## Load data"
   ]
  },
  {
   "cell_type": "code",
   "execution_count": 2,
   "id": "1a85fb19",
   "metadata": {},
   "outputs": [
    {
     "name": "stdout",
     "output_type": "stream",
     "text": [
      "[['Python', 'Java', 'C', 'C++', 'R', 'Matlab', 'Rust', 'Fortran', 'Assembly'],\n",
      " ['Python', 'Java', 'PHP', 'Visual Basic'],\n",
      " ['Python',\n",
      "  'Java',\n",
      "  'JavaScript',\n",
      "  'C',\n",
      "  'C++',\n",
      "  'Ruby',\n",
      "  'R',\n",
      "  'Objective-C',\n",
      "  'Assembly'],\n",
      " ['Python', 'Java', 'JavaScript', 'C', 'C++', 'C#', 'R', 'Perl'],\n",
      " ['JavaScript', 'C', 'C#', 'Objective-C', 'Visual Basic'],\n",
      " ['Python', 'Java', 'Perl'],\n",
      " ['Python', 'Java', 'C++'],\n",
      " ['Python', 'JavaScript', 'Go'],\n",
      " ['Python', 'Matlab'],\n",
      " ['Python', 'Java', 'C', 'C#', 'Lisp'],\n",
      " ['Python'],\n",
      " ['Python', 'Ruby', 'Rust', 'Perl'],\n",
      " ['Python', 'JavaScript', 'TypeScript', 'C++', 'R'],\n",
      " ['Python', 'C++', 'Matlab', 'Visual Basic'],\n",
      " ['Python', 'JavaScript', 'PHP'],\n",
      " ['Python'],\n",
      " ['Python', 'JavaScript', 'PHP', 'C', 'C++', 'R', 'Go'],\n",
      " ['Python', 'C++', 'R', 'Matlab', 'Fortran', 'Assembly'],\n",
      " ['Python', 'Visual Basic', 'Perl'],\n",
      " ['Python', 'TypeScript', 'Swift'],\n",
      " ['Python',\n",
      "  'Java',\n",
      "  'C',\n",
      "  'C++',\n",
      "  'C#',\n",
      "  'R',\n",
      "  'Visual Basic',\n",
      "  'Perl',\n",
      "  'Cobol',\n",
      "  'Fortran',\n",
      "  'Assembly'],\n",
      " ['Python', 'Java', 'C', 'Cobol'],\n",
      " ['Python'],\n",
      " ['Python', 'Fortran', 'Assembly'],\n",
      " ['Python', 'JavaScript', 'PHP', 'R'],\n",
      " ['Python', 'C', 'C++', 'C#', 'R', 'Fortran', 'Assembly'],\n",
      " ['Python', 'JavaScript', 'PHP', 'C++', 'Visual Basic'],\n",
      " ['Python', 'C', 'C++', 'R', 'Matlab', 'Perl', 'Fortran'],\n",
      " ['Python', 'C', 'Perl'],\n",
      " ['Python', 'Java', 'C', 'Perl', 'Lisp'],\n",
      " ['Python', 'C', 'Perl'],\n",
      " ['Python'],\n",
      " ['Python', 'Java', 'JavaScript', 'C', 'C++', 'Visual Basic'],\n",
      " ['Python'],\n",
      " ['Python', 'Java', 'C', 'Visual Basic', 'Perl', 'Lisp', 'Assembly'],\n",
      " ['Python', 'Java'],\n",
      " ['Python', 'Ruby', 'Perl'],\n",
      " ['Python', 'Java', 'JavaScript', 'TypeScript', 'C#'],\n",
      " ['Python', 'Java', 'C', 'Ruby', 'Perl'],\n",
      " ['Python',\n",
      "  'JavaScript',\n",
      "  'TypeScript',\n",
      "  'C',\n",
      "  'C++',\n",
      "  'C#',\n",
      "  'Visual Basic',\n",
      "  'Perl'],\n",
      " ['Python'],\n",
      " ['Java', 'C', 'C++'],\n",
      " ['Python',\n",
      "  'Java',\n",
      "  'JavaScript',\n",
      "  'TypeScript',\n",
      "  'C',\n",
      "  'C++',\n",
      "  'C#',\n",
      "  'Go',\n",
      "  'Rust',\n",
      "  'Cobol'],\n",
      " ['Python', 'JavaScript', 'Visual Basic'],\n",
      " ['JavaScript'],\n",
      " ['Python', 'C', 'C++'],\n",
      " ['Python', 'R', 'Visual Basic'],\n",
      " ['Python', 'Java', 'Go'],\n",
      " ['Python',\n",
      "  'Java',\n",
      "  'JavaScript',\n",
      "  'TypeScript',\n",
      "  'C',\n",
      "  'C++',\n",
      "  'C#',\n",
      "  'Ruby',\n",
      "  'Matlab',\n",
      "  'Go',\n",
      "  'Visual Basic',\n",
      "  'Perl',\n",
      "  'Cobol',\n",
      "  'Lisp',\n",
      "  'Assembly'],\n",
      " ['Python',\n",
      "  'C',\n",
      "  'C++',\n",
      "  'R',\n",
      "  'Matlab',\n",
      "  'Visual Basic',\n",
      "  'Perl',\n",
      "  'Fortran',\n",
      "  'Lisp',\n",
      "  'Assembly']]\n"
     ]
    }
   ],
   "source": [
    "import csv\n",
    "from pprint import pprint\n",
    "\n",
    "langs_by_entry = []\n",
    "\n",
    "with open('../data/Programming language survey.csv') as file:\n",
    "    file.readline()\n",
    "    reader = csv.DictReader(file, fieldnames=('timestamp', 'languages', 'other_langs', 'age'))\n",
    "    for line in reader:\n",
    "        langs = line['languages'].split(';')\n",
    "        langs_by_entry.append(langs)\n",
    "pprint(langs_by_entry)"
   ]
  },
  {
   "cell_type": "markdown",
   "id": "680d8911",
   "metadata": {},
   "source": [
    "## Find number of languages known\n",
    "Print `\"{# known by class} / {# in list} languages known by this class (as %)\"`.\n",
    "\n",
    "E.g. **12/21 languages known by this class (57%)**"
   ]
  },
  {
   "cell_type": "code",
   "execution_count": 3,
   "id": "8fde1e5b",
   "metadata": {},
   "outputs": [
    {
     "name": "stdout",
     "output_type": "stream",
     "text": [
      "21 / 21 languages known by this class (100%)\n"
     ]
    }
   ],
   "source": [
    "langs_set = set()\n",
    "for langs in langs_by_entry:\n",
    "    langs_set.update(langs)\n",
    "\n",
    "num_known = len(langs_set)\n",
    "num_all = len(all_langs)\n",
    "percent = round(num_known / num_all * 100)\n",
    "\n",
    "print(f\"{num_known} / {num_all} languages known by this class ({percent}%)\")"
   ]
  },
  {
   "cell_type": "markdown",
   "id": "dbc8769a",
   "metadata": {},
   "source": [
    "## List languages not known by anyone in the class"
   ]
  },
  {
   "cell_type": "code",
   "execution_count": 4,
   "id": "608514a6",
   "metadata": {},
   "outputs": [
    {
     "name": "stdout",
     "output_type": "stream",
     "text": [
      "set()\n"
     ]
    }
   ],
   "source": [
    "not_known = set(all_langs) - langs_set\n",
    "print(not_known)"
   ]
  },
  {
   "cell_type": "markdown",
   "id": "94209e6a",
   "metadata": {},
   "source": [
    "## Rank languages by most commonly known\n",
    "Print each language as `\"{position}: {language} ({count})\"`, in order from most to least known\n",
    "\n",
    "e.g. **1: Python (30)**"
   ]
  },
  {
   "cell_type": "code",
   "execution_count": 5,
   "id": "f12b83e3",
   "metadata": {},
   "outputs": [
    {
     "name": "stdout",
     "output_type": "stream",
     "text": [
      "{'Python': 47, 'Java': 19, 'C': 22, 'C++': 19, 'R': 12, 'Matlab': 7, 'Rust': 3, 'Fortran': 7, 'Assembly': 9, 'PHP': 5, 'Visual Basic': 13, 'JavaScript': 16, 'Ruby': 5, 'Objective-C': 2, 'C#': 9, 'Perl': 15, 'Go': 5, 'Lisp': 5, 'TypeScript': 6, 'Swift': 1, 'Cobol': 4}\n"
     ]
    }
   ],
   "source": [
    "langs_count = {}\n",
    "for langs in langs_by_entry:\n",
    "    for lang in langs:\n",
    "        if lang not in langs_count:\n",
    "            langs_count[lang] = 0\n",
    "        langs_count[lang] += 1\n",
    "print(langs_count)"
   ]
  },
  {
   "cell_type": "code",
   "execution_count": 6,
   "id": "97cc6618",
   "metadata": {},
   "outputs": [
    {
     "data": {
      "text/plain": [
       "[('Python', 47),\n",
       " ('C', 22),\n",
       " ('Java', 19),\n",
       " ('C++', 19),\n",
       " ('JavaScript', 16),\n",
       " ('Perl', 15),\n",
       " ('Visual Basic', 13),\n",
       " ('R', 12),\n",
       " ('Assembly', 9),\n",
       " ('C#', 9),\n",
       " ('Matlab', 7),\n",
       " ('Fortran', 7),\n",
       " ('TypeScript', 6),\n",
       " ('PHP', 5),\n",
       " ('Ruby', 5),\n",
       " ('Go', 5),\n",
       " ('Lisp', 5),\n",
       " ('Cobol', 4),\n",
       " ('Rust', 3),\n",
       " ('Objective-C', 2),\n",
       " ('Swift', 1)]"
      ]
     },
     "execution_count": 6,
     "metadata": {},
     "output_type": "execute_result"
    }
   ],
   "source": [
    "def sort_func(x):\n",
    "    return -x[1]\n",
    "\n",
    "\n",
    "langs_count_list = list(langs_count.items())\n",
    "langs_count_list.sort(key=lambda x: -x[1])\n",
    "langs_count_list"
   ]
  },
  {
   "cell_type": "code",
   "execution_count": 7,
   "id": "336a3b67",
   "metadata": {
    "lines_to_next_cell": 0
   },
   "outputs": [
    {
     "name": "stdout",
     "output_type": "stream",
     "text": [
      "1: Python (94%)\n",
      "2: C (44%)\n",
      "3: Java (38%)\n",
      "4: C++ (38%)\n",
      "5: JavaScript (32%)\n",
      "6: Perl (30%)\n",
      "7: Visual Basic (26%)\n",
      "8: R (24%)\n",
      "9: Assembly (18%)\n",
      "10: C# (18%)\n",
      "11: Matlab (14%)\n",
      "12: Fortran (14%)\n",
      "13: TypeScript (12%)\n",
      "14: PHP (10%)\n",
      "15: Ruby (10%)\n",
      "16: Go (10%)\n",
      "17: Lisp (10%)\n",
      "18: Cobol (8%)\n",
      "19: Rust (6%)\n",
      "20: Objective-C (4%)\n",
      "21: Swift (2%)\n"
     ]
    }
   ],
   "source": [
    "num_people = len(langs_by_entry)\n",
    "\n",
    "for i, (name, count) in enumerate(langs_count_list, start=1):\n",
    "    print(f\"{i}: {name} ({round(count / num_people * 100)}%)\")"
   ]
  },
  {
   "cell_type": "code",
   "execution_count": null,
   "id": "c0adf75c",
   "metadata": {
    "lines_to_next_cell": 2
   },
   "outputs": [],
   "source": []
  }
 ],
 "metadata": {
  "jupytext": {
   "cell_metadata_filter": "-all",
   "formats": "auto:light,ipynb",
   "main_language": "python",
   "notebook_metadata_filter": "-all"
  },
  "kernelspec": {
   "display_name": "Python 3 (ipykernel)",
   "language": "python",
   "name": "python3"
  },
  "language_info": {
   "codemirror_mode": {
    "name": "ipython",
    "version": 3
   },
   "file_extension": ".py",
   "mimetype": "text/x-python",
   "name": "python",
   "nbconvert_exporter": "python",
   "pygments_lexer": "ipython3",
   "version": "3.9.2"
  }
 },
 "nbformat": 4,
 "nbformat_minor": 5
}
