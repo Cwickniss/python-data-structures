{
 "cells": [
  {
   "cell_type": "markdown",
   "id": "a696cc15",
   "metadata": {},
   "source": [
    "# Survey analysis\n",
    "Analyse the results from the [languages survey](https://forms.gle/5b3mZRVcgAsoNG1FA)"
   ]
  },
  {
   "cell_type": "code",
   "execution_count": 1,
   "id": "6fdfc470",
   "metadata": {},
   "outputs": [],
   "source": [
    "all_langs = ['Python', 'Java', 'JavaScript', 'TypeScript', 'PHP', 'SQL', 'C', 'C++', 'C#',\n",
    "             'Ruby', 'R', 'Matlab', 'Go', 'Rust', 'Objective-C', 'Swift', 'Visual Basic',\n",
    "             'Perl', 'Cobol', 'Fortran', 'Lisp', 'Assembly', 'Kotlin', 'Dart', 'Scala',\n",
    "             'Lua', 'Delphi', 'Haskell', 'Julia', 'Clojure', 'Elixir', 'Pascal']"
   ]
  },
  {
   "cell_type": "markdown",
   "id": "eb01e0eb",
   "metadata": {},
   "source": [
    "## Load data"
   ]
  },
  {
   "cell_type": "code",
   "execution_count": 2,
   "id": "d75ff1b4",
   "metadata": {},
   "outputs": [
    {
     "name": "stdout",
     "output_type": "stream",
     "text": [
      "48\n"
     ]
    }
   ],
   "source": [
    "import csv\n",
    "\n",
    "langs_known = []\n",
    "num_responses = 0\n",
    "\n",
    "with open('../data/Survey-2023:11:02.csv') as file:\n",
    "    file.readline()\n",
    "    reader = csv.DictReader(file, fieldnames=(\"timestamp\", \"languages\", \"years\"))\n",
    "    for line in reader:\n",
    "        langs = line['languages']\n",
    "        langs_known.extend(langs.split(';'))\n",
    "        num_responses += 1\n",
    "\n",
    "print(num_responses)"
   ]
  },
  {
   "cell_type": "markdown",
   "id": "efe91e1d",
   "metadata": {},
   "source": [
    "## Find number of languages known\n",
    "Print `\"{# known by class} / {# in list} languages known by this class (as %)\"`.\n",
    "\n",
    "E.g. **12/21 languages known by this class (57%)**"
   ]
  },
  {
   "cell_type": "code",
   "execution_count": 3,
   "id": "144eacf6",
   "metadata": {},
   "outputs": [
    {
     "name": "stdout",
     "output_type": "stream",
     "text": [
      "{'JavaScript', 'Lua', 'Python', 'Scala', 'TypeScript', 'Objective-C', 'Assembly', 'SQL', 'Kotlin', 'C', 'C#', 'Clojure', 'Fortran', 'Ruby', 'Go', 'Rust', 'Visual Basic', 'R', 'Haskell', 'Pascal', 'PHP', 'Swift', 'Matlab', 'Java', 'Lisp', 'C++', 'Delphi', 'Perl'}\n"
     ]
    }
   ],
   "source": [
    "langs_known_set = set(langs_known)\n",
    "print(langs_known_set)"
   ]
  },
  {
   "cell_type": "code",
   "execution_count": 4,
   "id": "70a1e8fa",
   "metadata": {},
   "outputs": [
    {
     "name": "stdout",
     "output_type": "stream",
     "text": [
      "28 / 32 languages known by this class (88%)\n"
     ]
    }
   ],
   "source": [
    "print(\n",
    "    f\"{len(langs_known_set)} / {len(all_langs)} languages known by this class ({round(len(langs_known_set) / len(all_langs) * 100)}%)\")"
   ]
  },
  {
   "cell_type": "markdown",
   "id": "64a79ec1",
   "metadata": {},
   "source": [
    "## List languages not known by anyone in the class"
   ]
  },
  {
   "cell_type": "code",
   "execution_count": 5,
   "id": "228f173d",
   "metadata": {},
   "outputs": [
    {
     "name": "stdout",
     "output_type": "stream",
     "text": [
      "['Cobol', 'Dart', 'Elixir', 'Julia']\n"
     ]
    }
   ],
   "source": [
    "not_known = set(all_langs) - langs_known_set\n",
    "not_known_list = list(not_known)\n",
    "not_known_list.sort()\n",
    "print(not_known_list)"
   ]
  },
  {
   "cell_type": "markdown",
   "id": "de1005e4",
   "metadata": {},
   "source": [
    "## Rank languages by most commonly known\n",
    "Print each language as `\"{position}: {language} ({percent_known}%)\"`, in order from most to least known\n",
    "\n",
    "e.g. **1: Python (93%)**"
   ]
  },
  {
   "cell_type": "code",
   "execution_count": 6,
   "id": "a0834105",
   "metadata": {},
   "outputs": [
    {
     "name": "stdout",
     "output_type": "stream",
     "text": [
      "{'Python': 41, 'Java': 15, 'JavaScript': 15, 'TypeScript': 3, 'PHP': 7, 'SQL': 19, 'C': 21, 'C++': 15, 'C#': 5, 'Ruby': 7, 'R': 4, 'Matlab': 8, 'Go': 5, 'Rust': 1, 'Objective-C': 3, 'Swift': 1, 'Visual Basic': 3, 'Perl': 16, 'Cobol': 0, 'Fortran': 1, 'Lisp': 4, 'Assembly': 9, 'Kotlin': 1, 'Dart': 0, 'Scala': 4, 'Lua': 2, 'Delphi': 4, 'Haskell': 3, 'Julia': 0, 'Clojure': 1, 'Elixir': 0, 'Pascal': 10}\n"
     ]
    }
   ],
   "source": [
    "langs_count = dict(zip(all_langs, [0] * len(all_langs)))\n",
    "\n",
    "for lang in langs_known:\n",
    "    langs_count[lang] += 1\n",
    "print(langs_count)"
   ]
  },
  {
   "cell_type": "code",
   "execution_count": 7,
   "id": "19e2c716",
   "metadata": {},
   "outputs": [],
   "source": [
    "lang_count_list = list(langs_count.items())"
   ]
  },
  {
   "cell_type": "code",
   "execution_count": 8,
   "id": "8a36e397",
   "metadata": {},
   "outputs": [],
   "source": [
    "lang_count_list.sort(key=lambda x: -x[1])"
   ]
  },
  {
   "cell_type": "code",
   "execution_count": 9,
   "id": "743c7eec",
   "metadata": {},
   "outputs": [
    {
     "name": "stdout",
     "output_type": "stream",
     "text": [
      "1: Python (85%)\n",
      "2: C (44%)\n",
      "3: SQL (40%)\n",
      "4: Perl (33%)\n",
      "5: Java (31%)\n",
      "6: JavaScript (31%)\n",
      "7: C++ (31%)\n",
      "8: Pascal (21%)\n",
      "9: Assembly (19%)\n",
      "10: Matlab (17%)\n",
      "11: PHP (15%)\n",
      "12: Ruby (15%)\n",
      "13: C# (10%)\n",
      "14: Go (10%)\n",
      "15: R (8%)\n",
      "16: Lisp (8%)\n",
      "17: Scala (8%)\n",
      "18: Delphi (8%)\n",
      "19: TypeScript (6%)\n",
      "20: Objective-C (6%)\n",
      "21: Visual Basic (6%)\n",
      "22: Haskell (6%)\n",
      "23: Lua (4%)\n",
      "24: Rust (2%)\n",
      "25: Swift (2%)\n",
      "26: Fortran (2%)\n",
      "27: Kotlin (2%)\n",
      "28: Clojure (2%)\n",
      "29: Cobol (0%)\n",
      "30: Dart (0%)\n",
      "31: Julia (0%)\n",
      "32: Elixir (0%)\n"
     ]
    }
   ],
   "source": [
    "for pos, (lang, count) in enumerate(lang_count_list, start=1):\n",
    "    percent_known = round(count / num_responses * 100)\n",
    "    print(f\"{pos}: {lang} ({percent_known}%)\")"
   ]
  }
 ],
 "metadata": {
  "jupytext": {
   "cell_metadata_filter": "-all",
   "main_language": "python",
   "notebook_metadata_filter": "-all"
  },
  "kernelspec": {
   "display_name": "Python 3 (ipykernel)",
   "language": "python",
   "name": "python3"
  },
  "language_info": {
   "codemirror_mode": {
    "name": "ipython",
    "version": 3
   },
   "file_extension": ".py",
   "mimetype": "text/x-python",
   "name": "python",
   "nbconvert_exporter": "python",
   "pygments_lexer": "ipython3",
   "version": "3.11.4"
  }
 },
 "nbformat": 4,
 "nbformat_minor": 5
}
