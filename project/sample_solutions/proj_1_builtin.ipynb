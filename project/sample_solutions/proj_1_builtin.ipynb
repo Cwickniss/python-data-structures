{
 "cells": [
  {
   "cell_type": "code",
   "execution_count": null,
   "id": "1f152052",
   "metadata": {},
   "outputs": [],
   "source": [
    "all_langs = ['Python', 'Java', 'JavaScript', 'TypeScript', 'PHP', 'C', 'C++', 'C#',\n",
    "             'Ruby', 'R', 'Matlab', 'Go', 'Rust', 'Objective-C', 'Swift',\n",
    "             'Visual Basic', 'Perl', 'Cobol', 'Fortran', 'Lisp', 'Assembly']"
   ]
  },
  {
   "cell_type": "markdown",
   "id": "98687321",
   "metadata": {},
   "source": [
    "# Load data"
   ]
  },
  {
   "cell_type": "code",
   "execution_count": null,
   "id": "7d613640",
   "metadata": {},
   "outputs": [],
   "source": [
    "import csv\n",
    "from pprint import pprint\n",
    "\n",
    "\n",
    "langs_by_entry = []\n",
    "\n",
    "with open('../data/Programming language survey.csv', 'r') as file:\n",
    "    file.readline()\n",
    "    reader = csv.DictReader(file, fieldnames=('timestamp', 'languages', 'other_langs', 'age'))\n",
    "    for line in reader:\n",
    "        langs_list = line['languages'].split(';')\n",
    "        langs_by_entry.append(langs_list)\n",
    "\n",
    "pprint(langs_by_entry)"
   ]
  },
  {
   "cell_type": "markdown",
   "id": "4b9963f6",
   "metadata": {},
   "source": [
    "## Find number of languages known\n",
    "Print {# known by class} / {# in list} languages known by this class (as %).\n",
    "E.g. 12/21 languages known by this class (57%)"
   ]
  },
  {
   "cell_type": "code",
   "execution_count": null,
   "id": "7d999643",
   "metadata": {},
   "outputs": [],
   "source": [
    "known_langs = set()\n",
    "\n",
    "for langs in langs_by_entry:\n",
    "    known_langs.update(langs)\n",
    "\n",
    "percent = round(len(known_langs)/len(all_langs) * 100)\n",
    "print(f\"{len(known_langs)}/{len(all_langs)} languages known by this class ({percent}%)\")"
   ]
  },
  {
   "cell_type": "markdown",
   "id": "f187b972",
   "metadata": {},
   "source": [
    "## List languages known and not known"
   ]
  },
  {
   "cell_type": "code",
   "execution_count": null,
   "id": "2b2e432c",
   "metadata": {},
   "outputs": [],
   "source": [
    "print('Not known:')\n",
    "print(set(all_langs) - known_langs)"
   ]
  },
  {
   "cell_type": "markdown",
   "id": "50bd3ffa",
   "metadata": {},
   "source": [
    "# Rank languages by most commonly known\n",
    "Print each language as `\"{position}: {language} ({count})\"`, in order from most to least known\n",
    "\n",
    "e.g. **1: Python (30)**"
   ]
  },
  {
   "cell_type": "code",
   "execution_count": null,
   "id": "abc25f9a",
   "metadata": {},
   "outputs": [],
   "source": [
    "rank_langs = {}\n",
    "for langs in langs_by_entry:\n",
    "    for lang in langs:\n",
    "        rank_langs[lang] = rank_langs.get(lang, 0) + 1\n",
    "\n",
    "rank_langs"
   ]
  },
  {
   "cell_type": "code",
   "execution_count": null,
   "id": "46881667",
   "metadata": {},
   "outputs": [],
   "source": [
    "sorted_langs = sorted(list(rank_langs.items()), key=lambda tup: -tup[1])\n",
    "sorted_langs"
   ]
  },
  {
   "cell_type": "code",
   "execution_count": null,
   "id": "039e359b",
   "metadata": {},
   "outputs": [],
   "source": [
    "for i, (lang, count) in enumerate(sorted_langs, start=1):\n",
    "    print(f\"{i}: {lang} ({count})\")"
   ]
  },
  {
   "cell_type": "code",
   "execution_count": null,
   "id": "4846d6f4",
   "metadata": {},
   "outputs": [],
   "source": []
  }
 ],
 "metadata": {
  "jupytext": {
   "cell_metadata_filter": "-all",
   "formats": "auto:light,ipynb",
   "main_language": "python",
   "notebook_metadata_filter": "-all"
  },
  "kernelspec": {
   "display_name": "Python 3 (ipykernel)",
   "language": "python",
   "name": "python3"
  },
  "language_info": {
   "codemirror_mode": {
    "name": "ipython",
    "version": 3
   },
   "file_extension": ".py",
   "mimetype": "text/x-python",
   "name": "python",
   "nbconvert_exporter": "python",
   "pygments_lexer": "ipython3",
   "version": "3.9.2"
  }
 },
 "nbformat": 4,
 "nbformat_minor": 5
}
