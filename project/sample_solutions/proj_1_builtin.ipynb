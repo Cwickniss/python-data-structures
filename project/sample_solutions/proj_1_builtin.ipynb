{
 "cells": [
  {
   "cell_type": "markdown",
   "id": "34f6b685",
   "metadata": {},
   "source": [
    "# Survey analysis\n",
    "Analyse the results from the [languages survey](https://forms.gle/5b3mZRVcgAsoNG1FA)"
   ]
  },
  {
   "cell_type": "code",
   "execution_count": null,
   "id": "6194f72d",
   "metadata": {},
   "outputs": [],
   "source": [
    "all_langs = ['Python', 'Java', 'JavaScript', 'TypeScript', 'PHP', 'SQL', 'C', 'C++', 'C#',\n",
    "             'Ruby', 'R', 'Matlab', 'Go', 'Rust', 'Objective-C', 'Swift', 'Visual Basic',\n",
    "             'Perl', 'Cobol', 'Fortran', 'Lisp', 'Assembly', 'Kotlin', 'Dart', 'Scala',\n",
    "             'Lua', 'Delphi', 'Haskell', 'Julia', 'Clojure', 'Elixir', 'Pascal']"
   ]
  },
  {
   "cell_type": "markdown",
   "id": "af2e5e3c",
   "metadata": {},
   "source": [
    "## Load data"
   ]
  },
  {
   "cell_type": "code",
   "execution_count": null,
   "id": "1a85fb19",
   "metadata": {},
   "outputs": [],
   "source": [
    "import csv\n",
    "from pprint import pprint\n",
    "\n",
    "langs_by_entry = []\n",
    "\n",
    "with open('../data/Programming language survey.csv') as file:\n",
    "    file.readline()\n",
    "    reader = csv.DictReader(file, fieldnames=('timestamp', 'languages', 'other_langs', 'age'))\n",
    "    for line in reader:\n",
    "        langs = line['languages'].split(';')\n",
    "        langs_by_entry.append(langs)\n",
    "pprint(langs_by_entry)"
   ]
  },
  {
   "cell_type": "markdown",
   "id": "680d8911",
   "metadata": {},
   "source": [
    "## Find number of languages known\n",
    "Print `\"{# known by class} / {# in list} languages known by this class (as %)\"`.\n",
    "\n",
    "E.g. **12/21 languages known by this class (57%)**"
   ]
  },
  {
   "cell_type": "code",
   "execution_count": null,
   "id": "8fde1e5b",
   "metadata": {},
   "outputs": [],
   "source": [
    "langs_set = set()\n",
    "for langs in langs_by_entry:\n",
    "    langs_set.update(langs)\n",
    "\n",
    "num_known = len(langs_set)\n",
    "num_all = len(all_langs)\n",
    "percent = round(num_known / num_all * 100)\n",
    "\n",
    "print(f\"{num_known} / {num_all} languages known by this class ({percent}%)\")"
   ]
  },
  {
   "cell_type": "markdown",
   "id": "dbc8769a",
   "metadata": {},
   "source": [
    "## List languages not known by anyone in the class"
   ]
  },
  {
   "cell_type": "code",
   "execution_count": null,
   "id": "608514a6",
   "metadata": {},
   "outputs": [],
   "source": [
    "not_known = set(all_langs) - langs_set\n",
    "print(not_known)"
   ]
  },
  {
   "cell_type": "markdown",
   "id": "94209e6a",
   "metadata": {},
   "source": [
    "## Rank languages by most commonly known\n",
    "Print each language as `\"{position}: {language} ({count})\"`, in order from most to least known\n",
    "\n",
    "e.g. **1: Python (30)**"
   ]
  },
  {
   "cell_type": "code",
   "execution_count": null,
   "id": "f12b83e3",
   "metadata": {},
   "outputs": [],
   "source": [
    "langs_count = {}\n",
    "for langs in langs_by_entry:\n",
    "    for lang in langs:\n",
    "        if lang not in langs_count:\n",
    "            langs_count[lang] = 0\n",
    "        langs_count[lang] += 1\n",
    "print(langs_count)"
   ]
  },
  {
   "cell_type": "code",
   "execution_count": null,
   "id": "97cc6618",
   "metadata": {},
   "outputs": [],
   "source": [
    "def sort_func(x):\n",
    "    return -x[1]\n",
    "\n",
    "\n",
    "langs_count_list = list(langs_count.items())\n",
    "langs_count_list.sort(key=lambda x: -x[1])\n",
    "langs_count_list"
   ]
  },
  {
   "cell_type": "code",
   "execution_count": null,
   "id": "336a3b67",
   "metadata": {
    "lines_to_next_cell": 0
   },
   "outputs": [],
   "source": [
    "num_people = len(langs_by_entry)\n",
    "\n",
    "for i, (name, count) in enumerate(langs_count_list, start=1):\n",
    "    print(f\"{i}: {name} ({round(count / num_people * 100)}%)\")"
   ]
  },
  {
   "cell_type": "code",
   "execution_count": null,
   "id": "c0adf75c",
   "metadata": {
    "lines_to_next_cell": 2
   },
   "outputs": [],
   "source": []
  }
 ],
 "metadata": {
  "jupytext": {
   "cell_metadata_filter": "-all",
   "formats": "auto:light,ipynb",
   "main_language": "python",
   "notebook_metadata_filter": "-all"
  },
  "kernelspec": {
   "display_name": "Python 3 (ipykernel)",
   "language": "python",
   "name": "python3"
  },
  "language_info": {
   "codemirror_mode": {
    "name": "ipython",
    "version": 3
   },
   "file_extension": ".py",
   "mimetype": "text/x-python",
   "name": "python",
   "nbconvert_exporter": "python",
   "pygments_lexer": "ipython3",
   "version": "3.9.2"
  }
 },
 "nbformat": 4,
 "nbformat_minor": 5
}
