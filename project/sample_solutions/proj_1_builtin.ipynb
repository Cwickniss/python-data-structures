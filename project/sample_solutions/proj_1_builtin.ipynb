{
 "cells": [
  {
   "cell_type": "markdown",
   "id": "9d86ef30",
   "metadata": {},
   "source": [
    "# Survey analysis\n",
    "Analyse the results from the [languages survey](https://forms.gle/5b3mZRVcgAsoNG1FA)"
   ]
  },
  {
   "cell_type": "code",
   "execution_count": 1,
   "id": "801ca19d",
   "metadata": {},
   "outputs": [],
   "source": [
    "all_langs = ['Python', 'Java', 'JavaScript', 'TypeScript', 'PHP', 'SQL', 'C', 'C++', 'C#',\n",
    "             'Ruby', 'R', 'Matlab', 'Go', 'Rust', 'Objective-C', 'Swift', 'Visual Basic',\n",
    "             'Perl', 'Cobol', 'Fortran', 'Lisp', 'Assembly', 'Kotlin', 'Dart', 'Scala',\n",
    "             'Lua', 'Delphi', 'Haskell', 'Julia', 'Clojure', 'Elixir', 'Pascal']"
   ]
  },
  {
   "cell_type": "markdown",
   "id": "868dd80b",
   "metadata": {},
   "source": [
    "## Load data"
   ]
  },
  {
   "cell_type": "code",
   "execution_count": 2,
   "id": "4ad9c4b4",
   "metadata": {},
   "outputs": [
    {
     "name": "stdout",
     "output_type": "stream",
     "text": [
      "98\n",
      "22\n"
     ]
    }
   ],
   "source": [
    "import csv\n",
    "from pprint import pprint\n",
    "\n",
    "langs_known: list[str] = []\n",
    "num_responses = 0\n",
    "\n",
    "with open('../data/Survey-2024-Jul.csv') as file:\n",
    "    file.readline()  # Ignore first line (header)\n",
    "    reader = csv.DictReader(file, fieldnames=('timestamp', 'languages', 'years'))  # list of dicts with keys passed into fieldnames\n",
    "    for response in reader:\n",
    "        langs = response['languages'].split(';')\n",
    "        langs_known.extend(langs)\n",
    "        num_responses += 1\n",
    "\n",
    "print(len(langs_known))\n",
    "print(num_responses)"
   ]
  },
  {
   "cell_type": "markdown",
   "id": "fbd49e64",
   "metadata": {},
   "source": [
    "## Find number of languages known\n",
    "Print `\"{# known by class} / {# in list} languages known by this class (as %)\"`.\n",
    "\n",
    "E.g. **12/21 languages known by this class (57%)**"
   ]
  },
  {
   "cell_type": "code",
   "execution_count": 3,
   "id": "5734bef0",
   "metadata": {},
   "outputs": [
    {
     "name": "stdout",
     "output_type": "stream",
     "text": [
      "25 / 32 languages known by this class (78%)\n"
     ]
    }
   ],
   "source": [
    "langs_known_set = set(langs_known)\n",
    "print(f\"{len(langs_known_set)} / {len(all_langs)} languages known by this class ({round(len(langs_known_set) / len(all_langs) * 100)}%)\")"
   ]
  },
  {
   "cell_type": "markdown",
   "id": "b9824b6a",
   "metadata": {},
   "source": [
    "## List languages not known by anyone in the class"
   ]
  },
  {
   "cell_type": "code",
   "execution_count": 4,
   "id": "d423f3bc",
   "metadata": {},
   "outputs": [
    {
     "name": "stdout",
     "output_type": "stream",
     "text": [
      "{'Swift', 'Clojure', 'Julia', 'Kotlin', 'Rust', 'Delphi', 'Dart'}\n"
     ]
    }
   ],
   "source": [
    "not_known = set(all_langs) - langs_known_set\n",
    "print(not_known)"
   ]
  },
  {
   "cell_type": "markdown",
   "id": "39f83d3b",
   "metadata": {},
   "source": [
    "## Rank languages by most commonly known\n",
    "Print each language as `\"{position}: {language} ({percent_known}%)\"`, in order from most to least known\n",
    "\n",
    "e.g. **1: Python (93%)**"
   ]
  },
  {
   "cell_type": "code",
   "execution_count": 5,
   "id": "e433e4bd",
   "metadata": {},
   "outputs": [
    {
     "name": "stdout",
     "output_type": "stream",
     "text": [
      "[('Python', 18),\n",
      " ('Java', 10),\n",
      " ('JavaScript', 8),\n",
      " ('SQL', 9),\n",
      " ('C', 7),\n",
      " ('Ruby', 2),\n",
      " ('R', 4),\n",
      " ('Objective-C', 1),\n",
      " ('Visual Basic', 2),\n",
      " ('C++', 5),\n",
      " ('Matlab', 3),\n",
      " ('Go', 4),\n",
      " ('Perl', 4),\n",
      " ('Elixir', 1),\n",
      " ('Lisp', 3),\n",
      " ('Assembly', 3),\n",
      " ('PHP', 1),\n",
      " ('TypeScript', 1),\n",
      " ('Fortran', 3),\n",
      " ('Lua', 2),\n",
      " ('Haskell', 1),\n",
      " ('Pascal', 2),\n",
      " ('C#', 2),\n",
      " ('Scala', 1),\n",
      " ('Cobol', 1)]\n"
     ]
    }
   ],
   "source": [
    "lang_counts = {}\n",
    "\n",
    "for lang in langs_known:\n",
    "    lang_counts[lang] = lang_counts.get(lang, 0) + 1\n",
    "\n",
    "lang_counts_list = list(lang_counts.items())\n",
    "pprint(lang_counts_list)"
   ]
  },
  {
   "cell_type": "code",
   "execution_count": 6,
   "id": "4a331dfe",
   "metadata": {},
   "outputs": [
    {
     "name": "stdout",
     "output_type": "stream",
     "text": [
      "[('Python', 18),\n",
      " ('Java', 10),\n",
      " ('SQL', 9),\n",
      " ('JavaScript', 8),\n",
      " ('C', 7),\n",
      " ('C++', 5),\n",
      " ('R', 4),\n",
      " ('Go', 4),\n",
      " ('Perl', 4),\n",
      " ('Matlab', 3),\n",
      " ('Lisp', 3),\n",
      " ('Assembly', 3),\n",
      " ('Fortran', 3),\n",
      " ('Ruby', 2),\n",
      " ('Visual Basic', 2),\n",
      " ('Lua', 2),\n",
      " ('Pascal', 2),\n",
      " ('C#', 2),\n",
      " ('Objective-C', 1),\n",
      " ('Elixir', 1),\n",
      " ('PHP', 1),\n",
      " ('TypeScript', 1),\n",
      " ('Haskell', 1),\n",
      " ('Scala', 1),\n",
      " ('Cobol', 1)]\n"
     ]
    }
   ],
   "source": [
    "lang_counts_list.sort(key=lambda t: t[1], reverse=True)\n",
    "pprint(lang_counts_list)"
   ]
  },
  {
   "cell_type": "code",
   "execution_count": 7,
   "id": "9e1f5feb",
   "metadata": {},
   "outputs": [
    {
     "name": "stdout",
     "output_type": "stream",
     "text": [
      "1: Python (82%)\n",
      "2: Java (45%)\n",
      "3: SQL (41%)\n",
      "4: JavaScript (36%)\n",
      "5: C (32%)\n",
      "6: C++ (23%)\n",
      "7: R (18%)\n",
      "8: Go (18%)\n",
      "9: Perl (18%)\n",
      "10: Matlab (14%)\n",
      "11: Lisp (14%)\n",
      "12: Assembly (14%)\n",
      "13: Fortran (14%)\n",
      "14: Ruby (9%)\n",
      "15: Visual Basic (9%)\n",
      "16: Lua (9%)\n",
      "17: Pascal (9%)\n",
      "18: C# (9%)\n",
      "19: Objective-C (5%)\n",
      "20: Elixir (5%)\n",
      "21: PHP (5%)\n",
      "22: TypeScript (5%)\n",
      "23: Haskell (5%)\n",
      "24: Scala (5%)\n",
      "25: Cobol (5%)\n"
     ]
    }
   ],
   "source": [
    "for pos, (lang, count) in enumerate(lang_counts_list, start=1):\n",
    "    print(f\"{pos}: {lang} ({round(count / num_responses * 100)}%)\")"
   ]
  }
 ],
 "metadata": {
  "jupytext": {
   "cell_metadata_filter": "-all",
   "formats": "auto:light,ipynb",
   "main_language": "python",
   "notebook_metadata_filter": "-all"
  },
  "kernelspec": {
   "display_name": "Python 3 (ipykernel)",
   "language": "python",
   "name": "python3"
  },
  "language_info": {
   "codemirror_mode": {
    "name": "ipython",
    "version": 3
   },
   "file_extension": ".py",
   "mimetype": "text/x-python",
   "name": "python",
   "nbconvert_exporter": "python",
   "pygments_lexer": "ipython3",
   "version": "3.11.4"
  }
 },
 "nbformat": 4,
 "nbformat_minor": 5
}
