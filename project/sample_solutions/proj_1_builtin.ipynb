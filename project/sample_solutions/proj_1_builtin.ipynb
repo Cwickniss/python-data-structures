{
 "cells": [
  {
   "cell_type": "markdown",
   "id": "a696cc15",
   "metadata": {},
   "source": [
    "# Survey analysis\n",
    "Analyse the results from the [languages survey](https://forms.gle/5b3mZRVcgAsoNG1FA)"
   ]
  },
  {
   "cell_type": "code",
   "execution_count": 1,
   "id": "6fdfc470",
   "metadata": {},
   "outputs": [],
   "source": [
    "all_langs = ['Python', 'Java', 'JavaScript', 'TypeScript', 'PHP', 'SQL', 'C', 'C++', 'C#',\n",
    "             'Ruby', 'R', 'Matlab', 'Go', 'Rust', 'Objective-C', 'Swift', 'Visual Basic',\n",
    "             'Perl', 'Cobol', 'Fortran', 'Lisp', 'Assembly', 'Kotlin', 'Dart', 'Scala',\n",
    "             'Lua', 'Delphi', 'Haskell', 'Julia', 'Clojure', 'Elixir', 'Pascal']"
   ]
  },
  {
   "cell_type": "markdown",
   "id": "eb01e0eb",
   "metadata": {},
   "source": [
    "## Load data"
   ]
  },
  {
   "cell_type": "code",
   "execution_count": 2,
   "id": "d75ff1b4",
   "metadata": {},
   "outputs": [
    {
     "name": "stdout",
     "output_type": "stream",
     "text": [
      "72\n",
      "['Python', 'Java', 'JavaScript', 'PHP', 'SQL', 'C', 'Ruby', 'Go', 'Objective-C', 'Perl', 'Python', 'JavaScript', 'SQL', 'Python', 'SQL', 'C', 'Python', 'Java', 'JavaScript', 'TypeScript', 'SQL', 'C#', 'Ruby', 'Go', 'Rust', 'Visual Basic', 'Perl', 'Lisp', 'Assembly', 'Scala', 'Lua', 'Haskell', 'Clojure', 'Python', 'Ruby', 'Go', 'Python', 'Fortran', 'Python', 'Ruby', 'Go', 'Python', 'Python', 'JavaScript', 'SQL', 'Ruby', 'Python', 'Python', 'Java', 'JavaScript', 'TypeScript', 'PHP', 'SQL', 'C', 'C++', 'C#', 'R', 'Matlab', 'Objective-C', 'Swift', 'Visual Basic', 'Perl', 'Assembly', 'Scala', 'Delphi', 'Pascal', 'Python', 'Python', 'R', 'Matlab', 'Python', 'Ruby']\n"
     ]
    }
   ],
   "source": [
    "import csv\n",
    "\n",
    "results = []\n",
    "with open('../data/Programming language - responses.csv') as file:\n",
    "    file.readline()\n",
    "    reader = csv.DictReader(file, fieldnames=['timestamp', 'languages', 'years'])\n",
    "    for line in reader:\n",
    "        results.extend(line['languages'].split(\", \"))\n",
    "\n",
    "print(len(results))\n",
    "print(results)"
   ]
  },
  {
   "cell_type": "markdown",
   "id": "efe91e1d",
   "metadata": {},
   "source": [
    "## Find number of languages known\n",
    "Print `\"{# known by class} / {# in list} languages known by this class (as %)\"`.\n",
    "\n",
    "E.g. **12/21 languages known by this class (57%)**"
   ]
  },
  {
   "cell_type": "code",
   "execution_count": 3,
   "id": "144eacf6",
   "metadata": {},
   "outputs": [
    {
     "name": "stdout",
     "output_type": "stream",
     "text": [
      "27 / 32 languages known by this class (84%)\n"
     ]
    }
   ],
   "source": [
    "unique_langs = set(results)\n",
    "num_known = len(unique_langs)\n",
    "num_all = len(all_langs)\n",
    "print(f\"{num_known} / {num_all} languages known by this class ({round(num_known / num_all * 100)}%)\")"
   ]
  },
  {
   "cell_type": "markdown",
   "id": "64a79ec1",
   "metadata": {},
   "source": [
    "## List languages not known by anyone in the class"
   ]
  },
  {
   "cell_type": "code",
   "execution_count": 4,
   "id": "228f173d",
   "metadata": {},
   "outputs": [
    {
     "name": "stdout",
     "output_type": "stream",
     "text": [
      "{'Cobol', 'Kotlin', 'Elixir', 'Dart', 'Julia'}\n"
     ]
    }
   ],
   "source": [
    "not_known = set(all_langs) - unique_langs\n",
    "print(not_known)"
   ]
  },
  {
   "cell_type": "markdown",
   "id": "de1005e4",
   "metadata": {},
   "source": [
    "## Rank languages by most commonly known\n",
    "Print each language as `\"{position}: {language} ({percent_known}%)\"`, in order from most to least known\n",
    "\n",
    "e.g. **1: Python (93%)**"
   ]
  },
  {
   "cell_type": "code",
   "execution_count": 5,
   "id": "a0834105",
   "metadata": {},
   "outputs": [
    {
     "name": "stdout",
     "output_type": "stream",
     "text": [
      "{'Assembly': 2,\n",
      " 'C': 3,\n",
      " 'C#': 2,\n",
      " 'C++': 1,\n",
      " 'Clojure': 1,\n",
      " 'Delphi': 1,\n",
      " 'Fortran': 1,\n",
      " 'Go': 4,\n",
      " 'Haskell': 1,\n",
      " 'Java': 3,\n",
      " 'JavaScript': 5,\n",
      " 'Lisp': 1,\n",
      " 'Lua': 1,\n",
      " 'Matlab': 2,\n",
      " 'Objective-C': 2,\n",
      " 'PHP': 2,\n",
      " 'Pascal': 1,\n",
      " 'Perl': 3,\n",
      " 'Python': 14,\n",
      " 'R': 2,\n",
      " 'Ruby': 6,\n",
      " 'Rust': 1,\n",
      " 'SQL': 6,\n",
      " 'Scala': 2,\n",
      " 'Swift': 1,\n",
      " 'TypeScript': 2,\n",
      " 'Visual Basic': 2}\n"
     ]
    }
   ],
   "source": [
    "langs_by_count = {}\n",
    "for lang in results:\n",
    "    if lang not in langs_by_count:\n",
    "        langs_by_count[lang] = 0\n",
    "    langs_by_count[lang] += 1\n",
    "\n",
    "from pprint import pprint\n",
    "\n",
    "pprint(langs_by_count)"
   ]
  },
  {
   "cell_type": "code",
   "execution_count": 6,
   "id": "19e2c716",
   "metadata": {},
   "outputs": [],
   "source": [
    "langs_count = list(langs_by_count.items())\n",
    "\n",
    "langs_count.sort(key=lambda t: -t[1])"
   ]
  },
  {
   "cell_type": "code",
   "execution_count": 7,
   "id": "8a36e397",
   "metadata": {},
   "outputs": [
    {
     "name": "stdout",
     "output_type": "stream",
     "text": [
      "1: Python (14)\n",
      "2: SQL (6)\n",
      "3: Ruby (6)\n",
      "4: JavaScript (5)\n",
      "5: Go (4)\n",
      "6: Java (3)\n",
      "7: C (3)\n",
      "8: Perl (3)\n",
      "9: PHP (2)\n",
      "10: Objective-C (2)\n",
      "11: TypeScript (2)\n",
      "12: C# (2)\n",
      "13: Visual Basic (2)\n",
      "14: Assembly (2)\n",
      "15: Scala (2)\n",
      "16: R (2)\n",
      "17: Matlab (2)\n",
      "18: Rust (1)\n",
      "19: Lisp (1)\n",
      "20: Lua (1)\n",
      "21: Haskell (1)\n",
      "22: Clojure (1)\n",
      "23: Fortran (1)\n",
      "24: C++ (1)\n",
      "25: Swift (1)\n",
      "26: Delphi (1)\n",
      "27: Pascal (1)\n"
     ]
    }
   ],
   "source": [
    "for i, (lang, count) in enumerate(langs_count):\n",
    "    print(f\"{i + 1}: {lang} ({count})\")"
   ]
  },
  {
   "cell_type": "code",
   "execution_count": null,
   "id": "743c7eec",
   "metadata": {},
   "outputs": [],
   "source": []
  }
 ],
 "metadata": {
  "jupytext": {
   "cell_metadata_filter": "-all",
   "main_language": "python",
   "notebook_metadata_filter": "-all"
  },
  "kernelspec": {
   "display_name": "Python 3 (ipykernel)",
   "language": "python",
   "name": "python3"
  },
  "language_info": {
   "codemirror_mode": {
    "name": "ipython",
    "version": 3
   },
   "file_extension": ".py",
   "mimetype": "text/x-python",
   "name": "python",
   "nbconvert_exporter": "python",
   "pygments_lexer": "ipython3",
   "version": "3.11.4"
  }
 },
 "nbformat": 4,
 "nbformat_minor": 5
}
