{
 "cells": [
  {
   "cell_type": "markdown",
   "id": "e078a990",
   "metadata": {},
   "source": [
    "# Survey analysis\n",
    "Analyse the results from the [languages survey](https://forms.gle/5b3mZRVcgAsoNG1FA)"
   ]
  },
  {
   "cell_type": "code",
   "execution_count": null,
   "id": "5792707b",
   "metadata": {},
   "outputs": [],
   "source": [
    "all_langs = ['Python', 'Java', 'JavaScript', 'TypeScript', 'PHP', 'SQL', 'C', 'C++', 'C#',\n",
    "             'Ruby', 'R', 'Matlab', 'Go', 'Rust', 'Objective-C', 'Swift', 'Visual Basic',\n",
    "             'Perl', 'Cobol', 'Fortran', 'Lisp', 'Assembly', 'Kotlin', 'Dart', 'Scala',\n",
    "             'Lua', 'Delphi', 'Haskell', 'Julia', 'Clojure', 'Elixir', 'Pascal']"
   ]
  },
  {
   "cell_type": "markdown",
   "id": "307d9910",
   "metadata": {},
   "source": [
    "## Load data"
   ]
  },
  {
   "cell_type": "code",
   "execution_count": null,
   "id": "678479dd",
   "metadata": {},
   "outputs": [],
   "source": [
    "import csv\n",
    "\n",
    "langs_entered = []\n",
    "\n",
    "with open('../data/Survey-2024-Mar.csv') as file:\n",
    "    file.readline()  # Ignore first line (header)\n",
    "    reader = csv.DictReader(file, fieldnames=('timestamp', 'languages', 'years'))  # list of dicts with keys passed into fieldnames\n",
    "    # langs_entered = [lang for line in reader for lang in line['languages'].split(';')]  # flattened list of langs known\n",
    "    entered_langs = [line['languages'].split(';') for line in reader]\n",
    "\n",
    "num_responses = len(entered_langs)\n",
    "print(num_responses)\n",
    "print(entered_langs)"
   ]
  },
  {
   "cell_type": "markdown",
   "id": "1ee0cbbb",
   "metadata": {},
   "source": [
    "## Find number of languages known\n",
    "Print `\"{# known by class} / {# in list} languages known by this class (as %)\"`.\n",
    "\n",
    "E.g. **12/21 languages known by this class (57%)**"
   ]
  },
  {
   "cell_type": "code",
   "execution_count": null,
   "id": "987cda60",
   "metadata": {
    "lines_to_next_cell": 2
   },
   "outputs": [],
   "source": [
    "langs_known = {lang for langs in entered_langs for lang in langs}\n",
    "num_known = len(langs_known)\n",
    "num_langs = len(all_langs)\n",
    "print(f\"{num_known} / {num_langs} languages known by this class ({round(num_known / num_langs * 100)}%)\")"
   ]
  },
  {
   "cell_type": "markdown",
   "id": "39ce9232",
   "metadata": {},
   "source": [
    "## List languages not known by anyone in the class"
   ]
  },
  {
   "cell_type": "code",
   "execution_count": null,
   "id": "58329f87",
   "metadata": {},
   "outputs": [],
   "source": [
    "not_known = set(all_langs) - langs_known\n",
    "for lang in sorted(not_known):\n",
    "    print(lang)"
   ]
  },
  {
   "cell_type": "markdown",
   "id": "3866e571",
   "metadata": {},
   "source": [
    "## Rank languages by most commonly known\n",
    "Print each language as `\"{position}: {language} ({percent_known}%)\"`, in order from most to least known\n",
    "\n",
    "e.g. **1: Python (93%)**"
   ]
  },
  {
   "cell_type": "code",
   "execution_count": null,
   "id": "c6a6ea24",
   "metadata": {},
   "outputs": [],
   "source": [
    "langs_by_count = {lang: 0 for lang in all_langs}\n",
    "\n",
    "for langs in entered_langs:\n",
    "    for lang in langs:\n",
    "        langs_by_count[lang] += 1\n",
    "\n",
    "langs_by_count"
   ]
  },
  {
   "cell_type": "code",
   "execution_count": null,
   "id": "959af012",
   "metadata": {},
   "outputs": [],
   "source": [
    "langs_count_list = list(langs_by_count.items())\n",
    "sorted_langs_count = sorted(langs_count_list, key=lambda l: l[1], reverse=True)\n",
    "for i, (lang, count) in enumerate(sorted_langs_count, start=1):\n",
    "    print(f\"{i}: {lang} ({round(count / num_langs * 100)}%)\")"
   ]
  }
 ],
 "metadata": {
  "jupytext": {
   "cell_metadata_filter": "-all",
   "formats": "auto:light,ipynb",
   "main_language": "python",
   "notebook_metadata_filter": "-all"
  },
  "kernelspec": {
   "display_name": "Python 3 (ipykernel)",
   "language": "python",
   "name": "python3"
  },
  "language_info": {
   "codemirror_mode": {
    "name": "ipython",
    "version": 3
   },
   "file_extension": ".py",
   "mimetype": "text/x-python",
   "name": "python",
   "nbconvert_exporter": "python",
   "pygments_lexer": "ipython3",
   "version": "3.11.4"
  }
 },
 "nbformat": 4,
 "nbformat_minor": 5
}
