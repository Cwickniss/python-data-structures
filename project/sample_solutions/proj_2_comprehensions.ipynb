{
 "cells": [
  {
   "cell_type": "markdown",
   "id": "055c860b",
   "metadata": {},
   "source": [
    "# Survey analysis\n",
    "Analyse the results from the [languages survey](https://forms.gle/5b3mZRVcgAsoNG1FA)"
   ]
  },
  {
   "cell_type": "code",
   "execution_count": 1,
   "id": "9d0908cf",
   "metadata": {},
   "outputs": [],
   "source": [
    "all_langs = ['Python', 'Java', 'JavaScript', 'TypeScript', 'PHP', 'SQL', 'C', 'C++', 'C#',\n",
    "             'Ruby', 'R', 'Matlab', 'Go', 'Rust', 'Objective-C', 'Swift', 'Visual Basic',\n",
    "             'Perl', 'Cobol', 'Fortran', 'Lisp', 'Assembly', 'Kotlin', 'Dart', 'Scala',\n",
    "             'Lua', 'Delphi', 'Haskell', 'Julia', 'Clojure', 'Elixir', 'Pascal']"
   ]
  },
  {
   "cell_type": "markdown",
   "id": "b6e4473c",
   "metadata": {},
   "source": [
    "## Load data"
   ]
  },
  {
   "cell_type": "code",
   "execution_count": 2,
   "id": "7175f462",
   "metadata": {},
   "outputs": [
    {
     "name": "stdout",
     "output_type": "stream",
     "text": [
      "22\n"
     ]
    }
   ],
   "source": [
    "import csv\n",
    "from pprint import pprint\n",
    "\n",
    "with open('../data/Survey-2024-Jul.csv') as file:\n",
    "    file.readline()  # Ignore first line (header)\n",
    "    reader = csv.DictReader(file, fieldnames=('timestamp', 'languages', 'years'))  # list of dicts with keys passed into fieldnames\n",
    "    langs_known = [[lang for lang in response['languages'].split(';')] for response in reader]\n",
    "\n",
    "num_responses = len(langs_known)\n",
    "print(num_responses)"
   ]
  },
  {
   "cell_type": "markdown",
   "id": "58290b58",
   "metadata": {},
   "source": [
    "## Find number of languages known\n",
    "Print `\"{# known by class} / {# in list} languages known by this class (as %)\"`.\n",
    "\n",
    "E.g. **12/21 languages known by this class (57%)**"
   ]
  },
  {
   "cell_type": "code",
   "execution_count": 3,
   "id": "33126e76",
   "metadata": {
    "lines_to_next_cell": 2
   },
   "outputs": [
    {
     "name": "stdout",
     "output_type": "stream",
     "text": [
      "25 / 32 languages known by this class (78%)\n"
     ]
    }
   ],
   "source": [
    "langs_known_set = {lang for langs in langs_known for lang in langs}\n",
    "print(f\"{len(langs_known_set)} / {len(all_langs)} languages known by this class ({round(len(langs_known_set) / len(all_langs) * 100)}%)\")"
   ]
  },
  {
   "cell_type": "markdown",
   "id": "55fc2064",
   "metadata": {},
   "source": [
    "## List languages not known by anyone in the class"
   ]
  },
  {
   "cell_type": "code",
   "execution_count": 4,
   "id": "026956bf",
   "metadata": {},
   "outputs": [
    {
     "name": "stdout",
     "output_type": "stream",
     "text": [
      "{'Delphi', 'Clojure', 'Kotlin', 'Julia', 'Dart', 'Rust', 'Swift'}\n"
     ]
    }
   ],
   "source": [
    "not_known = set(all_langs) - langs_known_set\n",
    "print(not_known)"
   ]
  },
  {
   "cell_type": "markdown",
   "id": "2db4a188",
   "metadata": {},
   "source": [
    "## Rank languages by most commonly known\n",
    "Print each language as `\"{position}: {language} ({percent_known}%)\"`, in order from most to least known\n",
    "\n",
    "e.g. **1: Python (93%)**"
   ]
  },
  {
   "cell_type": "code",
   "execution_count": 5,
   "id": "90695a5c",
   "metadata": {},
   "outputs": [
    {
     "name": "stdout",
     "output_type": "stream",
     "text": [
      "[('Python', 18),\n",
      " ('Java', 10),\n",
      " ('JavaScript', 8),\n",
      " ('TypeScript', 1),\n",
      " ('PHP', 1),\n",
      " ('SQL', 9),\n",
      " ('C', 7),\n",
      " ('C++', 5),\n",
      " ('C#', 2),\n",
      " ('Ruby', 2),\n",
      " ('R', 4),\n",
      " ('Matlab', 3),\n",
      " ('Go', 4),\n",
      " ('Rust', 0),\n",
      " ('Objective-C', 1),\n",
      " ('Swift', 0),\n",
      " ('Visual Basic', 2),\n",
      " ('Perl', 4),\n",
      " ('Cobol', 1),\n",
      " ('Fortran', 3),\n",
      " ('Lisp', 3),\n",
      " ('Assembly', 3),\n",
      " ('Kotlin', 0),\n",
      " ('Dart', 0),\n",
      " ('Scala', 1),\n",
      " ('Lua', 2),\n",
      " ('Delphi', 0),\n",
      " ('Haskell', 1),\n",
      " ('Julia', 0),\n",
      " ('Clojure', 0),\n",
      " ('Elixir', 1),\n",
      " ('Pascal', 2)]\n"
     ]
    }
   ],
   "source": [
    "lang_counts = {lang: 0 for lang in all_langs}\n",
    "\n",
    "for lang in [lang for langs in langs_known for lang in langs]:\n",
    "    lang_counts[lang] += 1\n",
    "\n",
    "lang_counts = {lang: [lang for langs in langs_known for lang in langs].count(lang) for lang in all_langs}\n",
    "\n",
    "lang_counts_list = list(lang_counts.items())\n",
    "pprint(lang_counts_list)"
   ]
  },
  {
   "cell_type": "code",
   "execution_count": 6,
   "id": "25a6fa96",
   "metadata": {},
   "outputs": [
    {
     "name": "stdout",
     "output_type": "stream",
     "text": [
      "[('Python', 18),\n",
      " ('Java', 10),\n",
      " ('SQL', 9),\n",
      " ('JavaScript', 8),\n",
      " ('C', 7),\n",
      " ('C++', 5),\n",
      " ('R', 4),\n",
      " ('Go', 4),\n",
      " ('Perl', 4),\n",
      " ('Matlab', 3),\n",
      " ('Fortran', 3),\n",
      " ('Lisp', 3),\n",
      " ('Assembly', 3),\n",
      " ('C#', 2),\n",
      " ('Ruby', 2),\n",
      " ('Visual Basic', 2),\n",
      " ('Lua', 2),\n",
      " ('Pascal', 2),\n",
      " ('TypeScript', 1),\n",
      " ('PHP', 1),\n",
      " ('Objective-C', 1),\n",
      " ('Cobol', 1),\n",
      " ('Scala', 1),\n",
      " ('Haskell', 1),\n",
      " ('Elixir', 1),\n",
      " ('Rust', 0),\n",
      " ('Swift', 0),\n",
      " ('Kotlin', 0),\n",
      " ('Dart', 0),\n",
      " ('Delphi', 0),\n",
      " ('Julia', 0),\n",
      " ('Clojure', 0)]\n"
     ]
    }
   ],
   "source": [
    "lang_counts_list.sort(key=lambda t: t[1], reverse=True)\n",
    "pprint(lang_counts_list)"
   ]
  },
  {
   "cell_type": "code",
   "execution_count": 7,
   "id": "992a2033",
   "metadata": {},
   "outputs": [
    {
     "name": "stdout",
     "output_type": "stream",
     "text": [
      "1: Python (82%)\n",
      "2: Java (45%)\n",
      "3: SQL (41%)\n",
      "4: JavaScript (36%)\n",
      "5: C (32%)\n",
      "6: C++ (23%)\n",
      "7: R (18%)\n",
      "8: Go (18%)\n",
      "9: Perl (18%)\n",
      "10: Matlab (14%)\n",
      "11: Fortran (14%)\n",
      "12: Lisp (14%)\n",
      "13: Assembly (14%)\n",
      "14: C# (9%)\n",
      "15: Ruby (9%)\n",
      "16: Visual Basic (9%)\n",
      "17: Lua (9%)\n",
      "18: Pascal (9%)\n",
      "19: TypeScript (5%)\n",
      "20: PHP (5%)\n",
      "21: Objective-C (5%)\n",
      "22: Cobol (5%)\n",
      "23: Scala (5%)\n",
      "24: Haskell (5%)\n",
      "25: Elixir (5%)\n",
      "26: Rust (0%)\n",
      "27: Swift (0%)\n",
      "28: Kotlin (0%)\n",
      "29: Dart (0%)\n",
      "30: Delphi (0%)\n",
      "31: Julia (0%)\n",
      "32: Clojure (0%)\n"
     ]
    }
   ],
   "source": [
    "for pos, (lang, count) in enumerate(lang_counts_list, start=1):\n",
    "    print(f\"{pos}: {lang} ({round(count / num_responses * 100)}%)\")"
   ]
  }
 ],
 "metadata": {
  "jupytext": {
   "cell_metadata_filter": "-all",
   "formats": "auto:light,ipynb",
   "main_language": "python",
   "notebook_metadata_filter": "-all"
  },
  "kernelspec": {
   "display_name": "Python 3 (ipykernel)",
   "language": "python",
   "name": "python3"
  },
  "language_info": {
   "codemirror_mode": {
    "name": "ipython",
    "version": 3
   },
   "file_extension": ".py",
   "mimetype": "text/x-python",
   "name": "python",
   "nbconvert_exporter": "python",
   "pygments_lexer": "ipython3",
   "version": "3.11.4"
  }
 },
 "nbformat": 4,
 "nbformat_minor": 5
}
