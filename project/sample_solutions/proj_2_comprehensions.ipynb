{
 "cells": [
  {
   "cell_type": "markdown",
   "id": "1e6d0bf8",
   "metadata": {},
   "source": [
    "# Survey analysis\n",
    "Analyse the results from the [languages survey](https://forms.gle/5b3mZRVcgAsoNG1FA)"
   ]
  },
  {
   "cell_type": "code",
   "execution_count": 1,
   "id": "ac095602",
   "metadata": {},
   "outputs": [],
   "source": [
    "all_langs = ['Python', 'Java', 'JavaScript', 'TypeScript', 'PHP', 'SQL', 'C', 'C++', 'C#',\n",
    "             'Ruby', 'R', 'Matlab', 'Go', 'Rust', 'Objective-C', 'Swift', 'Visual Basic',\n",
    "             'Perl', 'Cobol', 'Fortran', 'Lisp', 'Assembly', 'Kotlin', 'Dart', 'Scala',\n",
    "             'Lua', 'Delphi', 'Haskell', 'Julia', 'Clojure', 'Elixir', 'Pascal']"
   ]
  },
  {
   "cell_type": "markdown",
   "id": "979ef485",
   "metadata": {},
   "source": [
    "## Load data"
   ]
  },
  {
   "cell_type": "code",
   "execution_count": 2,
   "id": "7c920bca",
   "metadata": {},
   "outputs": [
    {
     "name": "stdout",
     "output_type": "stream",
     "text": [
      "72\n",
      "['Python', 'Java', 'JavaScript', 'PHP', 'SQL', 'C', 'Ruby', 'Go', 'Objective-C', 'Perl', 'Python', 'JavaScript', 'SQL', 'Python', 'SQL', 'C', 'Python', 'Java', 'JavaScript', 'TypeScript', 'SQL', 'C#', 'Ruby', 'Go', 'Rust', 'Visual Basic', 'Perl', 'Lisp', 'Assembly', 'Scala', 'Lua', 'Haskell', 'Clojure', 'Python', 'Ruby', 'Go', 'Python', 'Fortran', 'Python', 'Ruby', 'Go', 'Python', 'Python', 'JavaScript', 'SQL', 'Ruby', 'Python', 'Python', 'Java', 'JavaScript', 'TypeScript', 'PHP', 'SQL', 'C', 'C++', 'C#', 'R', 'Matlab', 'Objective-C', 'Swift', 'Visual Basic', 'Perl', 'Assembly', 'Scala', 'Delphi', 'Pascal', 'Python', 'Python', 'R', 'Matlab', 'Python', 'Ruby']\n"
     ]
    }
   ],
   "source": [
    "import csv\n",
    "\n",
    "with open('../data/Programming language - responses.csv') as file:\n",
    "    file.readline()\n",
    "    reader = csv.DictReader(file, fieldnames=['timestamp', 'languages', 'years'])\n",
    "    results = [lang for line in reader for lang in line['languages'].split(\", \")]\n",
    "\n",
    "print(len(results))\n",
    "print(results)"
   ]
  },
  {
   "cell_type": "markdown",
   "id": "85a386ef",
   "metadata": {},
   "source": [
    "## Find number of languages known\n",
    "Print `\"{# known by class} / {# in list} languages known by this class (as %)\"`.\n",
    "\n",
    "E.g. **12/21 languages known by this class (57%)**"
   ]
  },
  {
   "cell_type": "code",
   "execution_count": 3,
   "id": "52e17f5d",
   "metadata": {},
   "outputs": [
    {
     "name": "stdout",
     "output_type": "stream",
     "text": [
      "27 / 32 languages known by this class (84%)\n"
     ]
    }
   ],
   "source": [
    "unique_langs = set(results)\n",
    "num_known = len(unique_langs)\n",
    "num_all = len(all_langs)\n",
    "print(f\"{num_known} / {num_all} languages known by this class ({round(num_known / num_all * 100)}%)\")"
   ]
  },
  {
   "cell_type": "markdown",
   "id": "d900b0cf",
   "metadata": {},
   "source": [
    "## List languages not known by anyone in the class"
   ]
  },
  {
   "cell_type": "code",
   "execution_count": 4,
   "id": "8fb326b1",
   "metadata": {},
   "outputs": [
    {
     "name": "stdout",
     "output_type": "stream",
     "text": [
      "{'Julia', 'Cobol', 'Dart', 'Elixir', 'Kotlin'}\n"
     ]
    }
   ],
   "source": [
    "not_known = set(all_langs) - unique_langs\n",
    "print(not_known)"
   ]
  },
  {
   "cell_type": "markdown",
   "id": "1cb9d0a5",
   "metadata": {},
   "source": [
    "## Rank languages by most commonly known\n",
    "Print each language as `\"{position}: {language} ({percent_known}%)\"`, in order from most to least known\n",
    "\n",
    "e.g. **1: Python (93%)**"
   ]
  },
  {
   "cell_type": "code",
   "execution_count": 5,
   "id": "f0ad7b08",
   "metadata": {},
   "outputs": [
    {
     "name": "stdout",
     "output_type": "stream",
     "text": [
      "{'Assembly': 2,\n",
      " 'C': 3,\n",
      " 'C#': 2,\n",
      " 'C++': 1,\n",
      " 'Clojure': 1,\n",
      " 'Cobol': 0,\n",
      " 'Dart': 0,\n",
      " 'Delphi': 1,\n",
      " 'Elixir': 0,\n",
      " 'Fortran': 1,\n",
      " 'Go': 4,\n",
      " 'Haskell': 1,\n",
      " 'Java': 3,\n",
      " 'JavaScript': 5,\n",
      " 'Julia': 0,\n",
      " 'Kotlin': 0,\n",
      " 'Lisp': 1,\n",
      " 'Lua': 1,\n",
      " 'Matlab': 2,\n",
      " 'Objective-C': 2,\n",
      " 'PHP': 2,\n",
      " 'Pascal': 1,\n",
      " 'Perl': 3,\n",
      " 'Python': 14,\n",
      " 'R': 2,\n",
      " 'Ruby': 6,\n",
      " 'Rust': 1,\n",
      " 'SQL': 6,\n",
      " 'Scala': 2,\n",
      " 'Swift': 1,\n",
      " 'TypeScript': 2,\n",
      " 'Visual Basic': 2}\n"
     ]
    }
   ],
   "source": [
    "langs_by_count = {lang: results.count(lang) for lang in all_langs}\n",
    "\n",
    "from pprint import pprint\n",
    "\n",
    "pprint(langs_by_count)"
   ]
  },
  {
   "cell_type": "code",
   "execution_count": 6,
   "id": "bf11baeb",
   "metadata": {},
   "outputs": [],
   "source": [
    "langs_count = list(langs_by_count.items())\n",
    "\n",
    "langs_count.sort(key=lambda t: -t[1])"
   ]
  },
  {
   "cell_type": "code",
   "execution_count": 7,
   "id": "6700fed0",
   "metadata": {},
   "outputs": [
    {
     "name": "stdout",
     "output_type": "stream",
     "text": [
      "1: Python (14)\n",
      "2: SQL (6)\n",
      "3: Ruby (6)\n",
      "4: JavaScript (5)\n",
      "5: Go (4)\n",
      "6: Java (3)\n",
      "7: C (3)\n",
      "8: Perl (3)\n",
      "9: TypeScript (2)\n",
      "10: PHP (2)\n",
      "11: C# (2)\n",
      "12: R (2)\n",
      "13: Matlab (2)\n",
      "14: Objective-C (2)\n",
      "15: Visual Basic (2)\n",
      "16: Assembly (2)\n",
      "17: Scala (2)\n",
      "18: C++ (1)\n",
      "19: Rust (1)\n",
      "20: Swift (1)\n",
      "21: Fortran (1)\n",
      "22: Lisp (1)\n",
      "23: Lua (1)\n",
      "24: Delphi (1)\n",
      "25: Haskell (1)\n",
      "26: Clojure (1)\n",
      "27: Pascal (1)\n",
      "28: Cobol (0)\n",
      "29: Kotlin (0)\n",
      "30: Dart (0)\n",
      "31: Julia (0)\n",
      "32: Elixir (0)\n"
     ]
    }
   ],
   "source": [
    "for i, (lang, count) in enumerate(langs_count):\n",
    "    print(f\"{i + 1}: {lang} ({count})\")"
   ]
  }
 ],
 "metadata": {
  "jupytext": {
   "cell_metadata_filter": "-all",
   "main_language": "python",
   "notebook_metadata_filter": "-all"
  },
  "kernelspec": {
   "display_name": "Python 3 (ipykernel)",
   "language": "python",
   "name": "python3"
  },
  "language_info": {
   "codemirror_mode": {
    "name": "ipython",
    "version": 3
   },
   "file_extension": ".py",
   "mimetype": "text/x-python",
   "name": "python",
   "nbconvert_exporter": "python",
   "pygments_lexer": "ipython3",
   "version": "3.11.4"
  }
 },
 "nbformat": 4,
 "nbformat_minor": 5
}
