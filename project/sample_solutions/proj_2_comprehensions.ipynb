{
 "cells": [
  {
   "cell_type": "markdown",
   "id": "8fa7c49e",
   "metadata": {},
   "source": [
    "# Survey analysis\n",
    "Analyse the results from the [languages survey](https://forms.gle/5b3mZRVcgAsoNG1FA)"
   ]
  },
  {
   "cell_type": "code",
   "execution_count": null,
   "id": "451ebe36",
   "metadata": {},
   "outputs": [],
   "source": [
    "all_langs = ['Python', 'Java', 'JavaScript', 'TypeScript', 'PHP', 'SQL', 'C', 'C++', 'C#',\n",
    "             'Ruby', 'R', 'Matlab', 'Go', 'Rust', 'Objective-C', 'Swift', 'Visual Basic',\n",
    "             'Perl', 'Cobol', 'Fortran', 'Lisp', 'Assembly', 'Kotlin', 'Dart', 'Scala',\n",
    "             'Lua', 'Delphi', 'Haskell', 'Julia', 'Clojure', 'Elixir', 'Pascal']"
   ]
  },
  {
   "cell_type": "markdown",
   "id": "5fc87dbc",
   "metadata": {},
   "source": [
    "## Load data"
   ]
  },
  {
   "cell_type": "code",
   "execution_count": null,
   "id": "bb8bc1db",
   "metadata": {},
   "outputs": [],
   "source": [
    "import csv\n",
    "from pprint import pprint\n",
    "\n",
    "with open('../data/Programming language survey.csv') as file:\n",
    "    file.readline()\n",
    "    reader = csv.DictReader(file, fieldnames=('timestamp', 'languages', 'other_langs', 'age'))\n",
    "    langs_by_entry = [line['languages'].split(';') for line in reader]\n",
    "\n",
    "pprint(langs_by_entry)"
   ]
  },
  {
   "cell_type": "markdown",
   "id": "953f42e3",
   "metadata": {},
   "source": [
    "## Find number of languages known\n",
    "Print `\"{# known by class} / {# in list} languages known by this class (as %)\"`.\n",
    "\n",
    "E.g. **12/21 languages known by this class (57%)**"
   ]
  },
  {
   "cell_type": "code",
   "execution_count": null,
   "id": "741f3fe3",
   "metadata": {},
   "outputs": [],
   "source": [
    "langs_set = {lang for langs in langs_by_entry for lang in langs}\n",
    "\n",
    "num_known = len(langs_set)\n",
    "num_all = len(all_langs)\n",
    "percent = round(num_known / num_all * 100)\n",
    "\n",
    "print(f\"{num_known} / {num_all} languages known by this class ({percent}%)\")"
   ]
  },
  {
   "cell_type": "markdown",
   "id": "c75e146f",
   "metadata": {},
   "source": [
    "## List languages not known by anyone in the class"
   ]
  },
  {
   "cell_type": "code",
   "execution_count": null,
   "id": "eeb6df19",
   "metadata": {},
   "outputs": [],
   "source": [
    "not_known = set(all_langs) - langs_set\n",
    "print(not_known)"
   ]
  },
  {
   "cell_type": "markdown",
   "id": "5f9ec725",
   "metadata": {},
   "source": [
    "## Rank languages by most commonly known\n",
    "Print each language as `\"{position}: {language} ({count})\"`, in order from most to least known\n",
    "\n",
    "e.g. **1: Python (30)**"
   ]
  },
  {
   "cell_type": "code",
   "execution_count": null,
   "id": "5bee3d56",
   "metadata": {},
   "outputs": [],
   "source": [
    "langs_list = [lang for langs in langs_by_entry for lang in langs]\n",
    "langs_count = {lang: langs_list.count(lang) for lang in langs_set}\n",
    "\n",
    "print(langs_count)"
   ]
  },
  {
   "cell_type": "code",
   "execution_count": null,
   "id": "b2e6a421",
   "metadata": {},
   "outputs": [],
   "source": [
    "def sort_func(x):\n",
    "    return -x[1]\n",
    "\n",
    "\n",
    "langs_count_list = list(langs_count.items())\n",
    "langs_count_list.sort(key=lambda x: -x[1])\n",
    "langs_count_list"
   ]
  },
  {
   "cell_type": "code",
   "execution_count": null,
   "id": "25e6f914",
   "metadata": {
    "lines_to_next_cell": 0
   },
   "outputs": [],
   "source": [
    "num_people = len(langs_by_entry)\n",
    "\n",
    "for i, (name, count) in enumerate(langs_count_list, start=1):\n",
    "    print(f\"{i}: {name} ({round(count / num_people * 100)}%)\")"
   ]
  },
  {
   "cell_type": "code",
   "execution_count": null,
   "id": "5d275a9d",
   "metadata": {
    "lines_to_next_cell": 2
   },
   "outputs": [],
   "source": []
  }
 ],
 "metadata": {
  "jupytext": {
   "cell_metadata_filter": "-all",
   "formats": "auto:light,ipynb",
   "main_language": "python",
   "notebook_metadata_filter": "-all"
  },
  "kernelspec": {
   "display_name": "Python 3 (ipykernel)",
   "language": "python",
   "name": "python3"
  },
  "language_info": {
   "codemirror_mode": {
    "name": "ipython",
    "version": 3
   },
   "file_extension": ".py",
   "mimetype": "text/x-python",
   "name": "python",
   "nbconvert_exporter": "python",
   "pygments_lexer": "ipython3",
   "version": "3.9.2"
  }
 },
 "nbformat": 4,
 "nbformat_minor": 5
}
