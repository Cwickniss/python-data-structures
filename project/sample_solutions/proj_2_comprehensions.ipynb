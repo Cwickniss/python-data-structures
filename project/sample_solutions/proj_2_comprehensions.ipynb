{
 "cells": [
  {
   "cell_type": "code",
   "execution_count": 1,
   "id": "2d7320d6",
   "metadata": {},
   "outputs": [],
   "source": [
    "all_langs = ['Python', 'Java', 'JavaScript', 'TypeScript', 'PHP', 'C', 'C++', 'C#',\n",
    "             'Ruby', 'R', 'Matlab', 'Go', 'Rust', 'Objective-C', 'Swift',\n",
    "             'Visual Basic', 'Perl', 'Cobol', 'Fortran', 'Lisp', 'Assembly']"
   ]
  },
  {
   "cell_type": "markdown",
   "id": "12d73e65",
   "metadata": {},
   "source": [
    "# Load data"
   ]
  },
  {
   "cell_type": "code",
   "execution_count": 2,
   "id": "469185aa",
   "metadata": {},
   "outputs": [
    {
     "name": "stdout",
     "output_type": "stream",
     "text": [
      "[['Python', 'Java', 'C', 'C++', 'R', 'Matlab', 'Rust', 'Fortran', 'Assembly'],\n",
      " ['Python', 'Java', 'PHP', 'Visual Basic'],\n",
      " ['Python',\n",
      "  'Java',\n",
      "  'JavaScript',\n",
      "  'C',\n",
      "  'C++',\n",
      "  'Ruby',\n",
      "  'R',\n",
      "  'Objective-C',\n",
      "  'Assembly']]\n"
     ]
    }
   ],
   "source": [
    "import csv\n",
    "from pprint import pprint\n",
    "\n",
    "\n",
    "with open('../data/Programming language survey.csv', 'r') as file:\n",
    "    file.readline()\n",
    "    reader = csv.DictReader(file, fieldnames=('timestamp', 'languages', 'other_langs', 'age'))\n",
    "    langs_by_entry = [line['languages'].split(';') for line in reader]\n",
    "    \n",
    "pprint(langs_by_entry)"
   ]
  },
  {
   "cell_type": "markdown",
   "id": "4047a1d7",
   "metadata": {},
   "source": [
    "## Find number of languages known\n",
    "Print `\"{# known by class} / {# in list} languages known by this class (as %)\"`.\n",
    "\n",
    "E.g. **12/21 languages known by this class (57%)**"
   ]
  },
  {
   "cell_type": "code",
   "execution_count": 3,
   "id": "350cded2",
   "metadata": {},
   "outputs": [
    {
     "name": "stdout",
     "output_type": "stream",
     "text": [
      "14/21 languages known by this class (67%)\n"
     ]
    }
   ],
   "source": [
    "known_langs = {lang for langs in langs_by_entry for lang in langs}\n",
    "\n",
    "percent = round(len(known_langs)/len(all_langs) * 100)\n",
    "print(f\"{len(known_langs)}/{len(all_langs)} languages known by this class ({percent}%)\")"
   ]
  },
  {
   "cell_type": "markdown",
   "id": "a2d3f2b9",
   "metadata": {},
   "source": [
    "## List languages known and not known"
   ]
  },
  {
   "cell_type": "code",
   "execution_count": 4,
   "id": "1c58d6fc",
   "metadata": {},
   "outputs": [
    {
     "name": "stdout",
     "output_type": "stream",
     "text": [
      "Not known:\n",
      "{'Go', 'Swift', 'Perl', 'Cobol', 'Lisp', 'C#', 'TypeScript'}\n"
     ]
    }
   ],
   "source": [
    "print('Not known:')\n",
    "print(set(all_langs) - known_langs)"
   ]
  },
  {
   "cell_type": "markdown",
   "id": "12d605b8",
   "metadata": {},
   "source": [
    "# Rank languages by most commonly known\n",
    "Print each language as `\"{position}: {language} ({count})\"`, in order from most to least known\n",
    "\n",
    "e.g. **1: Python (30)**"
   ]
  },
  {
   "cell_type": "code",
   "execution_count": 5,
   "id": "e3430abc",
   "metadata": {},
   "outputs": [
    {
     "data": {
      "text/plain": [
       "{'Rust': 1,\n",
       " 'JavaScript': 1,\n",
       " 'PHP': 1,\n",
       " 'Fortran': 1,\n",
       " 'Assembly': 2,\n",
       " 'C++': 2,\n",
       " 'Visual Basic': 1,\n",
       " 'Java': 3,\n",
       " 'Objective-C': 1,\n",
       " 'Matlab': 1,\n",
       " 'Ruby': 1,\n",
       " 'Python': 3,\n",
       " 'R': 2,\n",
       " 'C': 2}"
      ]
     },
     "execution_count": 5,
     "metadata": {},
     "output_type": "execute_result"
    }
   ],
   "source": [
    "rank_langs = {lang: 0 for lang in known_langs}\n",
    "\n",
    "for langs in langs_by_entry:\n",
    "    for lang in langs:\n",
    "        rank_langs[lang] += 1\n",
    "\n",
    "rank_langs"
   ]
  },
  {
   "cell_type": "code",
   "execution_count": 6,
   "id": "d9a80615",
   "metadata": {},
   "outputs": [
    {
     "data": {
      "text/plain": [
       "[('Java', 3),\n",
       " ('Python', 3),\n",
       " ('Assembly', 2),\n",
       " ('C++', 2),\n",
       " ('R', 2),\n",
       " ('C', 2),\n",
       " ('Rust', 1),\n",
       " ('JavaScript', 1),\n",
       " ('PHP', 1),\n",
       " ('Fortran', 1),\n",
       " ('Visual Basic', 1),\n",
       " ('Objective-C', 1),\n",
       " ('Matlab', 1),\n",
       " ('Ruby', 1)]"
      ]
     },
     "execution_count": 6,
     "metadata": {},
     "output_type": "execute_result"
    }
   ],
   "source": [
    "sorted_langs = sorted(list(rank_langs.items()), key=lambda tup: -tup[1])\n",
    "sorted_langs"
   ]
  },
  {
   "cell_type": "code",
   "execution_count": 7,
   "id": "f298bc28",
   "metadata": {},
   "outputs": [
    {
     "name": "stdout",
     "output_type": "stream",
     "text": [
      "1: Java (3)\n",
      "2: Python (3)\n",
      "3: Assembly (2)\n",
      "4: C++ (2)\n",
      "5: R (2)\n",
      "6: C (2)\n",
      "7: Rust (1)\n",
      "8: JavaScript (1)\n",
      "9: PHP (1)\n",
      "10: Fortran (1)\n",
      "11: Visual Basic (1)\n",
      "12: Objective-C (1)\n",
      "13: Matlab (1)\n",
      "14: Ruby (1)\n"
     ]
    }
   ],
   "source": [
    "for i, (lang, count) in enumerate(sorted_langs, start=1):\n",
    "    print(f\"{i}: {lang} ({count})\")"
   ]
  },
  {
   "cell_type": "code",
   "execution_count": null,
   "id": "afab6603",
   "metadata": {},
   "outputs": [],
   "source": []
  }
 ],
 "metadata": {
  "jupytext": {
   "cell_metadata_filter": "-all",
   "formats": "auto:light,ipynb",
   "main_language": "python",
   "notebook_metadata_filter": "-all"
  },
  "kernelspec": {
   "display_name": "Python 3 (ipykernel)",
   "language": "python",
   "name": "python3"
  },
  "language_info": {
   "codemirror_mode": {
    "name": "ipython",
    "version": 3
   },
   "file_extension": ".py",
   "mimetype": "text/x-python",
   "name": "python",
   "nbconvert_exporter": "python",
   "pygments_lexer": "ipython3",
   "version": "3.9.2"
  }
 },
 "nbformat": 4,
 "nbformat_minor": 5
}
