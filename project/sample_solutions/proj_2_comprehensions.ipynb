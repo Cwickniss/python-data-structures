{
 "cells": [
  {
   "cell_type": "markdown",
   "id": "1e6d0bf8",
   "metadata": {},
   "source": [
    "# Survey analysis\n",
    "Analyse the results from the [languages survey](https://forms.gle/5b3mZRVcgAsoNG1FA)"
   ]
  },
  {
   "cell_type": "code",
   "execution_count": 1,
   "id": "ac095602",
   "metadata": {},
   "outputs": [],
   "source": [
    "all_langs = ['Python', 'Java', 'JavaScript', 'TypeScript', 'PHP', 'SQL', 'C', 'C++', 'C#',\n",
    "             'Ruby', 'R', 'Matlab', 'Go', 'Rust', 'Objective-C', 'Swift', 'Visual Basic',\n",
    "             'Perl', 'Cobol', 'Fortran', 'Lisp', 'Assembly', 'Kotlin', 'Dart', 'Scala',\n",
    "             'Lua', 'Delphi', 'Haskell', 'Julia', 'Clojure', 'Elixir', 'Pascal']"
   ]
  },
  {
   "cell_type": "markdown",
   "id": "979ef485",
   "metadata": {},
   "source": [
    "## Load data"
   ]
  },
  {
   "cell_type": "code",
   "execution_count": 2,
   "id": "7c920bca",
   "metadata": {},
   "outputs": [
    {
     "name": "stdout",
     "output_type": "stream",
     "text": [
      "48\n"
     ]
    }
   ],
   "source": [
    "import csv\n",
    "\n",
    "with open('../data/Survey-2023:11:02.csv') as file:\n",
    "    file.readline()\n",
    "    reader = csv.DictReader(file, fieldnames=(\"timestamp\", \"languages\", \"years\"))\n",
    "    responses = [response['languages'].split(';') for response in reader]\n",
    "    num_responses = len(responses)\n",
    "    langs_known = [lang for langs in responses for lang in langs]\n",
    "\n",
    "print(num_responses)"
   ]
  },
  {
   "cell_type": "markdown",
   "id": "85a386ef",
   "metadata": {},
   "source": [
    "## Find number of languages known\n",
    "Print `\"{# known by class} / {# in list} languages known by this class (as %)\"`.\n",
    "\n",
    "E.g. **12/21 languages known by this class (57%)**"
   ]
  },
  {
   "cell_type": "code",
   "execution_count": 3,
   "id": "52e17f5d",
   "metadata": {},
   "outputs": [
    {
     "name": "stdout",
     "output_type": "stream",
     "text": [
      "{'Clojure', 'R', 'Haskell', 'Go', 'Swift', 'Lua', 'Python', 'Ruby', 'PHP', 'Perl', 'SQL', 'Objective-C', 'C++', 'TypeScript', 'JavaScript', 'C#', 'Lisp', 'Rust', 'Matlab', 'C', 'Pascal', 'Scala', 'Visual Basic', 'Assembly', 'Kotlin', 'Fortran', 'Delphi', 'Java'}\n"
     ]
    }
   ],
   "source": [
    "langs_known_set = set(langs_known)\n",
    "print(langs_known_set)"
   ]
  },
  {
   "cell_type": "code",
   "execution_count": 4,
   "id": "500e529f",
   "metadata": {},
   "outputs": [
    {
     "name": "stdout",
     "output_type": "stream",
     "text": [
      "28 / 32 languages known by this class (88%)\n"
     ]
    }
   ],
   "source": [
    "print(f\"{len(langs_known_set)} / {len(all_langs)} languages known by this class ({round(len(langs_known_set) / len(all_langs) * 100)}%)\")"
   ]
  },
  {
   "cell_type": "markdown",
   "id": "d900b0cf",
   "metadata": {},
   "source": [
    "## List languages not known by anyone in the class"
   ]
  },
  {
   "cell_type": "code",
   "execution_count": 5,
   "id": "8fb326b1",
   "metadata": {},
   "outputs": [
    {
     "name": "stdout",
     "output_type": "stream",
     "text": [
      "['Cobol', 'Dart', 'Elixir', 'Julia']\n"
     ]
    }
   ],
   "source": [
    "not_known = set(all_langs) - langs_known_set\n",
    "not_known_list = list(not_known)\n",
    "not_known_list.sort()\n",
    "print(not_known_list)"
   ]
  },
  {
   "cell_type": "markdown",
   "id": "1cb9d0a5",
   "metadata": {},
   "source": [
    "## Rank languages by most commonly known\n",
    "Print each language as `\"{position}: {language} ({percent_known}%)\"`, in order from most to least known\n",
    "\n",
    "e.g. **1: Python (93%)**"
   ]
  },
  {
   "cell_type": "code",
   "execution_count": 6,
   "id": "f0ad7b08",
   "metadata": {},
   "outputs": [
    {
     "name": "stdout",
     "output_type": "stream",
     "text": [
      "{'Python': 41, 'Java': 15, 'JavaScript': 15, 'TypeScript': 3, 'PHP': 7, 'SQL': 19, 'C': 21, 'C++': 15, 'C#': 5, 'Ruby': 7, 'R': 4, 'Matlab': 8, 'Go': 5, 'Rust': 1, 'Objective-C': 3, 'Swift': 1, 'Visual Basic': 3, 'Perl': 16, 'Cobol': 0, 'Fortran': 1, 'Lisp': 4, 'Assembly': 9, 'Kotlin': 1, 'Dart': 0, 'Scala': 4, 'Lua': 2, 'Delphi': 4, 'Haskell': 3, 'Julia': 0, 'Clojure': 1, 'Elixir': 0, 'Pascal': 10}\n"
     ]
    }
   ],
   "source": [
    "langs_count = {lang: langs_known.count(lang) for lang in all_langs}\n",
    "print(langs_count)"
   ]
  },
  {
   "cell_type": "code",
   "execution_count": 7,
   "id": "bf11baeb",
   "metadata": {},
   "outputs": [],
   "source": [
    "lang_count_list = list(langs_count.items())"
   ]
  },
  {
   "cell_type": "code",
   "execution_count": 8,
   "id": "6700fed0",
   "metadata": {},
   "outputs": [],
   "source": [
    "lang_count_list.sort(key=lambda x: -x[1])"
   ]
  },
  {
   "cell_type": "code",
   "execution_count": 9,
   "id": "26273a1f",
   "metadata": {},
   "outputs": [
    {
     "name": "stdout",
     "output_type": "stream",
     "text": [
      "1: Python (85%)\n",
      "2: C (44%)\n",
      "3: SQL (40%)\n",
      "4: Perl (33%)\n",
      "5: Java (31%)\n",
      "6: JavaScript (31%)\n",
      "7: C++ (31%)\n",
      "8: Pascal (21%)\n",
      "9: Assembly (19%)\n",
      "10: Matlab (17%)\n",
      "11: PHP (15%)\n",
      "12: Ruby (15%)\n",
      "13: C# (10%)\n",
      "14: Go (10%)\n",
      "15: R (8%)\n",
      "16: Lisp (8%)\n",
      "17: Scala (8%)\n",
      "18: Delphi (8%)\n",
      "19: TypeScript (6%)\n",
      "20: Objective-C (6%)\n",
      "21: Visual Basic (6%)\n",
      "22: Haskell (6%)\n",
      "23: Lua (4%)\n",
      "24: Rust (2%)\n",
      "25: Swift (2%)\n",
      "26: Fortran (2%)\n",
      "27: Kotlin (2%)\n",
      "28: Clojure (2%)\n",
      "29: Cobol (0%)\n",
      "30: Dart (0%)\n",
      "31: Julia (0%)\n",
      "32: Elixir (0%)\n"
     ]
    }
   ],
   "source": [
    "for pos, (lang, count) in enumerate(lang_count_list, start=1):\n",
    "    percent_known = round(count / num_responses * 100)\n",
    "    print(f\"{pos}: {lang} ({percent_known}%)\")"
   ]
  },
  {
   "cell_type": "code",
   "execution_count": null,
   "id": "8fc8c69f",
   "metadata": {},
   "outputs": [],
   "source": []
  }
 ],
 "metadata": {
  "jupytext": {
   "cell_metadata_filter": "-all",
   "main_language": "python",
   "notebook_metadata_filter": "-all"
  },
  "kernelspec": {
   "display_name": "Python 3 (ipykernel)",
   "language": "python",
   "name": "python3"
  },
  "language_info": {
   "codemirror_mode": {
    "name": "ipython",
    "version": 3
   },
   "file_extension": ".py",
   "mimetype": "text/x-python",
   "name": "python",
   "nbconvert_exporter": "python",
   "pygments_lexer": "ipython3",
   "version": "3.11.4"
  }
 },
 "nbformat": 4,
 "nbformat_minor": 5
}
