{
 "cells": [
  {
   "cell_type": "markdown",
   "id": "68b36a08",
   "metadata": {},
   "source": [
    "# Survey analysis\n",
    "Analyse the results from the [languages survey](https://forms.gle/5b3mZRVcgAsoNG1FA)"
   ]
  },
  {
   "cell_type": "code",
   "execution_count": 1,
   "id": "8c1b4c29",
   "metadata": {},
   "outputs": [],
   "source": [
    "all_langs = ['Python', 'Java', 'JavaScript', 'TypeScript', 'PHP', 'SQL', 'C', 'C++', 'C#',\n",
    "             'Ruby', 'R', 'Matlab', 'Go', 'Rust', 'Objective-C', 'Swift', 'Visual Basic',\n",
    "             'Perl', 'Cobol', 'Fortran', 'Lisp', 'Assembly', 'Kotlin', 'Dart', 'Scala',\n",
    "             'Lua', 'Delphi', 'Haskell', 'Julia', 'Clojure', 'Elixir', 'Pascal']"
   ]
  },
  {
   "cell_type": "markdown",
   "id": "4b100a50",
   "metadata": {},
   "source": [
    "## Load data"
   ]
  },
  {
   "cell_type": "code",
   "execution_count": 5,
   "id": "37674a48",
   "metadata": {},
   "outputs": [
    {
     "name": "stdout",
     "output_type": "stream",
     "text": [
      "{'timestamp': '2024/02/29 8:17:01 pm GMT-7', 'languages': 'Python;C', 'years': '5 - 10'}\n",
      "{'timestamp': '2024/03/25 7:35:39 pm GMT-6', 'languages': 'Python;JavaScript;C;Perl', 'years': '15 - 20'}\n",
      "{'timestamp': '2024/03/25 8:23:58 pm GMT-6', 'languages': 'Python', 'years': '< 1'}\n",
      "{'timestamp': '2024/03/26 3:13:46 am GMT-6', 'languages': 'Python;SQL', 'years': '1 - 5'}\n",
      "{'timestamp': '2024/03/26 7:40:45 am GMT-6', 'languages': 'Python;Java;JavaScript;SQL;C;C++;Perl;Kotlin;Pascal', 'years': '> 20'}\n",
      "{'timestamp': '2024/03/26 8:37:35 am GMT-6', 'languages': 'Python;C', 'years': '< 1'}\n",
      "{'timestamp': '2024/03/26 9:27:38 am GMT-6', 'languages': 'C++', 'years': '10 - 15'}\n",
      "{'timestamp': '2024/03/26 10:03:59 am GMT-6', 'languages': 'Python;PHP;SQL;Visual Basic', 'years': '1 - 5'}\n",
      "{'timestamp': '2024/03/26 10:04:01 am GMT-6', 'languages': 'Python;JavaScript;SQL;R', 'years': '1 - 5'}\n",
      "{'timestamp': '2024/03/26 10:04:02 am GMT-6', 'languages': 'Python;Java;JavaScript;TypeScript;SQL;C;R;Perl;Lisp;Haskell', 'years': '> 20'}\n",
      "{'timestamp': '2024/03/26 10:04:10 am GMT-6', 'languages': 'Java;SQL;C;C#;Assembly', 'years': '> 20'}\n",
      "{'timestamp': '2024/03/26 10:04:23 am GMT-6', 'languages': 'Python;SQL', 'years': '1 - 5'}\n",
      "{'timestamp': '2024/03/26 10:04:32 am GMT-6', 'languages': 'Python;SQL;C;C++;Perl', 'years': '5 - 10'}\n",
      "{'timestamp': '2024/03/26 10:04:37 am GMT-6', 'languages': 'Python;SQL;C;C++;C#;Visual Basic;Pascal', 'years': '> 20'}\n",
      "{'timestamp': '2024/03/26 10:04:37 am GMT-6', 'languages': 'Java', 'years': '1 - 5'}\n",
      "{'timestamp': '2024/03/26 10:04:38 am GMT-6', 'languages': 'Python;Java;JavaScript;SQL;C', 'years': '15 - 20'}\n",
      "{'timestamp': '2024/03/26 10:04:48 am GMT-6', 'languages': 'Python;JavaScript;SQL', 'years': '1 - 5'}\n",
      "{'timestamp': '2024/03/26 10:04:52 am GMT-6', 'languages': 'C;C++', 'years': '> 20'}\n",
      "{'timestamp': '2024/03/26 10:04:55 am GMT-6', 'languages': 'Java;SQL', 'years': '> 20'}\n",
      "{'timestamp': '2024/03/26 10:05:05 am GMT-6', 'languages': 'Java;Kotlin', 'years': '10 - 15'}\n",
      "{'timestamp': '2024/03/26 10:05:26 am GMT-6', 'languages': 'Python;SQL;C++;Perl;Cobol;Pascal', 'years': '> 20'}\n",
      "{'timestamp': '2024/03/26 10:05:32 am GMT-6', 'languages': 'Python;SQL;C;C++;C#;Matlab;Pascal', 'years': '15 - 20'}\n",
      "{'timestamp': '2024/03/26 10:05:48 am GMT-6', 'languages': 'Python;SQL;Visual Basic', 'years': '> 20'}\n",
      "{'timestamp': '2024/03/26 10:11:25 am GMT-6', 'languages': 'Python;C;C++;C#;Matlab;Perl', 'years': '5 - 10'}\n",
      "{'timestamp': '2024/03/26 10:32:14 am GMT-6', 'languages': 'Python;PHP;SQL;Visual Basic', 'years': '1 - 5'}\n",
      "{'timestamp': '2024/03/26 10:34:02 am GMT-6', 'languages': 'Python;Java;C;C++;Perl', 'years': '5 - 10'}\n",
      "{'timestamp': '2024/03/26 10:35:29 am GMT-6', 'languages': 'Java;SQL;C++', 'years': '10 - 15'}\n"
     ]
    }
   ],
   "source": [
    "import csv\n",
    "\n",
    "with open('data/Survey-2024-Mar.csv') as file:\n",
    "    file.readline()  # Ignore first line (header)\n",
    "    reader = csv.DictReader(file, fieldnames=('timestamp', 'languages', 'years'))  # list of dicts with keys passed into fieldnames\n",
    "    for line in reader:\n",
    "        print(line)"
   ]
  },
  {
   "cell_type": "markdown",
   "id": "81329303",
   "metadata": {},
   "source": [
    "## Find number of languages known\n",
    "Print `\"{# known by class} / {# in list} languages known by this class (as %)\"`.\n",
    "\n",
    "E.g. **12/21 languages known by this class (57%)**"
   ]
  },
  {
   "cell_type": "code",
   "execution_count": null,
   "id": "78ef7a9b",
   "metadata": {
    "lines_to_next_cell": 2
   },
   "outputs": [],
   "source": []
  },
  {
   "cell_type": "markdown",
   "id": "396d076d",
   "metadata": {},
   "source": [
    "## List languages not known by anyone in the class"
   ]
  },
  {
   "cell_type": "code",
   "execution_count": null,
   "id": "2ecd73ad",
   "metadata": {},
   "outputs": [],
   "source": []
  },
  {
   "cell_type": "markdown",
   "id": "048b135a",
   "metadata": {},
   "source": [
    "## Rank languages by most commonly known\n",
    "Print each language as `\"{position}: {language} ({percent_known}%)\"`, in order from most to least known\n",
    "\n",
    "e.g. **1: Python (93%)**"
   ]
  },
  {
   "cell_type": "code",
   "execution_count": null,
   "id": "6a5b198b",
   "metadata": {},
   "outputs": [],
   "source": []
  }
 ],
 "metadata": {
  "jupytext": {
   "cell_metadata_filter": "-all",
   "formats": "auto:light,ipynb",
   "main_language": "python",
   "notebook_metadata_filter": "-all"
  },
  "kernelspec": {
   "display_name": "Python 3 (ipykernel)",
   "language": "python",
   "name": "python3"
  },
  "language_info": {
   "codemirror_mode": {
    "name": "ipython",
    "version": 3
   },
   "file_extension": ".py",
   "mimetype": "text/x-python",
   "name": "python",
   "nbconvert_exporter": "python",
   "pygments_lexer": "ipython3",
   "version": "3.11.4"
  }
 },
 "nbformat": 4,
 "nbformat_minor": 5
}
